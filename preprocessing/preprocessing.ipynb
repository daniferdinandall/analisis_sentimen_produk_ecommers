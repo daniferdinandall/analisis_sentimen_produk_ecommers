{
 "cells": [
  {
   "cell_type": "code",
   "execution_count": 1,
   "metadata": {},
   "outputs": [],
   "source": [
    "import os\n",
    "import pandas as pd\n",
    "import re\n",
    "from nltk.corpus import stopwords\n",
    "from nltk.tokenize import word_tokenize\n",
    "from Sastrawi.Stemmer.StemmerFactory import StemmerFactory  # Import StemmerFactory from Sastrawi"
   ]
  },
  {
   "cell_type": "code",
   "execution_count": 2,
   "metadata": {},
   "outputs": [
    {
     "name": "stderr",
     "output_type": "stream",
     "text": [
      "[nltk_data] Downloading package stopwords to\n",
      "[nltk_data]     C:\\Users\\aulia\\AppData\\Roaming\\nltk_data...\n",
      "[nltk_data]   Package stopwords is already up-to-date!\n"
     ]
    },
    {
     "data": {
      "text/plain": [
       "True"
      ]
     },
     "execution_count": 2,
     "metadata": {},
     "output_type": "execute_result"
    }
   ],
   "source": [
    "import nltk\n",
    "nltk.download('stopwords')"
   ]
  },
  {
   "cell_type": "code",
   "execution_count": 3,
   "metadata": {},
   "outputs": [
    {
     "name": "stderr",
     "output_type": "stream",
     "text": [
      "[nltk_data] Downloading package punkt to\n",
      "[nltk_data]     C:\\Users\\aulia\\AppData\\Roaming\\nltk_data...\n",
      "[nltk_data]   Package punkt is already up-to-date!\n"
     ]
    },
    {
     "data": {
      "text/plain": [
       "True"
      ]
     },
     "execution_count": 3,
     "metadata": {},
     "output_type": "execute_result"
    }
   ],
   "source": [
    "import nltk\n",
    "nltk.download('punkt')"
   ]
  },
  {
   "cell_type": "code",
   "execution_count": 46,
   "metadata": {},
   "outputs": [
    {
     "data": {
      "text/html": [
       "<div>\n",
       "<style scoped>\n",
       "    .dataframe tbody tr th:only-of-type {\n",
       "        vertical-align: middle;\n",
       "    }\n",
       "\n",
       "    .dataframe tbody tr th {\n",
       "        vertical-align: top;\n",
       "    }\n",
       "\n",
       "    .dataframe thead th {\n",
       "        text-align: right;\n",
       "    }\n",
       "</style>\n",
       "<table border=\"1\" class=\"dataframe\">\n",
       "  <thead>\n",
       "    <tr style=\"text-align: right;\">\n",
       "      <th></th>\n",
       "      <th>Ulasan</th>\n",
       "    </tr>\n",
       "  </thead>\n",
       "  <tbody>\n",
       "    <tr>\n",
       "      <th>0</th>\n",
       "      <td>sesuai pesanan sepatu bagus pengiriman cepat</td>\n",
       "    </tr>\n",
       "    <tr>\n",
       "      <th>1</th>\n",
       "      <td>sepatu jujur murah banget bagus sayangnya jahitan lepas outsolenya rapi mulus finis</td>\n",
       "    </tr>\n",
       "    <tr>\n",
       "      <th>2</th>\n",
       "      <td>udah dapet alas sepatunya mantap semoga awet</td>\n",
       "    </tr>\n",
       "    <tr>\n",
       "      <th>3</th>\n",
       "      <td>keren</td>\n",
       "    </tr>\n",
       "    <tr>\n",
       "      <th>4</th>\n",
       "      <td>barangnya bagus rapi berkualitas produk negeri ok pokoknya</td>\n",
       "    </tr>\n",
       "  </tbody>\n",
       "</table>\n",
       "</div>"
      ],
      "text/plain": [
       "                                                                                Ulasan\n",
       "0                                         sesuai pesanan sepatu bagus pengiriman cepat\n",
       "1  sepatu jujur murah banget bagus sayangnya jahitan lepas outsolenya rapi mulus finis\n",
       "2                                         udah dapet alas sepatunya mantap semoga awet\n",
       "3                                                                                keren\n",
       "4                           barangnya bagus rapi berkualitas produk negeri ok pokoknya"
      ]
     },
     "execution_count": 46,
     "metadata": {},
     "output_type": "execute_result"
    }
   ],
   "source": [
    "# Mengambil dataset dari folder 'dataset'\n",
    "dataset_path = 'dataset/Aerostreet1_clean.csv'\n",
    "df = pd.read_csv(dataset_path)\n",
    "df.head()"
   ]
  },
  {
   "cell_type": "code",
   "execution_count": 50,
   "metadata": {},
   "outputs": [
    {
     "name": "stdout",
     "output_type": "stream",
     "text": [
      "Ulasan    0\n",
      "dtype: int64\n"
     ]
    }
   ],
   "source": [
    "# Menghapus baris yang kososng pada kolom ulasan\n",
    "df = df.dropna(subset=['Ulasan'])\n",
    "# tampilkan informasi bahwa tidak ada baris yang kosong\n",
    "print(df.isnull().sum())"
   ]
  },
  {
   "cell_type": "code",
   "execution_count": 48,
   "metadata": {},
   "outputs": [
    {
     "name": "stdout",
     "output_type": "stream",
     "text": [
      "{'mungkinkah', 'dipertanyakan', 'kata', 'berujar', 'sementara', 'membuat', 'lain', 'kalaulah', 'oleh', 'jika', 'pak', 'sesegera', 'segalanya', 'wong', 'memerlukan', 'sebetulnya', 'betul', 'dahulu', 'dimulai', 'ucap', 'paling', 'tengah', 'balik', 'seorang', 'adapun', 'sering', 'untuk', 'hendak', 'lima', 'belum', 'sesudah', 'begitulah', 'bulan', 'berlalu', 'ke', 'sebesar', 'yakin', 'bakal', 'tetap', 'berkata', 'ingat', 'menyeluruh', 'ingat-ingat', 'sudahkah', 'tinggi', 'enggak', 'mempersoalkan', 'sebegini', 'akhiri', 'diberi', 'dipergunakan', 'sana', 'ataupun', 'sebutlah', 'nya', 'sajalah', 'menanyakan', 'sambil', 'kalau', 'waktunya', 'cukuplah', 'ditunjukkannya', 'sedikitnya', 'ataukah', 'sama', 'tersebut', 'kamu', 'deh', 'bermacam', 'diperkirakan', 'diperlukannya', 'sinilah', 'benarkah', 'meski', 'terus', 'ditambahkan', 'bagaimana', 'diungkapkan', 'seingat', 'seolah-olah', 'beginian', 'terlebih', 'beri', 'kini', 'didapat', 'sebaliknya', 'selain', 'mengatakan', 'bagai', 'menegaskan', 'kira-kira', 'menyangkut', 'menyiapkan', 'apabila', 'agak', 'dikira', 'serupa', 'kala', 'kenapa', 'ada', 'katakan', 'dimulailah', 'terkira', 'toh', 'mengucapkannya', 'sebenarnya', 'pada', 'makanya', 'rasanya', 'kapankah', 'justru', 'menggunakan', 'misalkan', 'sekalian', 'mampu', 'tidakkah', 'ibaratkan', 'menyatakan', 'sekali-kali', 'ungkapnya', 'keinginan', 'kinilah', 'memperbuat', 'sekaligus', 'dijelaskannya', 'pun', 'belakang', 'menantikan', 'dgn', 'sesampai', 'seluruhnya', 'semisal', 'diperbuat', 'baik', 'menyebutkan', 'katanya', 'begini', 'berakhirlah', 'antaranya', 'bermula', 'sela', 'tadinya', 'berapalah', 'bagaimanakah', 'lagi', 'jadilah', 'tentu', 'dimaksud', 'sekadar', 'merekalah', 'yaitu', 'berakhirnya', 'dituturkannya', 'dikarenakan', 'mendapatkan', 'berkeinginan', 'berikut', 'menjelaskan', 'sehingga', 'rasa', 'bisa', 'mengingat', 'tanpa', 'termasuk', 'awal', 'ditujukan', 'semisalnya', 'inginkan', 'olehnya', 'diibaratkan', 'sejauh', 'ucapnya', 'mengibaratkannya', 'berarti', 'janganlah', 'didatangkan', 'percuma', 'sepantasnyalah', 'masih', 'setiap', 'menaiki', 'macam', 'berturut-turut', 'nantinya', 'akhir', 'sekurang-kurangnya', 'itukah', 'selama-lamanya', 'sedangkan', 'sepertinya', 'bagian', 'banyak', 'walau', 'belumlah', 'hanyalah', 'selalu', 'memintakan', 'jauh', 'antara', 'bahkan', 'menjawab', 'pertanyaan', 'tegasnya', 'ditunjuki', 'amat', 'sudahlah', 'yg', 'pihaknya', 'disebutkannya', 'demi', 'lainnya', 'mengungkapkan', 'sejumlah', 'manakala', 'diketahui', 'telah', 'siapa', 'dilalui', 'jawaban', 'tadi', 'tiba', 'tdk', 'berlainan', 'aku', 'demikian', 'selanjutnya', 'inilah', 'seseorang', 'jawabnya', 'sebutnya', 'meminta', 'mau', 'punya', 'diingat', 'tempat', 'tandasnya', 'terjadilah', 'biasanya', 'guna', 'tutur', 'baru', 'mempunyai', 'disebutkan', 'lalu', 'enggaknya', 'berikan', 'terhadap', 'belakangan', 'menunjuki', 'seluruh', 'ditunjukkan', 'mendatang', 'bahwa', 'kami', 'haruslah', 'seolah', 'maupun', 'mengingatkan', 'antar', 'berbagai', 'pasti', 'sama-sama', 'beberapa', 'siapakah', 'hingga', 'sebut', 'pertama-tama', 'diibaratkannya', 'ditegaskan', 'semuanya', 'tidaklah', 'bung', 'hendaklah', 'terlihat', 'menurut', 'buat', 'apa', 'keseluruhannya', 'umum', 'memastikan', 'hari', 'daripada', 'kalaupun', 'betulkah', 'memihak', 'jumlahnya', 'memang', 'cuma', 'semasih', 'jelaskan', 'diucapkannya', 'menanya', 'dan', 'sepanjang', 'terhadapnya', 'meyakinkan', 'semata-mata', 'karena', 'sendiri', 'cukupkah', 'teringat-ingat', 'besar', 'demikianlah', 'dong', 'cara', 'lah', 'jadinya', 'kapan', 'beginikah', 'dulu', 'diantaranya', 'dapat', 'misal', 'sekali', 'namun', 'mendatangi', 'andalah', 'semampunya', 'segala', 'dijelaskan', 'tambahnya', 'bolehkah', 'bagaimanapun', 'sampai-sampai', 'pihak', 'depan', 'digunakan', 'nyaris', 'sesaat', 'satu', 'soal', 'berlangsung', 'dibuat', 'terutama', 'mempertanyakan', 'dilakukan', 'jelas', 'sebagian', 'ibarat', 'perlunya', 'dimungkinkan', 'penting', 'sayalah', 'empat', 'pertama', 'terdahulu', 'kelihatan', 'nyatanya', 'melainkan', 'keadaan', 'agaknya', 'memisalkan', 'harus', 'selamanya', 'bukan', 'kapanpun', 'sesuatu', 'berupa', 'bisakah', 'tanyakan', 'mempersiapkan', 'kurang', 'tak', 'berkali-kali', 'entah', 'sebagai', 'kamilah', 'setelah', 'keseluruhan', 'sesudahnya', 'masing-masing', 'lanjut', 'benar', 'terasa', 'mulai', 'bersiap-siap', 'serta', 'minta', 'tentang', 'sdh', 'lamanya', 'terdapat', 'diucapkan', 'berturut', 'sepantasnya', 'dipastikan', 'semacam', 'mula', 'ibaratnya', 'kitalah', 'supaya', 'tampaknya', 'apatah', 'mungkin', 'tampak', 'sendirian', 'tertentu', 'per', 'malah', 'pernah', 'siap', 'melihatnya', 'umumnya', 'pentingnya', 'sebisanya', 'sedikit', 'kebetulan', 'kelihatannya', 'bermacam-macam', 'sebaiknya', 'harusnya', 'mengatakannya', 'sendirinya', 'sesama', 'dari', 'sebaik', 'misalnya', 'akhirnya', 'berapa', 'mempergunakan', 'waduh', 'dikatakannya', 'dipunyai', 'bertanya-tanya', 'katakanlah', 'inikah', 'padanya', 'sekiranya', 'bilakah', 'kemungkinannya', 'mereka', 'jikalau', 'hendaknya', 'tersampaikan', 'caranya', 'diperlihatkan', 'agar', 'dimaksudnya', 'semampu', 'anda', 'menanyai', 'jelasnya', 'bertutur', 'masalah', 'kemungkinan', 'pastilah', 'dia', 'tidak', 'asalkan', 'ngga', 'setengah', 'bertanya', 'mengerjakan', 'apakah', 'sekurangnya', 'mana', 'sesuatunya', 'bila', 'sampaikan', 'tetapi', 'seberapa', 'dibuatnya', 'sebelumnya', 'bersama-sama', 'seterusnya', 'dini', 'setinggi', 'memperlihatkan', 'dimaksudkan', 'merupakan', 'sesekali', 'menyampaikan', 'setidaknya', 'tiba-tiba', 'di', 'kasus', 'terdiri', 'menandaskan', 'bersiap', 'lewat', 'bapak', 'memulai', 'bagi', 'memungkinkan', 'mengucapkan', 'sebelum', 'mendapat', 'tanya', 'masalahnya', 'berjumlah', 'diperbuatnya', 'tersebutlah', 'secukupnya', 'tpi', 'dimisalkan', 'memberi', 'saling', 'tegas', 'apaan', 'maka', 'sudah', 'berkenaan', 'sedemikian', 'diinginkan', 'bukannya', 'seenaknya', 'ini', 'kecil', 'luar', 'perlukah', 'dilihat', 'rp', 'semasa', 'ribu', 'gunakan', 'ibu', 'tiga', 'sangatlah', 'tunjuk', 'ungkap', 'dialah', 'dituturkan', 'kepadanya', 'menunjukkan', 'dikatakan', 'melalui', 'benarlah', 'diri', 'selaku', 'kesampaian', 'itu', 'bahwasanya', 'semaunya', 'tandas', 'ketika', 'begitukah', 'seketika', 'dekat', 'mampukah', 'lanjutnya', 'bakalan', 'rata', 'menanti', 'terjadi', 'keduanya', 'dijawab', 'ujarnya', 'sangat', 'seringnya', 'tepat', 'ikut', 'diketahuinya', 'seperlunya', 'seperti', 'ditanya', 'entahlah', 'menuturkan', 'sebagainya', 'ditanyakan', 'kelamaan', 'terbanyak', 'nanti', 'tahu', 'datang', 'pula', 'kiranya', 'setibanya', 'tapi', 'sedang', 'mengibaratkan', 'sebagaimana', 'semata', 'kepada', 'sebanyak', 'semula', 'yang', 'sebab', 'akankah', 'kan', 'sebaik-baiknya', 'berkehendak', 'akan', 'diberikan', 'kemudian', 'dipersoalkan', 'sampai', 'lagian', 'padahal', 'suatu', 'sebegitu', 'mengira', 'menuju', 'semakin', 'kamulah', 'mengenai', 'sebabnya', 'jawab', 'tentulah', 'sebuah', 'diberikannya', 'menginginkan', 'soalnya', 'teringat', 'segera', 'mendatangkan', 'krn', 'melakukan', 'ditunjuknya', 'karenanya', 'lebih', 'bukanlah', 'secara', 'wah', 'tuturnya', 'walaupun', 'dalam', 'siapapun', 'dikerjakan', 'ditandaskan', 'melihat', 'menjadi', 'se', 'pukul', 'waktu', 'turut', 'hanya', 'keterlaluan', 'kita', 'dg', 'amatlah', 'makin', 'hal', 'bawah', 'ialah', 'malahan', 'menunjuknya', 'dimulainya', 'tanyanya', 'artinya', 'diperlukan', 'dirinya', 'selama', 'mengapa', 'bekerja', 'berakhir', 'apalagi', 'begitu', 'bermaksud', 'pantas', 'juga', 'ingin', 'diakhiri', 'hampir', 'awalnya', 'tambah', 'usah', 'berada', 'begitupun', 'khususnya', 'sepihak', 'sewaktu', 'jelaslah', 'berikutnya', 'dengan', 'menghendaki', 'jumlah', 'wahai', 'diantara', 'ternyata', 'usai', 'yakni', 'berapapun', 'disebut', 'biasa', 'terakhir', 'disinilah', 'asal', 'kok', 'saat', 'mengetahui', 'dua', 'tahun', 'menambahkan', 'meskipun', 'para', 'bersama', 'saja', 'lama', 'terjadinya', 'adanya', 'disini', 'setempat', 'bagaikan', 'dimintai', 'sekecil', 'kembali', 'diminta', 'kedua', 'masa', 'sekitarnya', 'ditunjuk', 'berawal', 'tertuju', 'tiap', 'masing', 'mirip', 'memperkirakan', 'kalian', 'atau', 'dimaksudkannya', 'mengakhiri', 'memberikan', 'inginkah', 'merasa', 'ditanyai', 'kelima', 'ujar', 'meyakini', 'diakhirinya', 'saatnya', 'mulailah', 'saya', 'pertanyakan', 'sekitar', 'jangankan', 'diingatkan', 'tentunya', 'jg', 'persoalan', 'nah', 'berlebihan', 'bolehlah', 'berdatangan', 'sini', 'boleh', 'bukankah', 'berapakah', 'cukup', 'seharusnya', 'disampaikan', 'masihkah', 'keluar', 'jadi', 'perlu', 'sekadarnya', 'terlalu', 'menanti-nanti', 'mulanya', 'sekarang', 'kira', 'semua', 'itulah', 'akulah', 'sekalipun', 'atas', 'sempat', 'sy', 'sejenak', 'seusai', 'beginilah', 'menunjuk', 'manalagi', 'naik', 'rupanya', 'ia', 'setiba', 'jangan', 'panjang', 'adalah', 'setidak-tidaknya', 'sejak'}\n"
     ]
    }
   ],
   "source": [
    "# Tambahkan stopwords tambahan dan kata-kata slang\n",
    "additional_stopwords = ['yg','rp','ribu', 'nya', 'dg', 'dgn', 'tdk', 'tpi', 'jg', 'krn', 'sy', 'sdh', 'lah', 'deh', 'ngga']\n",
    "stopwords_list = set(stopwords.words('indonesian') + additional_stopwords)\n",
    "\n",
    "print(stopwords_list)"
   ]
  },
  {
   "cell_type": "code",
   "execution_count": 49,
   "metadata": {},
   "outputs": [
    {
     "data": {
      "text/html": [
       "<div>\n",
       "<style scoped>\n",
       "    .dataframe tbody tr th:only-of-type {\n",
       "        vertical-align: middle;\n",
       "    }\n",
       "\n",
       "    .dataframe tbody tr th {\n",
       "        vertical-align: top;\n",
       "    }\n",
       "\n",
       "    .dataframe thead th {\n",
       "        text-align: right;\n",
       "    }\n",
       "</style>\n",
       "<table border=\"1\" class=\"dataframe\">\n",
       "  <thead>\n",
       "    <tr style=\"text-align: right;\">\n",
       "      <th></th>\n",
       "      <th>Ulasan</th>\n",
       "    </tr>\n",
       "  </thead>\n",
       "  <tbody>\n",
       "    <tr>\n",
       "      <th>0</th>\n",
       "      <td>sesuai pesanan sepatu bagus pengiriman cepat</td>\n",
       "    </tr>\n",
       "    <tr>\n",
       "      <th>1</th>\n",
       "      <td>sepatu jujur murah banget bagus sayangnya jahitan lepas outsolenya rapi mulus finis</td>\n",
       "    </tr>\n",
       "    <tr>\n",
       "      <th>2</th>\n",
       "      <td>udah dapet alas sepatunya mantap semoga awet</td>\n",
       "    </tr>\n",
       "    <tr>\n",
       "      <th>3</th>\n",
       "      <td>keren</td>\n",
       "    </tr>\n",
       "    <tr>\n",
       "      <th>4</th>\n",
       "      <td>barangnya bagus rapi berkualitas produk negeri pokoknya</td>\n",
       "    </tr>\n",
       "    <tr>\n",
       "      <th>5</th>\n",
       "      <td>udh bingung ngasih ulasan bagus gitu aja</td>\n",
       "    </tr>\n",
       "    <tr>\n",
       "      <th>6</th>\n",
       "      <td>sip semoga jebol karna dipake lumayan enak empuk keras</td>\n",
       "    </tr>\n",
       "    <tr>\n",
       "      <th>7</th>\n",
       "      <td>kualitas bagus proses order jam udh dikirimterima kasih</td>\n",
       "    </tr>\n",
       "    <tr>\n",
       "      <th>8</th>\n",
       "      <td>bagus keren ajib bangga dengn prodak lokal lokal gentar</td>\n",
       "    </tr>\n",
       "    <tr>\n",
       "      <th>9</th>\n",
       "      <td>sesuai gambar allhamdulilah anak senang</td>\n",
       "    </tr>\n",
       "    <tr>\n",
       "      <th>10</th>\n",
       "      <td>modelnya keren harganya pas kantong bahannya bagus mantap</td>\n",
       "    </tr>\n",
       "    <tr>\n",
       "      <th>11</th>\n",
       "      <td>bahannya awet</td>\n",
       "    </tr>\n",
       "    <tr>\n",
       "      <th>12</th>\n",
       "      <td>kali beli produk aerostreet sepatunya bagus empuk banget kualitasnya bagus sesuai hargameskipun kardus penyok sepatunya amanrespo</td>\n",
       "    </tr>\n",
       "    <tr>\n",
       "      <th>13</th>\n",
       "      <td>barang bagus harganya murah pengiriman cepat seller tokopedia emang top dah</td>\n",
       "    </tr>\n",
       "    <tr>\n",
       "      <th>14</th>\n",
       "      <td>barang sesuai pesanan kualitas mantap lokaltakgentar</td>\n",
       "    </tr>\n",
       "    <tr>\n",
       "      <th>15</th>\n",
       "      <td>packing hancur berantakan</td>\n",
       "    </tr>\n",
       "    <tr>\n",
       "      <th>16</th>\n",
       "      <td>kalo sepatu lumayan sesuai harga</td>\n",
       "    </tr>\n",
       "    <tr>\n",
       "      <th>17</th>\n",
       "      <td>respon cepat produk sesuai harga potongan rapi pemasangan tali lurus</td>\n",
       "    </tr>\n",
       "    <tr>\n",
       "      <th>18</th>\n",
       "      <td>barangnya selamat</td>\n",
       "    </tr>\n",
       "    <tr>\n",
       "      <th>19</th>\n",
       "      <td>barang sesuai ukuran pas</td>\n",
       "    </tr>\n",
       "  </tbody>\n",
       "</table>\n",
       "</div>"
      ],
      "text/plain": [
       "                                                                                                                               Ulasan\n",
       "0                                                                                        sesuai pesanan sepatu bagus pengiriman cepat\n",
       "1                                                 sepatu jujur murah banget bagus sayangnya jahitan lepas outsolenya rapi mulus finis\n",
       "2                                                                                        udah dapet alas sepatunya mantap semoga awet\n",
       "3                                                                                                                               keren\n",
       "4                                                                             barangnya bagus rapi berkualitas produk negeri pokoknya\n",
       "5                                                                                            udh bingung ngasih ulasan bagus gitu aja\n",
       "6                                                                              sip semoga jebol karna dipake lumayan enak empuk keras\n",
       "7                                                                             kualitas bagus proses order jam udh dikirimterima kasih\n",
       "8                                                                             bagus keren ajib bangga dengn prodak lokal lokal gentar\n",
       "9                                                                                             sesuai gambar allhamdulilah anak senang\n",
       "10                                                                          modelnya keren harganya pas kantong bahannya bagus mantap\n",
       "11                                                                                                                      bahannya awet\n",
       "12  kali beli produk aerostreet sepatunya bagus empuk banget kualitasnya bagus sesuai hargameskipun kardus penyok sepatunya amanrespo\n",
       "13                                                        barang bagus harganya murah pengiriman cepat seller tokopedia emang top dah\n",
       "14                                                                               barang sesuai pesanan kualitas mantap lokaltakgentar\n",
       "15                                                                                                          packing hancur berantakan\n",
       "16                                                                                                   kalo sepatu lumayan sesuai harga\n",
       "17                                                               respon cepat produk sesuai harga potongan rapi pemasangan tali lurus\n",
       "18                                                                                                                  barangnya selamat\n",
       "19                                                                                                           barang sesuai ukuran pas"
      ]
     },
     "execution_count": 49,
     "metadata": {},
     "output_type": "execute_result"
    }
   ],
   "source": [
    "# Membuat fungsi untuk menghapus stopwords menghilangkan emoticon, angka, symbol, tanda baca, dan mengubah menjadi huruf kecil,tokenizer,gabungkan kembali\n",
    "def clean_text(text):\n",
    "    text = re.sub(r'@[A-Za-z0-9]+', '', text)  # Menghapus @mentions\n",
    "    text = re.sub(r'#', '', text)  # Menghapus hashtag\n",
    "    text = re.sub(r'RT[\\s]+', '', text)  # Menghapus RT\n",
    "    text = re.sub(r'https?:\\/\\/\\S+', '', text)  # Menghapus hyperlink\n",
    "    text = re.sub(r'[0-9]+', '', text)  # Menghapus angka\n",
    "    text = re.sub(r'[^\\w\\s]', '', text)  # Menghapus symbol\n",
    "    text = re.sub(r'[^\\x00-\\x7F]+', '', text)  # Menghapus emoticon\n",
    "    text = re.sub(r'\"', '', text) # Menghapus tanda kutip\n",
    "    text = re.sub(r'\\b\\w{1,2}\\b', '', text)  # Menghapus kata dengan panjang 1-2 karakter\n",
    "    text = re.sub(r'\\s+', ' ', text)  # Menghapus spasi ekstra\n",
    "    text = text.strip()  # Menghapus spasi di awal dan akhir\n",
    "    \n",
    "    text = text.lower()  # Mengubah menjadi huruf kecil\n",
    "    text = word_tokenize(text)  # Tokenisasi\n",
    "    text = [word for word in text if word not in stopwords_list]  # Menghapus stopwords\n",
    "    text = ' '.join(text)  # Menggabungkan kembali\n",
    "    return text\n",
    "\n",
    "# Menerapkan fungsi clean_text pada kolom ulasan dan tampilkan pada tabel full lebarnya\n",
    "df['Ulasan'] = df['Ulasan'].apply(clean_text)\n",
    "pd.set_option('display.max_colwidth', None)\n",
    "df.head(20)\n"
   ]
  },
  {
   "cell_type": "code",
   "execution_count": 51,
   "metadata": {},
   "outputs": [],
   "source": [
    "# hasil clean text jadikan csv\n",
    "df.to_csv('dataset/Aerostreet1_clean1.csv', index=False)"
   ]
  },
  {
   "cell_type": "code",
   "execution_count": 32,
   "metadata": {},
   "outputs": [
    {
     "data": {
      "text/html": [
       "<div>\n",
       "<style scoped>\n",
       "    .dataframe tbody tr th:only-of-type {\n",
       "        vertical-align: middle;\n",
       "    }\n",
       "\n",
       "    .dataframe tbody tr th {\n",
       "        vertical-align: top;\n",
       "    }\n",
       "\n",
       "    .dataframe thead th {\n",
       "        text-align: right;\n",
       "    }\n",
       "</style>\n",
       "<table border=\"1\" class=\"dataframe\">\n",
       "  <thead>\n",
       "    <tr style=\"text-align: right;\">\n",
       "      <th></th>\n",
       "      <th>Ulasan</th>\n",
       "    </tr>\n",
       "  </thead>\n",
       "  <tbody>\n",
       "    <tr>\n",
       "      <th>0</th>\n",
       "      <td>sesuai pesan sepatu bagus kirim cepat</td>\n",
       "    </tr>\n",
       "    <tr>\n",
       "      <th>1</th>\n",
       "      <td>sepatu jujur murah banget bagus sayang jahit lepas outsolenya rapi mulus finis</td>\n",
       "    </tr>\n",
       "    <tr>\n",
       "      <th>2</th>\n",
       "      <td>udah dapet alas sepatu mantap moga awet</td>\n",
       "    </tr>\n",
       "    <tr>\n",
       "      <th>3</th>\n",
       "      <td>keren</td>\n",
       "    </tr>\n",
       "    <tr>\n",
       "      <th>4</th>\n",
       "      <td>barang bagus rapi kualitas produk negeri pokok</td>\n",
       "    </tr>\n",
       "    <tr>\n",
       "      <th>5</th>\n",
       "      <td>udh bingung ngasih ulas bagus gitu aja</td>\n",
       "    </tr>\n",
       "    <tr>\n",
       "      <th>6</th>\n",
       "      <td>sip moga jebol karna dipake lumayan enak empuk keras</td>\n",
       "    </tr>\n",
       "    <tr>\n",
       "      <th>7</th>\n",
       "      <td>kualitas bagus proses order jam udh dikirimterima kasih</td>\n",
       "    </tr>\n",
       "    <tr>\n",
       "      <th>8</th>\n",
       "      <td>bagus keren ajib bangga dengn prodak lokal lokal gentar</td>\n",
       "    </tr>\n",
       "    <tr>\n",
       "      <th>9</th>\n",
       "      <td>sesuai gambar allhamdulilah anak senang</td>\n",
       "    </tr>\n",
       "    <tr>\n",
       "      <th>10</th>\n",
       "      <td>model keren harga pas kantong bahan bagus mantap</td>\n",
       "    </tr>\n",
       "    <tr>\n",
       "      <th>11</th>\n",
       "      <td>bahan awet</td>\n",
       "    </tr>\n",
       "    <tr>\n",
       "      <th>12</th>\n",
       "      <td>kali beli produk aerostreet sepatu bagus empuk banget kualitas bagus sesuai hargameskipun kardus penyok sepatu amanrespo</td>\n",
       "    </tr>\n",
       "    <tr>\n",
       "      <th>13</th>\n",
       "      <td>barang bagus harga murah kirim cepat seller tokopedia emang top dah</td>\n",
       "    </tr>\n",
       "    <tr>\n",
       "      <th>14</th>\n",
       "      <td>barang sesuai pesan kualitas mantap lokaltakgentar</td>\n",
       "    </tr>\n",
       "    <tr>\n",
       "      <th>15</th>\n",
       "      <td>packing hancur beranta</td>\n",
       "    </tr>\n",
       "    <tr>\n",
       "      <th>16</th>\n",
       "      <td>kalo sepatu lumayan sesuai harga</td>\n",
       "    </tr>\n",
       "    <tr>\n",
       "      <th>17</th>\n",
       "      <td>respon cepat produk sesuai harga potong rapi pasang tali lurus</td>\n",
       "    </tr>\n",
       "    <tr>\n",
       "      <th>18</th>\n",
       "      <td>barang selamat</td>\n",
       "    </tr>\n",
       "    <tr>\n",
       "      <th>19</th>\n",
       "      <td>barang sesuai ukur pas</td>\n",
       "    </tr>\n",
       "  </tbody>\n",
       "</table>\n",
       "</div>"
      ],
      "text/plain": [
       "                                                                                                                      Ulasan\n",
       "0                                                                                      sesuai pesan sepatu bagus kirim cepat\n",
       "1                                             sepatu jujur murah banget bagus sayang jahit lepas outsolenya rapi mulus finis\n",
       "2                                                                                    udah dapet alas sepatu mantap moga awet\n",
       "3                                                                                                                      keren\n",
       "4                                                                             barang bagus rapi kualitas produk negeri pokok\n",
       "5                                                                                     udh bingung ngasih ulas bagus gitu aja\n",
       "6                                                                       sip moga jebol karna dipake lumayan enak empuk keras\n",
       "7                                                                    kualitas bagus proses order jam udh dikirimterima kasih\n",
       "8                                                                    bagus keren ajib bangga dengn prodak lokal lokal gentar\n",
       "9                                                                                    sesuai gambar allhamdulilah anak senang\n",
       "10                                                                          model keren harga pas kantong bahan bagus mantap\n",
       "11                                                                                                                bahan awet\n",
       "12  kali beli produk aerostreet sepatu bagus empuk banget kualitas bagus sesuai hargameskipun kardus penyok sepatu amanrespo\n",
       "13                                                       barang bagus harga murah kirim cepat seller tokopedia emang top dah\n",
       "14                                                                        barang sesuai pesan kualitas mantap lokaltakgentar\n",
       "15                                                                                                    packing hancur beranta\n",
       "16                                                                                          kalo sepatu lumayan sesuai harga\n",
       "17                                                            respon cepat produk sesuai harga potong rapi pasang tali lurus\n",
       "18                                                                                                            barang selamat\n",
       "19                                                                                                    barang sesuai ukur pas"
      ]
     },
     "execution_count": 32,
     "metadata": {},
     "output_type": "execute_result"
    }
   ],
   "source": [
    "# Setelah cleaning, kita akan melakukan stemming\n",
    "factory = StemmerFactory()\n",
    "stemmer = factory.create_stemmer()\n",
    "\n",
    "def stem_text(text):\n",
    "    return stemmer.stem(text)\n",
    "\n",
    "df['Ulasan'] = df['Ulasan'].apply(stem_text)\n",
    "df.head(20)"
   ]
  },
  {
   "cell_type": "code",
   "execution_count": 33,
   "metadata": {},
   "outputs": [],
   "source": [
    "# simpan ke csv hasil steming\n",
    "df.to_csv('dataset/Aerostreet1_steming.csv', index=False)"
   ]
  },
  {
   "cell_type": "code",
   "execution_count": null,
   "metadata": {},
   "outputs": [],
   "source": []
  }
 ],
 "metadata": {
  "kernelspec": {
   "display_name": "Python 3",
   "language": "python",
   "name": "python3"
  },
  "language_info": {
   "codemirror_mode": {
    "name": "ipython",
    "version": 3
   },
   "file_extension": ".py",
   "mimetype": "text/x-python",
   "name": "python",
   "nbconvert_exporter": "python",
   "pygments_lexer": "ipython3",
   "version": "3.12.0"
  }
 },
 "nbformat": 4,
 "nbformat_minor": 2
}
