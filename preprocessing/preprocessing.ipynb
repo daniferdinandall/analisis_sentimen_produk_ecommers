{
 "cells": [
  {
   "cell_type": "code",
   "execution_count": 2,
   "metadata": {},
   "outputs": [],
   "source": [
    "import os\n",
    "import pandas as pd\n",
    "import re\n",
    "from nltk.corpus import stopwords\n",
    "from nltk.tokenize import word_tokenize\n",
    "from Sastrawi.Stemmer.StemmerFactory import StemmerFactory  # Import StemmerFactory from Sastrawi"
   ]
  },
  {
   "cell_type": "code",
   "execution_count": 3,
   "metadata": {},
   "outputs": [
    {
     "name": "stderr",
     "output_type": "stream",
     "text": [
      "[nltk_data] Downloading package stopwords to\n",
      "[nltk_data]     C:\\Users\\aulia\\AppData\\Roaming\\nltk_data...\n",
      "[nltk_data]   Package stopwords is already up-to-date!\n"
     ]
    },
    {
     "data": {
      "text/plain": [
       "True"
      ]
     },
     "execution_count": 3,
     "metadata": {},
     "output_type": "execute_result"
    }
   ],
   "source": [
    "import nltk\n",
    "nltk.download('stopwords')"
   ]
  },
  {
   "cell_type": "code",
   "execution_count": 4,
   "metadata": {},
   "outputs": [
    {
     "name": "stderr",
     "output_type": "stream",
     "text": [
      "[nltk_data] Downloading package punkt to\n",
      "[nltk_data]     C:\\Users\\aulia\\AppData\\Roaming\\nltk_data...\n",
      "[nltk_data]   Package punkt is already up-to-date!\n"
     ]
    },
    {
     "data": {
      "text/plain": [
       "True"
      ]
     },
     "execution_count": 4,
     "metadata": {},
     "output_type": "execute_result"
    }
   ],
   "source": [
    "import nltk\n",
    "nltk.download('punkt')"
   ]
  },
  {
   "cell_type": "code",
   "execution_count": 15,
   "metadata": {},
   "outputs": [
    {
     "data": {
      "text/html": [
       "<div>\n",
       "<style scoped>\n",
       "    .dataframe tbody tr th:only-of-type {\n",
       "        vertical-align: middle;\n",
       "    }\n",
       "\n",
       "    .dataframe tbody tr th {\n",
       "        vertical-align: top;\n",
       "    }\n",
       "\n",
       "    .dataframe thead th {\n",
       "        text-align: right;\n",
       "    }\n",
       "</style>\n",
       "<table border=\"1\" class=\"dataframe\">\n",
       "  <thead>\n",
       "    <tr style=\"text-align: right;\">\n",
       "      <th></th>\n",
       "      <th>Ulasan</th>\n",
       "    </tr>\n",
       "  </thead>\n",
       "  <tbody>\n",
       "    <tr>\n",
       "      <th>0</th>\n",
       "      <td>keren</td>\n",
       "    </tr>\n",
       "    <tr>\n",
       "      <th>1</th>\n",
       "      <td>bagus, semoga awet</td>\n",
       "    </tr>\n",
       "    <tr>\n",
       "      <th>2</th>\n",
       "      <td>Oke lah..</td>\n",
       "    </tr>\n",
       "    <tr>\n",
       "      <th>3</th>\n",
       "      <td>nyaman dipakai, model oke, sol tebal, ukuran pas</td>\n",
       "    </tr>\n",
       "    <tr>\n",
       "      <th>4</th>\n",
       "      <td>barang di Terima dalam keadaan baik, pengiriman super cepat, bahan bagus, over all oke</td>\n",
       "    </tr>\n",
       "  </tbody>\n",
       "</table>\n",
       "</div>"
      ],
      "text/plain": [
       "                                                                                   Ulasan\n",
       "0                                                                                   keren\n",
       "1                                                                      bagus, semoga awet\n",
       "2                                                                               Oke lah..\n",
       "3                                        nyaman dipakai, model oke, sol tebal, ukuran pas\n",
       "4  barang di Terima dalam keadaan baik, pengiriman super cepat, bahan bagus, over all oke"
      ]
     },
     "execution_count": 15,
     "metadata": {},
     "output_type": "execute_result"
    }
   ],
   "source": [
    "# Mengambil dataset dari folder 'dataset'\n",
    "dataset_path = 'dataset/Aerostreet7.csv'\n",
    "df = pd.read_csv(dataset_path)\n",
    "df.head()"
   ]
  },
  {
   "cell_type": "code",
   "execution_count": 16,
   "metadata": {},
   "outputs": [
    {
     "name": "stdout",
     "output_type": "stream",
     "text": [
      "Ulasan    0\n",
      "dtype: int64\n"
     ]
    }
   ],
   "source": [
    "# Menghapus baris yang kososng pada kolom ulasan\n",
    "df = df.dropna(subset=['Ulasan'])\n",
    "# tampilkan informasi bahwa tidak ada baris yang kosong\n",
    "print(df.isnull().sum())"
   ]
  },
  {
   "cell_type": "code",
   "execution_count": 17,
   "metadata": {},
   "outputs": [
    {
     "name": "stdout",
     "output_type": "stream",
     "text": [
      "{'lanjut', 'semaunya', 'selama-lamanya', 'sewaktu', 'selalu', 'seterusnya', 'empat', 'memerlukan', 'janganlah', 'masing', 'juga', 'ucap', 'menginginkan', 'seketika', 'tentang', 'berkehendak', 'ditunjukkannya', 'tampaknya', 'bakalan', 'dulu', 'kelima', 'apa', 'menanya', 'mempergunakan', 'sedemikian', 'keterlaluan', 'hari', 'terdiri', 'merekalah', 'setidaknya', 'memastikan', 'tandas', 'disebut', 'bapak', 'kira-kira', 'meskipun', 'malahan', 'kepadanya', 'menanti-nanti', 'meyakinkan', 'berarti', 'belakang', 'agak', 'meski', 'terlebih', 'jawaban', 'jumlahnya', 'pun', 'membuat', 'terbanyak', 'atau', 'kalaupun', 'seenaknya', 'akankah', 'kelihatannya', 'sekurangnya', 'mau', 'menyeluruh', 'benarlah', 'sepantasnya', 'adapun', 'sempat', 'oleh', 'mulanya', 'sebetulnya', 'berakhirlah', 'dimulainya', 'serupa', 'ketika', 'seringnya', 'mulailah', 'inilah', 'kapanpun', 'kepada', 'bermaksud', 'diantaranya', 'hendak', 'dimulai', 'lainnya', 'pentingnya', 'ingat', 'agar', 'harus', 'berupa', 'bersama', 'sekitar', 'hal', 'yg', 'ialah', 'tahun', 'bermacam-macam', 'kemungkinan', 'diucapkannya', 'misalkan', 'sana', 'paling', 'soal', 'dituturkan', 'tiba', 'belumlah', 'teringat', 'apatah', 'setidak-tidaknya', 'memberikan', 'pukul', 'antaranya', 'akan', 'sama', 'ditambahkan', 'sama-sama', 'sendiri', 'menandaskan', 'masing-masing', 'manalagi', 'keinginan', 'akhirnya', 'sekadar', 'semula', 'disebutkannya', 'seingat', 'bolehlah', 'katakan', 'pihaknya', 'memperbuat', 'hanya', 'awalnya', 'sebisanya', 'awal', 'maupun', 'apakah', 'terakhir', 'kamilah', 'ditujukan', 'ibu', 'walaupun', 'inginkan', 'mengucapkannya', 'tdk', 'berturut-turut', 'dalam', 'jawabnya', 'ke', 'mengucapkan', 'sekarang', 'sekecil', 'seluruh', 'demikian', 'kapankah', 'tiap', 'sebegitu', 'padanya', 'walau', 'hendaknya', 'jelas', 'sekaligus', 'andalah', 'ditanyakan', 'dahulu', 'umum', 'berikutnya', 'betulkah', 'diungkapkan', 'kedua', 'segera', 'mampu', 'diantara', 'segalanya', 'terjadi', 'setengah', 'ternyata', 'bagaikan', 'dikarenakan', 'sedang', 'balik', 'berlainan', 'sini', 'diperkirakan', 'keduanya', 'khususnya', 'karenanya', 'amat', 'lah', 'sesudahnya', 'krn', 'sebaliknya', 'dipersoalkan', 'sampaikan', 'kinilah', 'tersebut', 'keseluruhan', 'kira', 'diperlukannya', 'kenapa', 'sepertinya', 'asal', 'sebagaimana', 'kasus', 'sebut', 'mengetahui', 'tentu', 'tutur', 'inikah', 'berkali-kali', 'bung', 'diakhiri', 'belum', 'tersampaikan', 'itulah', 'berlangsung', 'memulai', 'mengatakan', 'jelaslah', 'semacam', 'disampaikan', 'tinggi', 'dgn', 'usah', 'ujar', 'belakangan', 'berapa', 'bisakah', 'menegaskan', 'mungkin', 'tetapi', 'pastilah', 'bulan', 'dengan', 'se', 'baik', 'dilihat', 'keluar', 'kelamaan', 'lamanya', 'rasa', 'mula', 'dikerjakan', 'diibaratkannya', 'dijelaskan', 'teringat-ingat', 'menyebutkan', 'dimisalkan', 'tanpa', 'di', 'diakhirinya', 'memperlihatkan', 'demikianlah', 'ataupun', 'jadilah', 'tegas', 'mengingat', 'toh', 'bukanlah', 'digunakan', 'memihak', 'yaitu', 'dg', 'sedikit', 'dimaksudkan', 'sudah', 'adalah', 'diibaratkan', 'berbagai', 'bahkan', 'supaya', 'disinilah', 'pertama', 'nanti', 'sesaat', 'berikan', 'kalau', 'kok', 'memintakan', 'mengatakannya', 'dekat', 'dipunyai', 'sampai-sampai', 'akhiri', 'menunjuki', 'sehingga', 'terjadilah', 'bakal', 'tidak', 'artinya', 'waktunya', 'ditunjukkan', 'suatu', 'serta', 'sebelum', 'sesegera', 'mungkinkah', 'tentunya', 'bila', 'kiranya', 'setiba', 'tuturnya', 'cukuplah', 'tetap', 'anda', 'lewat', 'lima', 'luar', 'menuju', 'ini', 'makin', 'sejak', 'kebetulan', 'tambahnya', 'mirip', 'bertutur', 'berada', 'guna', 'manakala', 'sebagian', 'sedikitnya', 'bagai', 'tpi', 'tidaklah', 'bukankah', 'makanya', 'melalui', 'tapi', 'sangat', 'depan', 'betul', 'dia', 'dipastikan', 'jumlah', 'mengapa', 'mempunyai', 'sekitarnya', 'sudahlah', 'jelaskan', 'didapat', 'punya', 'usai', 'pertanyakan', 'menjawab', 'seluruhnya', 'amatlah', 'berakhir', 'diberi', 'bukannya', 'pak', 'sesuatu', 'pernah', 'kalian', 'berakhirnya', 'dini', 'sejauh', 'bilakah', 'waduh', 'sebegini', 'perlukah', 'meminta', 'sebesar', 'ibarat', 'pertanyaan', 'sebaiknya', 'siapapun', 'sebuah', 'berkeinginan', 'dimaksudkannya', 'maka', 'diinginkan', 'semasih', 'bermula', 'ada', 'tepat', 'tiba-tiba', 'inginkah', 'bertanya-tanya', 'nya', 'pihak', 'sejenak', 'naik', 'ditunjuki', 'semisal', 'bagaimanakah', 'mempertanyakan', 'sekurang-kurangnya', 'dimulailah', 'memperkirakan', 'seberapa', 'semakin', 'kemudian', 'telah', 'untuk', 'panjang', 'berkenaan', 'hingga', 'akhir', 'dituturkannya', 'banyak', 'bagaimanapun', 'masa', 'mana', 'menjelaskan', 'sinilah', 'menyiapkan', 'menaiki', 'haruslah', 'menunjuknya', 'perlunya', 'tiga', 'secara', 'menanyai', 'umumnya', 'saya', 'terhadapnya', 'masihkah', 'sayalah', 'namun', 'berlalu', 'tandasnya', 'entahlah', 'boleh', 'menggunakan', 'sekiranya', 'dilalui', 'tanyakan', 'sudahkah', 'ibaratnya', 'cara', 'tengah', 'kini', 'malah', 'terlalu', 'rp', 'diberikannya', 'menghendaki', 'berkata', 'pula', 'sebenarnya', 'olehnya', 'mendapatkan', 'tertuju', 'menjadi', 'sedangkan', 'pantas', 'diri', 'seolah', 'keseluruhannya', 'menyampaikan', 'sebelumnya', 'justru', 'biasanya', 'tanyanya', 'terhadap', 'menunjuk', 'ibaratkan', 'sepantasnyalah', 'dimungkinkan', 'lain', 'dijawab', 'beginikah', 'setinggi', 'termasuk', 'kecil', 'atas', 'pertama-tama', 'sdh', 'per', 'sebagai', 'berdatangan', 'nah', 'agaknya', 'begitu', 'berlebihan', 'berapalah', 'seseorang', 'melihatnya', 'beginilah', 'mendatangi', 'mengerjakan', 'jadi', 'sekali-kali', 'mulai', 'sebaik', 'minta', 'mampukah', 'tanya', 'terasa', 'mendatang', 'sela', 'menyatakan', 'terkira', 'biasa', 'dirinya', 'semuanya', 'dibuat', 'semampu', 'kala', 'ingat-ingat', 'jikalau', 'misalnya', 'para', 'akulah', 'mengira', 'sendirinya', 'ungkap', 'apalagi', 'katakanlah', 'kurang', 'masalahnya', 'disebutkan', 'mendapat', 'seorang', 'itu', 'dari', 'begitupun', 'lagian', 'dikira', 'tertentu', 'ditegaskan', 'mengenai', 'sambil', 'sekali', 'adanya', 'dapat', 'tak', 'lebih', 'asalkan', 'mempersiapkan', 'setempat', 'semua', 'dipergunakan', 'kemungkinannya', 'menambahkan', 'cukupkah', 'terjadinya', 'terdapat', 'enggaknya', 'demi', 'tadi', 'memisalkan', 'diperbuatnya', 'apaan', 'lagi', 'menuturkan', 'sekalian', 'tunjuk', 'aku', 'masalah', 'antara', 'seperti', 'beginian', 'sesudah', 'dan', 'padahal', 'ngga', 'percuma', 'dibuatnya', 'sepihak', 'menurut', 'siap', 'bermacam', 'kalaulah', 'bersama-sama', 'bukan', 'satu', 'rasanya', 'dikatakan', 'tambah', 'sering', 'memungkinkan', 'semampunya', 'berujar', 'diingatkan', 'bersiap-siap', 'diperlukan', 'cukup', 'ditanyai', 'enggak', 'saling', 'jg', 'kelihatan', 'keadaan', 'tentulah', 'siapa', 'buat', 'benar', 'mempersoalkan', 'sementara', 'semata', 'terdahulu', 'wah', 'menunjukkan', 'diingat', 'berjumlah', 'dipertanyakan', 'kitalah', 'diperlihatkan', 'siapakah', 'diucapkan', 'kapan', 'wahai', 'ikut', 'sekadarnya', 'diperbuat', 'memberi', 'berapapun', 'terus', 'yakin', 'jika', 'bisa', 'bekerja', 'ingin', 'beberapa', 'diberikan', 'mendatangkan', 'diketahuinya', 'tidakkah', 'terlihat', 'kata', 'bahwasanya', 'jauh', 'tahu', 'sy', 'melainkan', 'semasa', 'semisalnya', 'bagi', 'sesampai', 'diketahui', 'kembali', 'yakni', 'sebab', 'bawah', 'selama', 'dua', 'kamu', 'karena', 'sangatlah', 'selamanya', 'setibanya', 'tampak', 'deh', 'bertanya', 'persoalan', 'tempat', 'sebaik-baiknya', 'begitulah', 'seperlunya', 'kesampaian', 'begini', 'mengibaratkan', 'saatnya', 'sekalipun', 'rata', 'daripada', 'sajalah', 'dijelaskannya', 'mengingatkan', 'selaku', 'bahwa', 'jangankan', 'nyaris', 'bagian', 'sejumlah', 'sampai', 'ditanya', 'sebabnya', 'mengakhiri', 'waktu', 'semata-mata', 'kamulah', 'antar', 'berapakah', 'sebanyak', 'kami', 'berawal', 'disini', 'terutama', 'wong', 'sesama', 'penting', 'seolah-olah', 'saat', 'masih', 'benarkah', 'menyangkut', 'gunakan', 'ataukah', 'mereka', 'harusnya', 'jawab', 'sebutlah', 'sesekali', 'seusai', 'katanya', 'yang', 'dimintai', 'menanti', 'dimaksudnya', 'rupanya', 'secukupnya', 'sendirian', 'misal', 'sesuatunya', 'diminta', 'lalu', 'mengungkapkan', 'jangan', 'ungkapnya', 'kita', 'cuma', 'ribu', 'ucapnya', 'caranya', 'pasti', 'segala', 'berikut', 'setelah', 'bolehkah', 'baru', 'turut', 'sebutnya', 'ia', 'ditunjuknya', 'bagaimana', 'ditandaskan', 'menanyakan', 'lama', 'dimaksud', 'datang', 'jadinya', 'tadinya', 'meyakini', 'mengibaratkannya', 'melihat', 'soalnya', 'kan', 'entah', 'beri', 'bersiap', 'begitukah', 'hendaklah', 'melakukan', 'menantikan', 'selanjutnya', 'tersebutlah', 'berturut', 'ujarnya', 'dikatakannya', 'merupakan', 'lanjutnya', 'sepanjang', 'perlu', 'dong', 'dialah', 'memang', 'nantinya', 'selain', 'merasa', 'besar', 'tegasnya', 'ditunjuk', 'nyatanya', 'didatangkan', 'jelasnya', 'macam', 'dilakukan', 'pada', 'apabila', 'itukah', 'seharusnya', 'hampir', 'saja', 'hanyalah', 'setiap', 'sebagainya'}\n"
     ]
    }
   ],
   "source": [
    "# Tambahkan stopwords tambahan dan kata-kata slang\n",
    "additional_stopwords = ['yg','rp','ribu', 'nya', 'dg', 'dgn', 'tdk', 'tpi', 'jg', 'krn', 'sy', 'sdh', 'lah', 'deh', 'ngga']\n",
    "stopwords_list = set(stopwords.words('indonesian') + additional_stopwords)\n",
    "\n",
    "print(stopwords_list)"
   ]
  },
  {
   "cell_type": "code",
   "execution_count": 18,
   "metadata": {},
   "outputs": [
    {
     "data": {
      "text/html": [
       "<div>\n",
       "<style scoped>\n",
       "    .dataframe tbody tr th:only-of-type {\n",
       "        vertical-align: middle;\n",
       "    }\n",
       "\n",
       "    .dataframe tbody tr th {\n",
       "        vertical-align: top;\n",
       "    }\n",
       "\n",
       "    .dataframe thead th {\n",
       "        text-align: right;\n",
       "    }\n",
       "</style>\n",
       "<table border=\"1\" class=\"dataframe\">\n",
       "  <thead>\n",
       "    <tr style=\"text-align: right;\">\n",
       "      <th></th>\n",
       "      <th>Ulasan</th>\n",
       "    </tr>\n",
       "  </thead>\n",
       "  <tbody>\n",
       "    <tr>\n",
       "      <th>0</th>\n",
       "      <td>keren</td>\n",
       "    </tr>\n",
       "    <tr>\n",
       "      <th>1</th>\n",
       "      <td>bagus semoga awet</td>\n",
       "    </tr>\n",
       "    <tr>\n",
       "      <th>2</th>\n",
       "      <td>oke</td>\n",
       "    </tr>\n",
       "    <tr>\n",
       "      <th>3</th>\n",
       "      <td>nyaman dipakai model oke sol tebal ukuran pas</td>\n",
       "    </tr>\n",
       "    <tr>\n",
       "      <th>4</th>\n",
       "      <td>barang terima pengiriman super cepat bahan bagus over all oke</td>\n",
       "    </tr>\n",
       "    <tr>\n",
       "      <th>5</th>\n",
       "      <td>barangnya pas sesuai ukuran</td>\n",
       "    </tr>\n",
       "    <tr>\n",
       "      <th>6</th>\n",
       "      <td>ukurannya pas harga menyesuaikan barang yaa hehe</td>\n",
       "    </tr>\n",
       "    <tr>\n",
       "      <th>7</th>\n",
       "      <td>bagusss</td>\n",
       "    </tr>\n",
       "    <tr>\n",
       "      <th>8</th>\n",
       "      <td>bagus pengirimanny cpt curiga pake jalur ghaib anw makasi uda bikin produk lokal sebagus</td>\n",
       "    </tr>\n",
       "    <tr>\n",
       "      <th>9</th>\n",
       "      <td>keren bahan enak ukuran pas kecepatan pengiriman oke shirt dll sih udah beli aero sepatu kali aja</td>\n",
       "    </tr>\n",
       "    <tr>\n",
       "      <th>10</th>\n",
       "      <td>kerennn</td>\n",
       "    </tr>\n",
       "    <tr>\n",
       "      <th>11</th>\n",
       "      <td>modelnya keren</td>\n",
       "    </tr>\n",
       "    <tr>\n",
       "      <th>12</th>\n",
       "      <td>pesen putih dikirim hitam hdeehhhhh</td>\n",
       "    </tr>\n",
       "    <tr>\n",
       "      <th>13</th>\n",
       "      <td>keren sepatunya kak sesuai gambar</td>\n",
       "    </tr>\n",
       "    <tr>\n",
       "      <th>14</th>\n",
       "      <td>modelnya keren sol empuk bahannya solid jahitan rapi the best pokokna mah langganan kayaknya</td>\n",
       "    </tr>\n",
       "    <tr>\n",
       "      <th>15</th>\n",
       "      <td>pengiriman cepat cuman barang mulus bagus brand lokal sekeren</td>\n",
       "    </tr>\n",
       "    <tr>\n",
       "      <th>16</th>\n",
       "      <td>bagus semoga awet</td>\n",
       "    </tr>\n",
       "    <tr>\n",
       "      <th>17</th>\n",
       "      <td>barangnya sesuai dipesanpengantarannya cepatpokonya puas belanja disinimakasih</td>\n",
       "    </tr>\n",
       "    <tr>\n",
       "      <th>18</th>\n",
       "      <td>modelnya keren pas kaki nyaman</td>\n",
       "    </tr>\n",
       "    <tr>\n",
       "      <th>19</th>\n",
       "      <td>barangnya mantap sesuai harga ukuran pas cepat</td>\n",
       "    </tr>\n",
       "  </tbody>\n",
       "</table>\n",
       "</div>"
      ],
      "text/plain": [
       "                                                                                               Ulasan\n",
       "0                                                                                               keren\n",
       "1                                                                                   bagus semoga awet\n",
       "2                                                                                                 oke\n",
       "3                                                       nyaman dipakai model oke sol tebal ukuran pas\n",
       "4                                       barang terima pengiriman super cepat bahan bagus over all oke\n",
       "5                                                                         barangnya pas sesuai ukuran\n",
       "6                                                    ukurannya pas harga menyesuaikan barang yaa hehe\n",
       "7                                                                                             bagusss\n",
       "8            bagus pengirimanny cpt curiga pake jalur ghaib anw makasi uda bikin produk lokal sebagus\n",
       "9   keren bahan enak ukuran pas kecepatan pengiriman oke shirt dll sih udah beli aero sepatu kali aja\n",
       "10                                                                                            kerennn\n",
       "11                                                                                     modelnya keren\n",
       "12                                                                pesen putih dikirim hitam hdeehhhhh\n",
       "13                                                                  keren sepatunya kak sesuai gambar\n",
       "14       modelnya keren sol empuk bahannya solid jahitan rapi the best pokokna mah langganan kayaknya\n",
       "15                                      pengiriman cepat cuman barang mulus bagus brand lokal sekeren\n",
       "16                                                                                  bagus semoga awet\n",
       "17                     barangnya sesuai dipesanpengantarannya cepatpokonya puas belanja disinimakasih\n",
       "18                                                                     modelnya keren pas kaki nyaman\n",
       "19                                                     barangnya mantap sesuai harga ukuran pas cepat"
      ]
     },
     "execution_count": 18,
     "metadata": {},
     "output_type": "execute_result"
    }
   ],
   "source": [
    "# Membuat fungsi untuk menghapus stopwords menghilangkan emoticon, angka, symbol, tanda baca, dan mengubah menjadi huruf kecil,tokenizer,gabungkan kembali\n",
    "def clean_text(text):\n",
    "    text = re.sub(r'@[A-Za-z0-9]+', '', text)  # Menghapus @mentions\n",
    "    text = re.sub(r'#', '', text)  # Menghapus hashtag\n",
    "    text = re.sub(r'RT[\\s]+', '', text)  # Menghapus RT\n",
    "    text = re.sub(r'https?:\\/\\/\\S+', '', text)  # Menghapus hyperlink\n",
    "    text = re.sub(r'[0-9]+', '', text)  # Menghapus angka\n",
    "    text = re.sub(r'[^\\w\\s]', '', text)  # Menghapus symbol\n",
    "    text = re.sub(r'[^\\x00-\\x7F]+', '', text)  # Menghapus emoticon\n",
    "    text = re.sub(r'\"', '', text)  # Menghapus tanda kutip\n",
    "    # Menghapus kata dengan panjang 1-2 karakter\n",
    "    text = re.sub(r'\\b\\w{1,2}\\b', '', text)\n",
    "    text = re.sub(r'\\s+', ' ', text)  # Menghapus spasi ekstra\n",
    "    text = text.strip()  # Menghapus spasi di awal dan akhir\n",
    "    text = text.lower()  # Mengubah menjadi huruf kecil\n",
    "    \n",
    "    \n",
    "    text = word_tokenize(text)  # Tokenisasi\n",
    "    # Menghapus stopwords\n",
    "    text = [word for word in text if word not in stopwords_list]\n",
    "    text = ' '.join(text)  # Menggabungkan kembali\n",
    "\n",
    "    return text\n",
    "\n",
    "\n",
    "# Menerapkan fungsi clean_text pada kolom ulasan\n",
    "df['Ulasan'] = df['Ulasan'].apply(clean_text)\n",
    "\n",
    "# Menghapus baris yang kosong pada kolom 'Ulasan'\n",
    "df = df[df['Ulasan'].str.strip() != '']\n",
    "\n",
    "# Menampilkan tabel dengan lebar kolom penuh\n",
    "pd.set_option('display.max_colwidth', None)\n",
    "df.head(20)"
   ]
  },
  {
   "cell_type": "code",
   "execution_count": 19,
   "metadata": {},
   "outputs": [],
   "source": [
    "# hasil clean text jadikan csv\n",
    "df.to_csv('dataset/Aerostreet7_clean.csv', index=False)"
   ]
  },
  {
   "cell_type": "code",
   "execution_count": 20,
   "metadata": {},
   "outputs": [
    {
     "data": {
      "text/html": [
       "<div>\n",
       "<style scoped>\n",
       "    .dataframe tbody tr th:only-of-type {\n",
       "        vertical-align: middle;\n",
       "    }\n",
       "\n",
       "    .dataframe tbody tr th {\n",
       "        vertical-align: top;\n",
       "    }\n",
       "\n",
       "    .dataframe thead th {\n",
       "        text-align: right;\n",
       "    }\n",
       "</style>\n",
       "<table border=\"1\" class=\"dataframe\">\n",
       "  <thead>\n",
       "    <tr style=\"text-align: right;\">\n",
       "      <th></th>\n",
       "      <th>Ulasan</th>\n",
       "    </tr>\n",
       "  </thead>\n",
       "  <tbody>\n",
       "    <tr>\n",
       "      <th>0</th>\n",
       "      <td>keren</td>\n",
       "    </tr>\n",
       "    <tr>\n",
       "      <th>1</th>\n",
       "      <td>bagus moga awet</td>\n",
       "    </tr>\n",
       "    <tr>\n",
       "      <th>2</th>\n",
       "      <td>oke</td>\n",
       "    </tr>\n",
       "    <tr>\n",
       "      <th>3</th>\n",
       "      <td>nyaman pakai model oke sol tebal ukur pas</td>\n",
       "    </tr>\n",
       "    <tr>\n",
       "      <th>4</th>\n",
       "      <td>barang terima kirim super cepat bahan bagus over all oke</td>\n",
       "    </tr>\n",
       "    <tr>\n",
       "      <th>5</th>\n",
       "      <td>barang pas sesuai ukur</td>\n",
       "    </tr>\n",
       "    <tr>\n",
       "      <th>6</th>\n",
       "      <td>ukur pas harga sesuai barang yaa hehe</td>\n",
       "    </tr>\n",
       "    <tr>\n",
       "      <th>7</th>\n",
       "      <td>bagusss</td>\n",
       "    </tr>\n",
       "    <tr>\n",
       "      <th>8</th>\n",
       "      <td>bagus pengirimanny cpt curiga pake jalur ghaib anw makas uda bikin produk lokal bagus</td>\n",
       "    </tr>\n",
       "    <tr>\n",
       "      <th>9</th>\n",
       "      <td>keren bahan enak ukur pas cepat kirim oke shirt dll sih udah beli aero sepatu kali aja</td>\n",
       "    </tr>\n",
       "    <tr>\n",
       "      <th>10</th>\n",
       "      <td>kerennn</td>\n",
       "    </tr>\n",
       "    <tr>\n",
       "      <th>11</th>\n",
       "      <td>model keren</td>\n",
       "    </tr>\n",
       "    <tr>\n",
       "      <th>12</th>\n",
       "      <td>sen putih kirim hitam hdeehhhhh</td>\n",
       "    </tr>\n",
       "    <tr>\n",
       "      <th>13</th>\n",
       "      <td>keren sepatu kak sesuai gambar</td>\n",
       "    </tr>\n",
       "    <tr>\n",
       "      <th>14</th>\n",
       "      <td>model keren sol empuk bahan solid jahit rapi the best pokokna mah langgan kayak</td>\n",
       "    </tr>\n",
       "    <tr>\n",
       "      <th>15</th>\n",
       "      <td>kirim cepat cuman barang mulus bagus brand lokal keren</td>\n",
       "    </tr>\n",
       "    <tr>\n",
       "      <th>16</th>\n",
       "      <td>bagus moga awet</td>\n",
       "    </tr>\n",
       "    <tr>\n",
       "      <th>17</th>\n",
       "      <td>barang sesuai dipesanpengantarannya cepatpokonya puas belanja disinimakasih</td>\n",
       "    </tr>\n",
       "    <tr>\n",
       "      <th>18</th>\n",
       "      <td>model keren pas kaki nyaman</td>\n",
       "    </tr>\n",
       "    <tr>\n",
       "      <th>19</th>\n",
       "      <td>barang mantap sesuai harga ukur pas cepat</td>\n",
       "    </tr>\n",
       "  </tbody>\n",
       "</table>\n",
       "</div>"
      ],
      "text/plain": [
       "                                                                                    Ulasan\n",
       "0                                                                                    keren\n",
       "1                                                                          bagus moga awet\n",
       "2                                                                                      oke\n",
       "3                                                nyaman pakai model oke sol tebal ukur pas\n",
       "4                                 barang terima kirim super cepat bahan bagus over all oke\n",
       "5                                                                   barang pas sesuai ukur\n",
       "6                                                    ukur pas harga sesuai barang yaa hehe\n",
       "7                                                                                  bagusss\n",
       "8    bagus pengirimanny cpt curiga pake jalur ghaib anw makas uda bikin produk lokal bagus\n",
       "9   keren bahan enak ukur pas cepat kirim oke shirt dll sih udah beli aero sepatu kali aja\n",
       "10                                                                                 kerennn\n",
       "11                                                                             model keren\n",
       "12                                                         sen putih kirim hitam hdeehhhhh\n",
       "13                                                          keren sepatu kak sesuai gambar\n",
       "14         model keren sol empuk bahan solid jahit rapi the best pokokna mah langgan kayak\n",
       "15                                  kirim cepat cuman barang mulus bagus brand lokal keren\n",
       "16                                                                         bagus moga awet\n",
       "17             barang sesuai dipesanpengantarannya cepatpokonya puas belanja disinimakasih\n",
       "18                                                             model keren pas kaki nyaman\n",
       "19                                               barang mantap sesuai harga ukur pas cepat"
      ]
     },
     "execution_count": 20,
     "metadata": {},
     "output_type": "execute_result"
    }
   ],
   "source": [
    "# Setelah cleaning, kita akan melakukan stemming\n",
    "factory = StemmerFactory()\n",
    "stemmer = factory.create_stemmer()\n",
    "\n",
    "def stem_text(text):\n",
    "    return stemmer.stem(text)\n",
    "\n",
    "df['Ulasan'] = df['Ulasan'].apply(stem_text)\n",
    "df.head(20)"
   ]
  },
  {
   "cell_type": "code",
   "execution_count": 21,
   "metadata": {},
   "outputs": [],
   "source": [
    "# simpan ke csv hasil steming\n",
    "df.to_csv('dataset/Aerostreet7_steming.csv', index=False)"
   ]
  },
  {
   "cell_type": "code",
   "execution_count": null,
   "metadata": {},
   "outputs": [],
   "source": []
  }
 ],
 "metadata": {
  "kernelspec": {
   "display_name": "Python 3",
   "language": "python",
   "name": "python3"
  },
  "language_info": {
   "codemirror_mode": {
    "name": "ipython",
    "version": 3
   },
   "file_extension": ".py",
   "mimetype": "text/x-python",
   "name": "python",
   "nbconvert_exporter": "python",
   "pygments_lexer": "ipython3",
   "version": "3.12.0"
  }
 },
 "nbformat": 4,
 "nbformat_minor": 2
}
