{
 "cells": [
  {
   "cell_type": "code",
   "execution_count": 1,
   "metadata": {},
   "outputs": [],
   "source": [
    "import os\n",
    "import pandas as pd\n",
    "import re\n",
    "from nltk.corpus import stopwords\n",
    "from nltk.tokenize import word_tokenize\n",
    "from Sastrawi.Stemmer.StemmerFactory import StemmerFactory  # Import StemmerFactory from Sastrawi"
   ]
  },
  {
   "cell_type": "code",
   "execution_count": 2,
   "metadata": {},
   "outputs": [
    {
     "name": "stderr",
     "output_type": "stream",
     "text": [
      "[nltk_data] Downloading package stopwords to\n",
      "[nltk_data]     C:\\Users\\aulia\\AppData\\Roaming\\nltk_data...\n",
      "[nltk_data]   Package stopwords is already up-to-date!\n"
     ]
    },
    {
     "data": {
      "text/plain": [
       "True"
      ]
     },
     "execution_count": 2,
     "metadata": {},
     "output_type": "execute_result"
    }
   ],
   "source": [
    "import nltk\n",
    "nltk.download('stopwords')"
   ]
  },
  {
   "cell_type": "code",
   "execution_count": 3,
   "metadata": {},
   "outputs": [
    {
     "name": "stderr",
     "output_type": "stream",
     "text": [
      "[nltk_data] Downloading package punkt to\n",
      "[nltk_data]     C:\\Users\\aulia\\AppData\\Roaming\\nltk_data...\n",
      "[nltk_data]   Package punkt is already up-to-date!\n"
     ]
    },
    {
     "data": {
      "text/plain": [
       "True"
      ]
     },
     "execution_count": 3,
     "metadata": {},
     "output_type": "execute_result"
    }
   ],
   "source": [
    "import nltk\n",
    "nltk.download('punkt')"
   ]
  },
  {
   "cell_type": "code",
   "execution_count": 4,
   "metadata": {},
   "outputs": [
    {
     "data": {
      "text/html": [
       "<div>\n",
       "<style scoped>\n",
       "    .dataframe tbody tr th:only-of-type {\n",
       "        vertical-align: middle;\n",
       "    }\n",
       "\n",
       "    .dataframe tbody tr th {\n",
       "        vertical-align: top;\n",
       "    }\n",
       "\n",
       "    .dataframe thead th {\n",
       "        text-align: right;\n",
       "    }\n",
       "</style>\n",
       "<table border=\"1\" class=\"dataframe\">\n",
       "  <thead>\n",
       "    <tr style=\"text-align: right;\">\n",
       "      <th></th>\n",
       "      <th>Ulasan</th>\n",
       "    </tr>\n",
       "  </thead>\n",
       "  <tbody>\n",
       "    <tr>\n",
       "      <th>0</th>\n",
       "      <td>manttaappp keren abis warnanya gundam banget w...</td>\n",
       "    </tr>\n",
       "    <tr>\n",
       "      <th>1</th>\n",
       "      <td>keren murah solid mantap</td>\n",
       "    </tr>\n",
       "    <tr>\n",
       "      <th>2</th>\n",
       "      <td>kecewa produk aerostreet</td>\n",
       "    </tr>\n",
       "    <tr>\n",
       "      <th>3</th>\n",
       "      <td>model bagus harga lbh murah kwalitas jempolan</td>\n",
       "    </tr>\n",
       "    <tr>\n",
       "      <th>4</th>\n",
       "      <td>belom coba desainnya keren sii moga aja awet yaaa</td>\n",
       "    </tr>\n",
       "  </tbody>\n",
       "</table>\n",
       "</div>"
      ],
      "text/plain": [
       "                                              Ulasan\n",
       "0  manttaappp keren abis warnanya gundam banget w...\n",
       "1                           keren murah solid mantap\n",
       "2                           kecewa produk aerostreet\n",
       "3      model bagus harga lbh murah kwalitas jempolan\n",
       "4  belom coba desainnya keren sii moga aja awet yaaa"
      ]
     },
     "execution_count": 4,
     "metadata": {},
     "output_type": "execute_result"
    }
   ],
   "source": [
    "# Mengambil dataset dari folder 'dataset'\n",
    "dataset_path = 'dataset/Aerostreet3_clean.csv'\n",
    "df = pd.read_csv(dataset_path)\n",
    "df.head()"
   ]
  },
  {
   "cell_type": "code",
   "execution_count": 5,
   "metadata": {},
   "outputs": [
    {
     "name": "stdout",
     "output_type": "stream",
     "text": [
      "Ulasan    0\n",
      "dtype: int64\n"
     ]
    }
   ],
   "source": [
    "# Menghapus baris yang kososng pada kolom ulasan\n",
    "df = df.dropna(subset=['Ulasan'])\n",
    "# tampilkan informasi bahwa tidak ada baris yang kosong\n",
    "print(df.isnull().sum())"
   ]
  },
  {
   "cell_type": "code",
   "execution_count": 7,
   "metadata": {},
   "outputs": [
    {
     "name": "stdout",
     "output_type": "stream",
     "text": [
      "{'sambil', 'disebut', 'mendatangkan', 'masa', 'lainnya', 'tanpa', 'rp', 'sepihak', 'menunjuki', 'terdahulu', 'dipastikan', 'dialah', 'pada', 'diperlihatkan', 'sewaktu', 'terus', 'lain', 'jelaslah', 'awal', 'sebelumnya', 'lagi', 'datang', 'kamulah', 'kok', 'saja', 'tinggi', 'disebutkannya', 'maka', 'sangat', 'diantara', 'masalahnya', 'jika', 'demikian', 'hal', 'masalah', 'guna', 'terhadap', 'dikerjakan', 'cukup', 'siapakah', 'inikah', 'yaitu', 'bawah', 'tidaklah', 'mau', 'kelihatannya', 'cara', 'dini', 'ikut', 'dari', 'masih', 'terbanyak', 'akhirnya', 'hendaklah', 'memerlukan', 'turut', 'betul', 'jelaskan', 'kan', 'bahwasanya', 'tegas', 'sesekali', 'yakin', 'bagaimanakah', 'macam', 'menjadi', 'mirip', 'beginian', 'tidakkah', 'semisalnya', 'pernah', 'rasa', 'lamanya', 'mengatakannya', 'keterlaluan', 'oleh', 'berapapun', 'kitalah', 'sekurang-kurangnya', 'semata', 'mempunyai', 'kata', 'berujar', 'selamanya', 'harusnya', 'ingat', 'dituturkan', 'memisalkan', 'sebanyak', 'ditegaskan', 'diantaranya', 'diperbuat', 'maupun', 'masing-masing', 'tadi', 'sendirinya', 'selaku', 'cukuplah', 'saling', 'berikan', 'menambahkan', 'lanjut', 'kembali', 'mengucapkannya', 'menanti-nanti', 'dimaksudkannya', 'kasus', 'kalian', 'khususnya', 'keseluruhannya', 'dimisalkan', 'saat', 'jg', 'terjadi', 'tersebutlah', 'tuturnya', 'terasa', 'dipertanyakan', 'selain', 'melakukan', 'penting', 'manalagi', 'ungkapnya', 'tandasnya', 'mulai', 'segala', 'seingat', 'sepantasnyalah', 'antara', 'dekat', 'teringat', 'hari', 'terjadinya', 'semaunya', 'untuk', 'menanti', 'cukupkah', 'dengan', 'antar', 'sekarang', 'siapapun', 'seluruh', 'sesama', 'sepertinya', 'kalaulah', 'diperlukannya', 'tandas', 'aku', 'minta', 'apakah', 'semasih', 'ditunjuknya', 'seketika', 'mempersiapkan', 'atau', 'selalu', 'bagaikan', 'sebagai', 'tentu', 'tpi', 'adanya', 'bersama-sama', 'kita', 'kapankah', 'ditanyai', 'setidak-tidaknya', 'terakhir', 'menunjukkan', 'disampaikan', 'ibarat', 'sajalah', 'meski', 'menyiapkan', 'jawaban', 'dikira', 'itulah', 'diibaratkannya', 'mengingatkan', 'setinggi', 'ingat-ingat', 'mendatang', 'menjelaskan', 'ketika', 'padahal', 'supaya', 'berakhirlah', 'lanjutnya', 'terdiri', 'kelima', 'bagai', 'kemungkinan', 'tersampaikan', 'empat', 'dimaksudkan', 'dapat', 'bahkan', 'dipergunakan', 'anda', 'adalah', 'mampukah', 'selanjutnya', 'semisal', 'keluar', 'dahulu', 'sejumlah', 'ucap', 'mengira', 'apalagi', 'begitukah', 'segera', 'mengakhiri', 'beberapa', 'seenaknya', 'menandaskan', 'baik', 'waktunya', 'sebaliknya', 'kala', 'saatnya', 'hingga', 'mempergunakan', 'kemungkinannya', 'agak', 'sekurangnya', 'sekadar', 'semampu', 'keadaan', 'bagaimanapun', 'dijawab', 'masing', 'bisa', 'biasanya', 'berlebihan', 'menuturkan', 'menurut', 'sekecil', 'belum', 'wong', 'kiranya', 'hanyalah', 'menginginkan', 'terlihat', 'bagi', 'katakan', 'sempat', 'saya', 'baru', 'sini', 'terhadapnya', 'digunakan', 'terlalu', 'sejak', 'misal', 'tampak', 'asalkan', 'begini', 'melainkan', 'meskipun', 'cuma', 'rupanya', 'agaknya', 'lama', 'masihkah', 'jauh', 'segalanya', 'ibaratkan', 'secukupnya', 'yg', 'dia', 'haruslah', 'depan', 'dibuatnya', 'tentang', 'yang', 'bilakah', 'sayalah', 'sebaik-baiknya', 'semua', 'akhir', 'mengingat', 'menanya', 'menyebutkan', 'lewat', 'tertentu', 'dilihat', 'berkeinginan', 'sesudahnya', 'ujar', 'naik', 'keinginan', 'dituturkannya', 'kepada', 'diucapkan', 'inginkan', 'sesudah', 'seluruhnya', 'mulailah', 'sepanjang', 'begitulah', 'berkehendak', 'biasa', 'olehnya', 'andalah', 'menyeluruh', 'seseorang', 'tentulah', 'padanya', 'balik', 'bertutur', 'malahan', 'rasanya', 'semata-mata', 'walau', 'serupa', 'kalaupun', 'sebuah', 'sendiri', 'siap', 'ini', 'pantas', 'kalau', 'selama', 'tapi', 'kami', 'dijelaskan', 'sama', 'banyak', 'dgn', 'memberi', 'memang', 'sesuatunya', 'sebenarnya', 'disebutkan', 'pastilah', 'mulanya', 'menunjuknya', 'sampai', 'diingat', 'sebetulnya', 'setengah', 'terdapat', 'tutur', 'bersiap', 'menggunakan', 'paling', 'ditanya', 'inginkah', 'tetapi', 'bertanya', 'wahai', 'sdh', 'jelas', 'ialah', 'ingin', 'sekali', 'tahu', 'berada', 'usai', 'tanyanya', 'dilakukan', 'akankah', 'berupa', 'tiba', 'bulan', 'disini', 'jadilah', 'percuma', 'mampu', 'kamilah', 'memperkirakan', 'berjumlah', 'sebelum', 'ibu', 'diri', 'entah', 'hendaknya', 'sekitarnya', 'tahun', 'sudahlah', 'bagian', 'sebagian', 'diberi', 'sana', 'melihatnya', 'diberikannya', 'sela', 'meyakini', 'inilah', 'ngga', 'hendak', 'jadinya', 'menanyakan', 'didatangkan', 'didapat', 'secara', 'caranya', 'waduh', 'menegaskan', 'terkira', 'tadinya', 'jikalau', 'berapalah', 'dirinya', 'hampir', 'pertanyakan', 'bakalan', 'diperkirakan', 'sesegera', 'mengetahui', 'semuanya', 'lima', 'punya', 'tiga', 'betulkah', 'dan', 'memintakan', 'bakal', 'sebaik', 'ditunjuki', 'luar', 'nah', 'tegasnya', 'dulu', 'pihak', 'satu', 'teringat-ingat', 'sy', 'seberapa', 'jumlahnya', 'malah', 'kebetulan', 'berikut', 'sedikit', 'mengenai', 'sebagaimana', 'antaranya', 'ditunjukkannya', 'setelah', 'makin', 'bukannya', 'menyatakan', 'menyampaikan', 'setiap', 'seusai', 'berdatangan', 'persoalan', 'bolehkah', 'nyatanya', 'nanti', 'sampai-sampai', 'diucapkannya', 'suatu', 'bermacam-macam', 'merekalah', 'kemudian', 'sekalian', 'berarti', 'umumnya', 'deh', 'misalnya', 'terlebih', 'sebegini', 'sangatlah', 'se', 'sesampai', 'pula', 'memastikan', 'diingatkan', 'berawal', 'adapun', 'boleh', 'yakni', 'sekali-kali', 'mengatakan', 'tentunya', 'berapakah', 'mengibaratkannya', 'jadi', 'mendapatkan', 'bukanlah', 'sebab', 'tepat', 'mempertanyakan', 'rata', 'diperbuatnya', 'kesampaian', 'bisakah', 'memperbuat', 'pun', 'sedang', 'enggaknya', 'kepadanya', 'berikutnya', 'daripada', 'selama-lamanya', 'ataupun', 'diakhiri', 'tertuju', 'ditunjukkan', 'dipunyai', 'pentingnya', 'soalnya', 'sekadarnya', 'benar', 'akulah', 'sehingga', 'tiap', 'dibuat', 'lebih', 'gunakan', 'disinilah', 'berakhirnya', 'tanyakan', 'janganlah', 'bersama', 'seolah-olah', 'memperlihatkan', 'bahwa', 'walaupun', 'pertama-tama', 'seolah', 'enggak', 'pihaknya', 'jawabnya', 'terjadilah', 'awalnya', 'usah', 'diibaratkan', 'dimaksudnya', 'sendirian', 'seperlunya', 'beginilah', 'sekalipun', 'merupakan', 'bung', 'keduanya', 'kenapa', 'mendatangi', 'mengapa', 'semasa', 'harus', 'sampaikan', 'tunjuk', 'bapak', 'menantikan', 'per', 'diungkapkan', 'hanya', 'umum', 'bertanya-tanya', 'menjawab', 'kinilah', 'memungkinkan', 'meminta', 'jumlah', 'membuat', 'perlukah', 'sesaat', 'dilalui', 'akan', 'ungkap', 'sebegitu', 'kapan', 'dalam', 'kecil', 'para', 'seharusnya', 'berkenaan', 'besar', 'pak', 'akhiri', 'bagaimana', 'sepantasnya', 'namun', 'panjang', 'serta', 'tersebut', 'sesuatu', 'meyakinkan', 'karenanya', 'sebagainya', 'katanya', 'mempersoalkan', 'mengucapkan', 'dikatakannya', 'sebutlah', 'kapanpun', 'tidak', 'jelasnya', 'ditunjuk', 'jawab', 'tak', 'wah', 'lagian', 'berkata', 'dimulai', 'pertanyaan', 'bermaksud', 'berakhir', 'manakala', 'sinilah', 'tambah', 'tambahnya', 'melalui', 'ibaratnya', 'diketahui', 'kedua', 'sedangkan', 'makanya', 'sedikitnya', 'sudah', 'tetap', 'ditanyakan', 'sejauh', 'agar', 'sebesar', 'pertama', 'semampunya', 'sejenak', 'benarkah', 'ke', 'semakin', 'sebabnya', 'sama-sama', 'tanya', 'belakang', 'setempat', 'menanyai', 'mungkin', 'ucapnya', 'memihak', 'apatah', 'bersiap-siap', 'diberikan', 'dikatakan', 'lah', 'sering', 'juga', 'dimulainya', 'dimaksud', 'dimungkinkan', 'beginikah', 'sebisanya', 'dimintai', 'dimulailah', 'beri', 'jangankan', 'diakhirinya', 'apabila', 'telah', 'diperlukan', 'berbagai', 'menghendaki', 'tdk', 'itu', 'sudahkah', 'nyaris', 'menunjuk', 'seterusnya', 'dikarenakan', 'melihat', 'demi', 'belakangan', 'seorang', 'kelamaan', 'sebaiknya', 'berturut', 'mereka', 'apa', 'pukul', 'pasti', 'mengerjakan', 'dua', 'justru', 'toh', 'menyangkut', 'seperti', 'mendapat', 'begitu', 'seringnya', 'berlainan', 'kurang', 'kira-kira', 'katakanlah', 'siapa', 'tiba-tiba', 'belumlah', 'menaiki', 'merasa', 'sebutnya', 'waktu', 'buat', 'tampaknya', 'ternyata', 'bermula', 'nantinya', 'asal', 'memberikan', 'sebut', 'diminta', 'ia', 'artinya', 'bermacam', 'benarlah', 'mungkinkah', 'bukankah', 'diinginkan', 'atas', 'kamu', 'dijelaskannya', 'amatlah', 'soal', 'entahlah', 'kira', 'mana', 'bekerja', 'sedemikian', 'setidaknya', 'tengah', 'perlunya', 'semula', 'termasuk', 'berkali-kali', 'jangan', 'semacam', 'demikianlah', 'setiba', 'ujarnya', 'dipersoalkan', 'ataukah', 'sekaligus', 'sekiranya', 'tempat', 'nya', 'karena', 'krn', 'amat', 'bolehlah', 'berapa', 'berturut-turut', 'perlu', 'kini', 'ditujukan', 'diketahuinya', 'terutama', 'dong', 'dg', 'bukan', 'begitupun', 'misalkan', 'bila', 'sementara', 'mengungkapkan', 'itukah', 'sekitar', 'mengibaratkan', 'ribu', 'ada', 'di', 'mula', 'keseluruhan', 'lalu', 'berlangsung', 'ditambahkan', 'memulai', 'setibanya', 'menuju', 'ditandaskan', 'apaan', 'kelihatan', 'berlalu'}\n"
     ]
    }
   ],
   "source": [
    "# Tambahkan stopwords tambahan dan kata-kata slang\n",
    "additional_stopwords = ['yg','rp','ribu', 'nya', 'dg', 'dgn', 'tdk', 'tpi', 'jg', 'krn', 'sy', 'sdh', 'lah', 'deh', 'ngga']\n",
    "stopwords_list = set(stopwords.words('indonesian') + additional_stopwords)\n",
    "\n",
    "print(stopwords_list)"
   ]
  },
  {
   "cell_type": "code",
   "execution_count": 8,
   "metadata": {},
   "outputs": [
    {
     "data": {
      "text/html": [
       "<div>\n",
       "<style scoped>\n",
       "    .dataframe tbody tr th:only-of-type {\n",
       "        vertical-align: middle;\n",
       "    }\n",
       "\n",
       "    .dataframe tbody tr th {\n",
       "        vertical-align: top;\n",
       "    }\n",
       "\n",
       "    .dataframe thead th {\n",
       "        text-align: right;\n",
       "    }\n",
       "</style>\n",
       "<table border=\"1\" class=\"dataframe\">\n",
       "  <thead>\n",
       "    <tr style=\"text-align: right;\">\n",
       "      <th></th>\n",
       "      <th>Ulasan</th>\n",
       "    </tr>\n",
       "  </thead>\n",
       "  <tbody>\n",
       "    <tr>\n",
       "      <th>0</th>\n",
       "      <td>manttaappp keren abis warnanya gundam banget wkkwk gokil sih saran aja packingnya sefty</td>\n",
       "    </tr>\n",
       "    <tr>\n",
       "      <th>1</th>\n",
       "      <td>keren murah solid mantap</td>\n",
       "    </tr>\n",
       "    <tr>\n",
       "      <th>2</th>\n",
       "      <td>kecewa produk aerostreet</td>\n",
       "    </tr>\n",
       "    <tr>\n",
       "      <th>3</th>\n",
       "      <td>model bagus harga lbh murah kwalitas jempolan</td>\n",
       "    </tr>\n",
       "    <tr>\n",
       "      <th>4</th>\n",
       "      <td>belom coba desainnya keren sii moga aja awet yaaa</td>\n",
       "    </tr>\n",
       "    <tr>\n",
       "      <th>5</th>\n",
       "      <td>kren</td>\n",
       "    </tr>\n",
       "    <tr>\n",
       "      <th>6</th>\n",
       "      <td>mantab</td>\n",
       "    </tr>\n",
       "    <tr>\n",
       "      <th>7</th>\n",
       "      <td>mantap sesuai pesanan admin fast respon</td>\n",
       "    </tr>\n",
       "    <tr>\n",
       "      <th>8</th>\n",
       "      <td>bagus semoga awet</td>\n",
       "    </tr>\n",
       "    <tr>\n",
       "      <th>9</th>\n",
       "      <td>pas ukurannyagada minus</td>\n",
       "    </tr>\n",
       "    <tr>\n",
       "      <th>10</th>\n",
       "      <td>trusted local brand</td>\n",
       "    </tr>\n",
       "    <tr>\n",
       "      <th>11</th>\n",
       "      <td>bagus pas</td>\n",
       "    </tr>\n",
       "    <tr>\n",
       "      <th>12</th>\n",
       "      <td>mantap sesuai pesanan build quality far harga desain bagus nice aerostreet</td>\n",
       "    </tr>\n",
       "    <tr>\n",
       "      <th>13</th>\n",
       "      <td>modelnya keren barang bagus</td>\n",
       "    </tr>\n",
       "    <tr>\n",
       "      <th>14</th>\n",
       "      <td>mohon perhatikan detail produksinya produksi cacat produksi diloloskan harap jaga kualitas produksi</td>\n",
       "    </tr>\n",
       "    <tr>\n",
       "      <th>15</th>\n",
       "      <td>sesuai pesanan sepatunya kokoh kuat semoga awet</td>\n",
       "    </tr>\n",
       "    <tr>\n",
       "      <th>16</th>\n",
       "      <td>modelnya keren mantapcuma koreksi kanan center lonjong kanaan overall maknyus sih produk aero</td>\n",
       "    </tr>\n",
       "    <tr>\n",
       "      <th>17</th>\n",
       "      <td>masak iya dapet harga rbangassslaaahh</td>\n",
       "    </tr>\n",
       "    <tr>\n",
       "      <th>18</th>\n",
       "      <td>modelnya bagus kekikinian nyaman dipakai ukuran pas dikaki sayang noda kuning pict foto unboxing paket gppa dibe</td>\n",
       "    </tr>\n",
       "    <tr>\n",
       "      <th>19</th>\n",
       "      <td>model sepatu bagustp pinisingnya rapibenang pajang gak dipotongtolong ditingkat kerapiannya</td>\n",
       "    </tr>\n",
       "  </tbody>\n",
       "</table>\n",
       "</div>"
      ],
      "text/plain": [
       "                                                                                                              Ulasan\n",
       "0                            manttaappp keren abis warnanya gundam banget wkkwk gokil sih saran aja packingnya sefty\n",
       "1                                                                                           keren murah solid mantap\n",
       "2                                                                                           kecewa produk aerostreet\n",
       "3                                                                      model bagus harga lbh murah kwalitas jempolan\n",
       "4                                                                  belom coba desainnya keren sii moga aja awet yaaa\n",
       "5                                                                                                               kren\n",
       "6                                                                                                             mantab\n",
       "7                                                                            mantap sesuai pesanan admin fast respon\n",
       "8                                                                                                  bagus semoga awet\n",
       "9                                                                                            pas ukurannyagada minus\n",
       "10                                                                                               trusted local brand\n",
       "11                                                                                                         bagus pas\n",
       "12                                        mantap sesuai pesanan build quality far harga desain bagus nice aerostreet\n",
       "13                                                                                       modelnya keren barang bagus\n",
       "14               mohon perhatikan detail produksinya produksi cacat produksi diloloskan harap jaga kualitas produksi\n",
       "15                                                                   sesuai pesanan sepatunya kokoh kuat semoga awet\n",
       "16                     modelnya keren mantapcuma koreksi kanan center lonjong kanaan overall maknyus sih produk aero\n",
       "17                                                                             masak iya dapet harga rbangassslaaahh\n",
       "18  modelnya bagus kekikinian nyaman dipakai ukuran pas dikaki sayang noda kuning pict foto unboxing paket gppa dibe\n",
       "19                       model sepatu bagustp pinisingnya rapibenang pajang gak dipotongtolong ditingkat kerapiannya"
      ]
     },
     "execution_count": 8,
     "metadata": {},
     "output_type": "execute_result"
    }
   ],
   "source": [
    "# Membuat fungsi untuk menghapus stopwords menghilangkan emoticon, angka, symbol, tanda baca, dan mengubah menjadi huruf kecil,tokenizer,gabungkan kembali\n",
    "def clean_text(text):\n",
    "    text = re.sub(r'@[A-Za-z0-9]+', '', text)  # Menghapus @mentions\n",
    "    text = re.sub(r'#', '', text)  # Menghapus hashtag\n",
    "    text = re.sub(r'RT[\\s]+', '', text)  # Menghapus RT\n",
    "    text = re.sub(r'https?:\\/\\/\\S+', '', text)  # Menghapus hyperlink\n",
    "    text = re.sub(r'[0-9]+', '', text)  # Menghapus angka\n",
    "    text = re.sub(r'[^\\w\\s]', '', text)  # Menghapus symbol\n",
    "    text = re.sub(r'[^\\x00-\\x7F]+', '', text)  # Menghapus emoticon\n",
    "    \n",
    "    text = re.sub(r'\\b\\w{1,2}\\b', '', text)  # Menghapus kata dengan panjang 1-2 karakter\n",
    "    text = re.sub(r'\\s+', ' ', text)  # Menghapus spasi ekstra\n",
    "    text = text.strip()  # Menghapus spasi di awal dan akhir\n",
    "    \n",
    "    text = text.lower()  # Mengubah menjadi huruf kecil\n",
    "    text = word_tokenize(text)  # Tokenisasi\n",
    "    text = [word for word in text if word not in stopwords_list]  # Menghapus stopwords\n",
    "    text = ' '.join(text)  # Menggabungkan kembali\n",
    "    return text\n",
    "\n",
    "# Menerapkan fungsi clean_text pada kolom ulasan dan tampilkan pada tabel full lebarnya\n",
    "df['Ulasan'] = df['Ulasan'].apply(clean_text)\n",
    "pd.set_option('display.max_colwidth', None)\n",
    "df.head(20)\n"
   ]
  },
  {
   "cell_type": "code",
   "execution_count": 9,
   "metadata": {},
   "outputs": [],
   "source": [
    "# hasil clean text jadikan csv\n",
    "df.to_csv('dataset/Aerostreet3_clean.csv', index=False)"
   ]
  },
  {
   "cell_type": "code",
   "execution_count": 10,
   "metadata": {},
   "outputs": [
    {
     "data": {
      "text/html": [
       "<div>\n",
       "<style scoped>\n",
       "    .dataframe tbody tr th:only-of-type {\n",
       "        vertical-align: middle;\n",
       "    }\n",
       "\n",
       "    .dataframe tbody tr th {\n",
       "        vertical-align: top;\n",
       "    }\n",
       "\n",
       "    .dataframe thead th {\n",
       "        text-align: right;\n",
       "    }\n",
       "</style>\n",
       "<table border=\"1\" class=\"dataframe\">\n",
       "  <thead>\n",
       "    <tr style=\"text-align: right;\">\n",
       "      <th></th>\n",
       "      <th>Ulasan</th>\n",
       "    </tr>\n",
       "  </thead>\n",
       "  <tbody>\n",
       "    <tr>\n",
       "      <th>0</th>\n",
       "      <td>manttaappp keren abis warna gundam banget wkkwk gokil sih saran aja packingnya sefty</td>\n",
       "    </tr>\n",
       "    <tr>\n",
       "      <th>1</th>\n",
       "      <td>keren murah solid mantap</td>\n",
       "    </tr>\n",
       "    <tr>\n",
       "      <th>2</th>\n",
       "      <td>kecewa produk aerostreet</td>\n",
       "    </tr>\n",
       "    <tr>\n",
       "      <th>3</th>\n",
       "      <td>model bagus harga lbh murah kwalitas jempol</td>\n",
       "    </tr>\n",
       "    <tr>\n",
       "      <th>4</th>\n",
       "      <td>bom coba desain keren sii moga aja awet yaaa</td>\n",
       "    </tr>\n",
       "    <tr>\n",
       "      <th>5</th>\n",
       "      <td>kren</td>\n",
       "    </tr>\n",
       "    <tr>\n",
       "      <th>6</th>\n",
       "      <td>mantab</td>\n",
       "    </tr>\n",
       "    <tr>\n",
       "      <th>7</th>\n",
       "      <td>mantap sesuai pesan admin fast respon</td>\n",
       "    </tr>\n",
       "    <tr>\n",
       "      <th>8</th>\n",
       "      <td>bagus moga awet</td>\n",
       "    </tr>\n",
       "    <tr>\n",
       "      <th>9</th>\n",
       "      <td>pas ukurannyagada minus</td>\n",
       "    </tr>\n",
       "    <tr>\n",
       "      <th>10</th>\n",
       "      <td>trusted local brand</td>\n",
       "    </tr>\n",
       "    <tr>\n",
       "      <th>11</th>\n",
       "      <td>bagus pas</td>\n",
       "    </tr>\n",
       "    <tr>\n",
       "      <th>12</th>\n",
       "      <td>mantap sesuai pesan build quality far harga desain bagus nice aerostreet</td>\n",
       "    </tr>\n",
       "    <tr>\n",
       "      <th>13</th>\n",
       "      <td>model keren barang bagus</td>\n",
       "    </tr>\n",
       "    <tr>\n",
       "      <th>14</th>\n",
       "      <td>mohon perhati detail produksi produksi cacat produksi lolos harap jaga kualitas produksi</td>\n",
       "    </tr>\n",
       "    <tr>\n",
       "      <th>15</th>\n",
       "      <td>sesuai pesan sepatu kokoh kuat moga awet</td>\n",
       "    </tr>\n",
       "    <tr>\n",
       "      <th>16</th>\n",
       "      <td>model keren mantapcuma koreksi kanan center lonjong kana overall maknyus sih produk aero</td>\n",
       "    </tr>\n",
       "    <tr>\n",
       "      <th>17</th>\n",
       "      <td>masak iya dapet harga rbangassslaaahh</td>\n",
       "    </tr>\n",
       "    <tr>\n",
       "      <th>18</th>\n",
       "      <td>model bagus kekikinian nyaman pakai ukur pas kaki sayang noda kuning pict foto unboxing paket gppa dibe</td>\n",
       "    </tr>\n",
       "    <tr>\n",
       "      <th>19</th>\n",
       "      <td>model sepatu bagustp pinisingnya rapibenang pajang gak dipotongtolong tingkat rapi</td>\n",
       "    </tr>\n",
       "  </tbody>\n",
       "</table>\n",
       "</div>"
      ],
      "text/plain": [
       "                                                                                                     Ulasan\n",
       "0                      manttaappp keren abis warna gundam banget wkkwk gokil sih saran aja packingnya sefty\n",
       "1                                                                                  keren murah solid mantap\n",
       "2                                                                                  kecewa produk aerostreet\n",
       "3                                                               model bagus harga lbh murah kwalitas jempol\n",
       "4                                                              bom coba desain keren sii moga aja awet yaaa\n",
       "5                                                                                                      kren\n",
       "6                                                                                                    mantab\n",
       "7                                                                     mantap sesuai pesan admin fast respon\n",
       "8                                                                                           bagus moga awet\n",
       "9                                                                                   pas ukurannyagada minus\n",
       "10                                                                                      trusted local brand\n",
       "11                                                                                                bagus pas\n",
       "12                                 mantap sesuai pesan build quality far harga desain bagus nice aerostreet\n",
       "13                                                                                 model keren barang bagus\n",
       "14                 mohon perhati detail produksi produksi cacat produksi lolos harap jaga kualitas produksi\n",
       "15                                                                 sesuai pesan sepatu kokoh kuat moga awet\n",
       "16                 model keren mantapcuma koreksi kanan center lonjong kana overall maknyus sih produk aero\n",
       "17                                                                    masak iya dapet harga rbangassslaaahh\n",
       "18  model bagus kekikinian nyaman pakai ukur pas kaki sayang noda kuning pict foto unboxing paket gppa dibe\n",
       "19                       model sepatu bagustp pinisingnya rapibenang pajang gak dipotongtolong tingkat rapi"
      ]
     },
     "execution_count": 10,
     "metadata": {},
     "output_type": "execute_result"
    }
   ],
   "source": [
    "# Setelah cleaning, kita akan melakukan stemming\n",
    "factory = StemmerFactory()\n",
    "stemmer = factory.create_stemmer()\n",
    "\n",
    "def stem_text(text):\n",
    "    return stemmer.stem(text)\n",
    "\n",
    "df['Ulasan'] = df['Ulasan'].apply(stem_text)\n",
    "df.head(20)"
   ]
  },
  {
   "cell_type": "code",
   "execution_count": 11,
   "metadata": {},
   "outputs": [],
   "source": [
    "# simpan ke csv hasil steming\n",
    "df.to_csv('dataset/Aerostreet1_steming3.csv', index=False)"
   ]
  },
  {
   "cell_type": "code",
   "execution_count": null,
   "metadata": {},
   "outputs": [],
   "source": []
  }
 ],
 "metadata": {
  "kernelspec": {
   "display_name": "Python 3",
   "language": "python",
   "name": "python3"
  },
  "language_info": {
   "codemirror_mode": {
    "name": "ipython",
    "version": 3
   },
   "file_extension": ".py",
   "mimetype": "text/x-python",
   "name": "python",
   "nbconvert_exporter": "python",
   "pygments_lexer": "ipython3",
   "version": "3.12.0"
  }
 },
 "nbformat": 4,
 "nbformat_minor": 2
}
