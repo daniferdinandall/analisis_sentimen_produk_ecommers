{
 "cells": [
  {
   "cell_type": "code",
   "execution_count": 1,
   "metadata": {},
   "outputs": [],
   "source": [
    "import os\n",
    "import pandas as pd\n",
    "import re\n",
    "from nltk.corpus import stopwords\n",
    "from nltk.tokenize import word_tokenize\n",
    "from Sastrawi.Stemmer.StemmerFactory import StemmerFactory  # Import StemmerFactory from Sastrawi"
   ]
  },
  {
   "cell_type": "code",
   "execution_count": 2,
   "metadata": {},
   "outputs": [
    {
     "name": "stderr",
     "output_type": "stream",
     "text": [
      "[nltk_data] Downloading package stopwords to\n",
      "[nltk_data]     C:\\Users\\aulia\\AppData\\Roaming\\nltk_data...\n",
      "[nltk_data]   Package stopwords is already up-to-date!\n"
     ]
    },
    {
     "data": {
      "text/plain": [
       "True"
      ]
     },
     "execution_count": 2,
     "metadata": {},
     "output_type": "execute_result"
    }
   ],
   "source": [
    "import nltk\n",
    "nltk.download('stopwords')"
   ]
  },
  {
   "cell_type": "code",
   "execution_count": 3,
   "metadata": {},
   "outputs": [
    {
     "name": "stderr",
     "output_type": "stream",
     "text": [
      "[nltk_data] Downloading package punkt to\n",
      "[nltk_data]     C:\\Users\\aulia\\AppData\\Roaming\\nltk_data...\n",
      "[nltk_data]   Package punkt is already up-to-date!\n"
     ]
    },
    {
     "data": {
      "text/plain": [
       "True"
      ]
     },
     "execution_count": 3,
     "metadata": {},
     "output_type": "execute_result"
    }
   ],
   "source": [
    "import nltk\n",
    "nltk.download('punkt')"
   ]
  },
  {
   "cell_type": "code",
   "execution_count": 10,
   "metadata": {},
   "outputs": [
    {
     "data": {
      "text/html": [
       "<div>\n",
       "<style scoped>\n",
       "    .dataframe tbody tr th:only-of-type {\n",
       "        vertical-align: middle;\n",
       "    }\n",
       "\n",
       "    .dataframe tbody tr th {\n",
       "        vertical-align: top;\n",
       "    }\n",
       "\n",
       "    .dataframe thead th {\n",
       "        text-align: right;\n",
       "    }\n",
       "</style>\n",
       "<table border=\"1\" class=\"dataframe\">\n",
       "  <thead>\n",
       "    <tr style=\"text-align: right;\">\n",
       "      <th></th>\n",
       "      <th>Ulasan</th>\n",
       "    </tr>\n",
       "  </thead>\n",
       "  <tbody>\n",
       "    <tr>\n",
       "      <th>0</th>\n",
       "      <td>bagus meski uk42 terlalu ngepas di kaki..... mines finishing nya kurang rapi, masih ada benang sama potongan\" gk rapih</td>\n",
       "    </tr>\n",
       "    <tr>\n",
       "      <th>1</th>\n",
       "      <td>kerennn, sangat puass dengan sepatu ini..... desainnya cakep</td>\n",
       "    </tr>\n",
       "    <tr>\n",
       "      <th>2</th>\n",
       "      <td>kualitas barang ok.. \\nukuran sesuai.. \\nlebih bagus dari ekspektasi.. \\ncuma,pengirimannya(si cepat)astaga lama kali..</td>\n",
       "    </tr>\n",
       "    <tr>\n",
       "      <th>3</th>\n",
       "      <td>bagis</td>\n",
       "    </tr>\n",
       "    <tr>\n",
       "      <th>4</th>\n",
       "      <td>bagus sepatu nya</td>\n",
       "    </tr>\n",
       "  </tbody>\n",
       "</table>\n",
       "</div>"
      ],
      "text/plain": [
       "                                                                                                                    Ulasan\n",
       "0   bagus meski uk42 terlalu ngepas di kaki..... mines finishing nya kurang rapi, masih ada benang sama potongan\" gk rapih\n",
       "1                                                             kerennn, sangat puass dengan sepatu ini..... desainnya cakep\n",
       "2  kualitas barang ok.. \\nukuran sesuai.. \\nlebih bagus dari ekspektasi.. \\ncuma,pengirimannya(si cepat)astaga lama kali..\n",
       "3                                                                                                                    bagis\n",
       "4                                                                                                         bagus sepatu nya"
      ]
     },
     "execution_count": 10,
     "metadata": {},
     "output_type": "execute_result"
    }
   ],
   "source": [
    "# Mengambil dataset dari folder 'dataset'\n",
    "dataset_path = 'dataset/Aerostreet3-2.csv'\n",
    "df = pd.read_csv(dataset_path)\n",
    "df.head()"
   ]
  },
  {
   "cell_type": "code",
   "execution_count": 11,
   "metadata": {},
   "outputs": [
    {
     "name": "stdout",
     "output_type": "stream",
     "text": [
      "Ulasan    0\n",
      "dtype: int64\n"
     ]
    }
   ],
   "source": [
    "# Menghapus baris yang kososng pada kolom ulasan\n",
    "df = df.dropna(subset=['Ulasan'])\n",
    "# tampilkan informasi bahwa tidak ada baris yang kosong\n",
    "print(df.isnull().sum())"
   ]
  },
  {
   "cell_type": "code",
   "execution_count": 12,
   "metadata": {},
   "outputs": [
    {
     "name": "stdout",
     "output_type": "stream",
     "text": [
      "{'mula', 'itulah', 'mendapatkan', 'sampai-sampai', 'semuanya', 'tepat', 'antaranya', 'bagai', 'dapat', 'makin', 'menanyakan', 'walau', 'menanya', 'manakala', 'berturut-turut', 'menunjuknya', 'merupakan', 'seringnya', 'sekalian', 'penting', 'sesampai', 'benar', 'terjadi', 'semula', 'supaya', 'semisalnya', 'tidakkah', 'dipunyai', 'diberikannya', 'mengingatkan', 'juga', 'inginkan', 'cukup', 'betul', 'bersama', 'sudahlah', 'serupa', 'memberi', 'meski', 'umum', 'per', 'nanti', 'jelasnya', 'beri', 'dijelaskan', 'agar', 'menandaskan', 'terdapat', 'atas', 'jelas', 'harusnya', 'depan', 'memungkinkan', 'demi', 'kapanpun', 'apaan', 'kini', 'ditunjuknya', 'kecil', 'diri', 'mempersoalkan', 'tiba-tiba', 'baru', 'ucap', 'sekurang-kurangnya', 'percuma', 'agaknya', 'keadaan', 'memastikan', 'tanyakan', 'bertanya', 'sementara', 'dikatakannya', 'kelihatan', 'terus', 'semakin', 'dilalui', 'pantas', 'sejenak', 'sebetulnya', 'apalagi', 'buat', 'sepantasnyalah', 'lainnya', 'seorang', 'dengan', 'diakhirinya', 'disebutkan', 'diperlukannya', 'teringat-ingat', 'pihaknya', 'memulai', 'usah', 'sekalipun', 'kemudian', 'tempat', 'ribu', 'mengakhiri', 'tandasnya', 'bilakah', 'ditanya', 'sedangkan', 'sebagai', 'sekecil', 'tentunya', 'saja', 'dua', 'turut', 'semasih', 'didatangkan', 'mendapat', 'demikian', 'artinya', 'mungkin', 'betulkah', 'terakhir', 'banyak', 'misalnya', 'serta', 'pun', 'diketahuinya', 'beginikah', 'cukuplah', 'wah', 'awal', 'berada', 'anda', 'kenapa', 'semasa', 'semacam', 'mengenai', 'menuju', 'dipastikan', 'khususnya', 'memintakan', 'benarkah', 'dimintai', 'mendatang', 'dia', 'kepada', 'semua', 'berturut', 'andalah', 'mengungkapkan', 'terasa', 'tentu', 'melalui', 'menuturkan', 'berawal', 'misalkan', 'enggak', 'bekerja', 'kalaulah', 'memperlihatkan', 'dimulailah', 'siapapun', 'enggaknya', 'menyampaikan', 'asalkan', 'berikutnya', 'pasti', 'apatah', 'lebih', 'boleh', 'sayalah', 'mulai', 'hingga', 'diibaratkan', 'dong', 'ataupun', 'jadi', 'soalnya', 'sedemikian', 'apabila', 'dimulainya', 'kemungkinan', 'dimaksud', 'memperbuat', 'terhadap', 'berlalu', 'dekat', 'ikut', 'mengapa', 'sebanyak', 'sela', 'sebagaimana', 'tak', 'sepanjang', 'kira', 'sekarang', 'lanjutnya', 'setiba', 'bisa', 'begitu', 'suatu', 'berikut', 'makanya', 'semata', 'setelah', 'akulah', 'belakang', 'dan', 'keinginan', 'diibaratkannya', 'kamu', 'pertama-tama', 'sebesar', 'menghendaki', 'tegas', 'disebut', 'diperlihatkan', 'berkali-kali', 'ungkapnya', 'selalu', 'ia', 'masalahnya', 'tpi', 'inikah', 'merasa', 'berapapun', 'bisakah', 'kinilah', 'terdiri', 'sesuatu', 'walaupun', 'jawabnya', 'ditanyakan', 'adalah', 'rata', 'sdh', 'nantinya', 'cara', 'jadinya', 'semampu', 'sempat', 'dahulu', 'pihak', 'sepertinya', 'sesegera', 'menjelaskan', 'namun', 'usai', 'menyebutkan', 'rasanya', 'terbanyak', 'asal', 'tanya', 'nya', 'sedikit', 'ketika', 'olehnya', 'persoalan', 'atau', 'berkata', 'diantara', 'dalam', 'sudah', 'tersampaikan', 'diantaranya', 'disampaikan', 'meyakini', 'saya', 'bagaimana', 'berapalah', 'misal', 'sebutnya', 'tetap', 'berbagai', 'jelaslah', 'segalanya', 'tambah', 'nah', 'seperlunya', 'sebegini', 'umumnya', 'ditegaskan', 'diperlukan', 'sendirinya', 'seterusnya', 'dikarenakan', 'aku', 'dijawab', 'soal', 'ialah', 'harus', 'keduanya', 'haruslah', 'apakah', 'sinilah', 'berujar', 'sesudah', 'mungkinkah', 'kata', 'menyangkut', 'seseorang', 'akhirnya', 'didapat', 'mengatakannya', 'selanjutnya', 'rupanya', 'sejauh', 'kelamaan', 'sebaik-baiknya', 'bermacam-macam', 'berarti', 'lagi', 'menantikan', 'menyeluruh', 'kasus', 'adanya', 'biasanya', 'kalaupun', 'dibuatnya', 'pada', 'perlunya', 'selama-lamanya', 'berapa', 'akhiri', 'berapakah', 'pentingnya', 'sebaiknya', 'selama', 'sy', 'sepihak', 'datang', 'hendaknya', 'dipersoalkan', 'pertama', 'telah', 'satu', 'berkenaan', 'menaiki', 'minta', 'siapakah', 'bolehlah', 'ditunjukkan', 'bukankah', 'ternyata', 'seluruh', 'benarlah', 'panjang', 'saling', 'menurut', 'masalah', 'bersiap', 'menegaskan', 'mengetahui', 'sejak', 'memberikan', 'dg', 'pernah', 'meskipun', 'padahal', 'diingatkan', 'terlihat', 'tentang', 'dari', 'sini', 'jg', 'diperkirakan', 'secukupnya', 'bertutur', 'bahwasanya', 'menunjukkan', 'sehingga', 'krn', 'memihak', 'sampai', 'tidak', 'menanti', 'guna', 'karenanya', 'semata-mata', 'awalnya', 'berakhirnya', 'kamulah', 'yakin', 'ditunjuki', 'tertuju', 'nyaris', 'punya', 'tinggi', 'seketika', 'dgn', 'pastilah', 'seingat', 'diberikan', 'jauh', 'mengibaratkan', 'bertanya-tanya', 'sekali', 'sekaligus', 'bermula', 'cukupkah', 'melihat', 'mengira', 'menyatakan', 'naik', 'lima', 'seusai', 'oleh', 'sebelum', 'masihkah', 'sebelumnya', 'setibanya', 'justru', 'dipergunakan', 'masing', 'jangankan', 'sesekali', 'tidaklah', 'keterlaluan', 'ditandaskan', 'bagi', 'ditunjuk', 'sudahkah', 'terlebih', 'bersiap-siap', 'yakni', 'setiap', 'terutama', 'berlangsung', 'semaunya', 'seperti', 'melakukan', 'termasuk', 'merekalah', 'terjadinya', 'mempergunakan', 'seberapa', 'sebuah', 'mulanya', 'memperkirakan', 'sebaliknya', 'tahun', 'manalagi', 'sangat', 'yg', 'sampaikan', 'tampak', 'mengatakan', 'adapun', 'sambil', 'disini', 'masih', 'kemungkinannya', 'amatlah', 'katakan', 'kamilah', 'mempersiapkan', 'meyakinkan', 'selain', 'kitalah', 'sama-sama', 'tdk', 'menanti-nanti', 'terjadilah', 'hanya', 'hendaklah', 'mirip', 'setempat', 'tengah', 'setinggi', 'mengucapkan', 'para', 'tanyanya', 'inginkah', 'daripada', 'hal', 'terdahulu', 'diperbuatnya', 'menunjuk', 'siapa', 'tetapi', 'berjumlah', 'ingin', 'itu', 'kelima', 'sebenarnya', 'dikatakan', 'beberapa', 'akankah', 'itukah', 'beginian', 'begitukah', 'jadilah', 'nyatanya', 'ada', 'sebisanya', 'sesudahnya', 'diinginkan', 'dilakukan', 'jika', 'sesama', 'cuma', 'sebagainya', 'jawaban', 'dilihat', 'disebutkannya', 'kira-kira', 'bagaikan', 'dituturkan', 'tunjuk', 'antara', 'se', 'membuat', 'sekali-kali', 'digunakan', 'menjawab', 'selaku', 'tiap', 'jawab', 'ujar', 'wahai', 'rasa', 'ini', 'sedikitnya', 'sedang', 'tadi', 'lama', 'sendiri', 'keseluruhannya', 'jangan', 'ataukah', 'mana', 'kapankah', 'sekiranya', 'malah', 'luar', 'tersebutlah', 'mulailah', 'sesuatunya', 'pula', 'waktunya', 'kala', 'semampunya', 'mempunyai', 'yaitu', 'sama', 'bahkan', 'diberi', 'kembali', 'belakangan', 'kedua', 'bawah', 'lewat', 'menanyai', 'kita', 'mereka', 'secara', 'sendirian', 'caranya', 'setidaknya', 'macam', 'berikan', 'jumlah', 'masing-masing', 'sana', 'berkehendak', 'begitupun', 'bukanlah', 'kebetulan', 'memerlukan', 'ucapnya', 'ditujukan', 'bahwa', 'seolah', 'sepantasnya', 'lagian', 'saatnya', 'mengerjakan', 'entahlah', 'tandas', 'tanpa', 'bagaimanapun', 'keseluruhan', 'bolehkah', 'seolah-olah', 'begitulah', 'toh', 'rp', 'mampukah', 'perlukah', 'kalian', 'berupa', 'setidak-tidaknya', 'beginilah', 'bakal', 'tegasnya', 'belum', 'bersama-sama', 'maupun', 'untuk', 'mengibaratkannya', 'tambahnya', 'ibaratkan', 'siap', 'segera', 'deh', 'berlebihan', 'dimaksudkan', 'bung', 'dimisalkan', 'sebab', 'sering', 'waduh', 'apa', 'mempertanyakan', 'terkira', 'mendatangkan', 'sebabnya', 'demikianlah', 'tapi', 'seluruhnya', 'diungkapkan', 'tersebut', 'ditambahkan', 'tiba', 'tiga', 'sekitarnya', 'kapan', 'ingat', 'selamanya', 'lalu', 'dulu', 'masa', 'melainkan', 'waktu', 'kepadanya', 'hampir', 'dini', 'pak', 'berdatangan', 'lah', 'tertentu', 'ditunjukkannya', 'empat', 'pertanyaan', 'dimulai', 'kiranya', 'agak', 'bukan', 'lanjut', 'biasa', 'segala', 'sejumlah', 'bila', 'bagaimanakah', 'menyiapkan', 'menginginkan', 'janganlah', 'menggunakan', 'semisal', 'sebaik', 'dialah', 'diketahui', 'tuturnya', 'menunjuki', 'sekadar', 'keluar', 'bulan', 'bagian', 'sesaat', 'ibu', 'hanyalah', 'ingat-ingat', 'menjadi', 'dikerjakan', 'disinilah', 'mampu', 'tampaknya', 'sebutlah', 'memisalkan', 'dituturkannya', 'melihatnya', 'dimaksudnya', 'sekadarnya', 'ibaratnya', 'diingat', 'perlu', 'dijelaskannya', 'padanya', 'dimaksudkannya', 'sangatlah', 'hari', 'sewaktu', 'ujarnya', 'belumlah', 'diminta', 'diucapkan', 'bapak', 'sebagian', 'seenaknya', 'akhir', 'saat', 'bukannya', 'lain', 'baik', 'berakhir', 'ditanyai', 'besar', 'mengingat', 'kurang', 'tahu', 'malahan', 'amat', 'dikira', 'di', 'menambahkan', 'tutur', 'katakanlah', 'yang', 'inilah', 'wong', 'bakalan', 'dipertanyakan', 'berkeinginan', 'maka', 'sekitar', 'tentulah', 'bermaksud', 'ke', 'meminta', 'dirinya', 'gunakan', 'kalau', 'diakhiri', 'diucapkannya', 'jelaskan', 'kelihatannya', 'seharusnya', 'paling', 'terhadapnya', 'kesampaian', 'kok', 'hendak', 'sebut', 'kami', 'akan', 'karena', 'sekurangnya', 'balik', 'terlalu', 'jumlahnya', 'mau', 'lamanya', 'kan', 'pertanyakan', 'sebegitu', 'mendatangi', 'entah', 'ngga', 'pukul', 'tadinya', 'dibuat', 'teringat', 'berakhirlah', 'ibarat', 'memang', 'sajalah', 'dimungkinkan', 'jikalau', 'bermacam', 'mengucapkannya', 'ungkap', 'begini', 'setengah', 'diperbuat', 'katanya', 'antar', 'berlainan'}\n"
     ]
    }
   ],
   "source": [
    "# Tambahkan stopwords tambahan dan kata-kata slang\n",
    "additional_stopwords = ['yg','rp','ribu', 'nya', 'dg', 'dgn', 'tdk', 'tpi', 'jg', 'krn', 'sy', 'sdh', 'lah', 'deh', 'ngga']\n",
    "stopwords_list = set(stopwords.words('indonesian') + additional_stopwords)\n",
    "\n",
    "print(stopwords_list)"
   ]
  },
  {
   "cell_type": "code",
   "execution_count": 13,
   "metadata": {},
   "outputs": [
    {
     "data": {
      "text/html": [
       "<div>\n",
       "<style scoped>\n",
       "    .dataframe tbody tr th:only-of-type {\n",
       "        vertical-align: middle;\n",
       "    }\n",
       "\n",
       "    .dataframe tbody tr th {\n",
       "        vertical-align: top;\n",
       "    }\n",
       "\n",
       "    .dataframe thead th {\n",
       "        text-align: right;\n",
       "    }\n",
       "</style>\n",
       "<table border=\"1\" class=\"dataframe\">\n",
       "  <thead>\n",
       "    <tr style=\"text-align: right;\">\n",
       "      <th></th>\n",
       "      <th>Ulasan</th>\n",
       "    </tr>\n",
       "  </thead>\n",
       "  <tbody>\n",
       "    <tr>\n",
       "      <th>0</th>\n",
       "      <td>bagus ngepas kaki mines finishing rapi benang potongan rapih</td>\n",
       "    </tr>\n",
       "    <tr>\n",
       "      <th>1</th>\n",
       "      <td>kerennn puass sepatu desainnya cakep</td>\n",
       "    </tr>\n",
       "    <tr>\n",
       "      <th>2</th>\n",
       "      <td>kualitas barang ukuran sesuai bagus ekspektasi cumapengirimannyasi cepatastaga kali</td>\n",
       "    </tr>\n",
       "    <tr>\n",
       "      <th>3</th>\n",
       "      <td>bagis</td>\n",
       "    </tr>\n",
       "    <tr>\n",
       "      <th>4</th>\n",
       "      <td>bagus sepatu</td>\n",
       "    </tr>\n",
       "    <tr>\n",
       "      <th>5</th>\n",
       "      <td>udh aerostreet ush pake</td>\n",
       "    </tr>\n",
       "    <tr>\n",
       "      <th>6</th>\n",
       "      <td>aerostreet emang joos model bagus bahannya bagus harganya bersahabat</td>\n",
       "    </tr>\n",
       "    <tr>\n",
       "      <th>7</th>\n",
       "      <td>proses kirim cepat bahan model sepatu keren sesuai ekspektasi recommended</td>\n",
       "    </tr>\n",
       "    <tr>\n",
       "      <th>8</th>\n",
       "      <td>murah murahan nyaman moga awet</td>\n",
       "    </tr>\n",
       "    <tr>\n",
       "      <th>9</th>\n",
       "      <td>jahitan rapih sol bagus</td>\n",
       "    </tr>\n",
       "    <tr>\n",
       "      <th>10</th>\n",
       "      <td>produk enam memuaskan pengemasan pengiriman cepat terimakasih</td>\n",
       "    </tr>\n",
       "    <tr>\n",
       "      <th>11</th>\n",
       "      <td>pas barang bagus sih melebihi ekspektasi sih</td>\n",
       "    </tr>\n",
       "    <tr>\n",
       "      <th>12</th>\n",
       "      <td>overall bagus</td>\n",
       "    </tr>\n",
       "    <tr>\n",
       "      <th>13</th>\n",
       "      <td>barangnya sesuai ekspektasinyaman aktivitas</td>\n",
       "    </tr>\n",
       "    <tr>\n",
       "      <th>14</th>\n",
       "      <td>mantap barang sesuai pesanan enak pake pastinya nyaman produk lokal kualitas lokalpride</td>\n",
       "    </tr>\n",
       "    <tr>\n",
       "      <th>15</th>\n",
       "      <td>good</td>\n",
       "    </tr>\n",
       "    <tr>\n",
       "      <th>16</th>\n",
       "      <td>bagus bangetttt sumpah kerenn minn</td>\n",
       "    </tr>\n",
       "    <tr>\n",
       "      <th>17</th>\n",
       "      <td>color scheme gundam banget semoga kedepannya aerostreet ngeluarin collab anime karakter terkenal</td>\n",
       "    </tr>\n",
       "    <tr>\n",
       "      <th>18</th>\n",
       "      <td>keren bangettt sesuai gamabar gak mengecewakan</td>\n",
       "    </tr>\n",
       "    <tr>\n",
       "      <th>19</th>\n",
       "      <td>sesuai ekspektasi mantaaap</td>\n",
       "    </tr>\n",
       "  </tbody>\n",
       "</table>\n",
       "</div>"
      ],
      "text/plain": [
       "                                                                                              Ulasan\n",
       "0                                       bagus ngepas kaki mines finishing rapi benang potongan rapih\n",
       "1                                                               kerennn puass sepatu desainnya cakep\n",
       "2                kualitas barang ukuran sesuai bagus ekspektasi cumapengirimannyasi cepatastaga kali\n",
       "3                                                                                              bagis\n",
       "4                                                                                       bagus sepatu\n",
       "5                                                                            udh aerostreet ush pake\n",
       "6                               aerostreet emang joos model bagus bahannya bagus harganya bersahabat\n",
       "7                          proses kirim cepat bahan model sepatu keren sesuai ekspektasi recommended\n",
       "8                                                                     murah murahan nyaman moga awet\n",
       "9                                                                            jahitan rapih sol bagus\n",
       "10                                     produk enam memuaskan pengemasan pengiriman cepat terimakasih\n",
       "11                                                      pas barang bagus sih melebihi ekspektasi sih\n",
       "12                                                                                     overall bagus\n",
       "13                                                       barangnya sesuai ekspektasinyaman aktivitas\n",
       "14           mantap barang sesuai pesanan enak pake pastinya nyaman produk lokal kualitas lokalpride\n",
       "15                                                                                              good\n",
       "16                                                                bagus bangetttt sumpah kerenn minn\n",
       "17  color scheme gundam banget semoga kedepannya aerostreet ngeluarin collab anime karakter terkenal\n",
       "18                                                    keren bangettt sesuai gamabar gak mengecewakan\n",
       "19                                                                        sesuai ekspektasi mantaaap"
      ]
     },
     "execution_count": 13,
     "metadata": {},
     "output_type": "execute_result"
    }
   ],
   "source": [
    "# Membuat fungsi untuk menghapus stopwords menghilangkan emoticon, angka, symbol, tanda baca, dan mengubah menjadi huruf kecil,tokenizer,gabungkan kembali\n",
    "def clean_text(text):\n",
    "    text = re.sub(r'@[A-Za-z0-9]+', '', text)  # Menghapus @mentions\n",
    "    text = re.sub(r'#', '', text)  # Menghapus hashtag\n",
    "    text = re.sub(r'RT[\\s]+', '', text)  # Menghapus RT\n",
    "    text = re.sub(r'https?:\\/\\/\\S+', '', text)  # Menghapus hyperlink\n",
    "    text = re.sub(r'[0-9]+', '', text)  # Menghapus angka\n",
    "    text = re.sub(r'[^\\w\\s]', '', text)  # Menghapus symbol\n",
    "    text = re.sub(r'[^\\x00-\\x7F]+', '', text)  # Menghapus emoticon\n",
    "    text = re.sub(r'\"', '', text)  # Menghapus tanda kutip\n",
    "    # Menghapus kata dengan panjang 1-2 karakter\n",
    "    text = re.sub(r'\\b\\w{1,2}\\b', '', text)\n",
    "    text = re.sub(r'\\s+', ' ', text)  # Menghapus spasi ekstra\n",
    "    text = text.strip()  # Menghapus spasi di awal dan akhir\n",
    "\n",
    "    text = text.lower()  # Mengubah menjadi huruf kecil\n",
    "    text = word_tokenize(text)  # Tokenisasi\n",
    "    # Menghapus stopwords\n",
    "    text = [word for word in text if word not in stopwords_list]\n",
    "    text = ' '.join(text)  # Menggabungkan kembali\n",
    "\n",
    "    return text\n",
    "\n",
    "\n",
    "# Menerapkan fungsi clean_text pada kolom ulasan\n",
    "df['Ulasan'] = df['Ulasan'].apply(clean_text)\n",
    "\n",
    "# Menghapus baris yang kosong pada kolom 'Ulasan'\n",
    "df = df[df['Ulasan'].str.strip() != '']\n",
    "\n",
    "# Menampilkan tabel dengan lebar kolom penuh\n",
    "pd.set_option('display.max_colwidth', None)\n",
    "df.head(20)"
   ]
  },
  {
   "cell_type": "code",
   "execution_count": 14,
   "metadata": {},
   "outputs": [],
   "source": [
    "# hasil clean text jadikan csv\n",
    "df.to_csv('dataset/Aerostreet3-2_clean.csv', index=False)"
   ]
  },
  {
   "cell_type": "code",
   "execution_count": 14,
   "metadata": {},
   "outputs": [
    {
     "data": {
      "text/html": [
       "<div>\n",
       "<style scoped>\n",
       "    .dataframe tbody tr th:only-of-type {\n",
       "        vertical-align: middle;\n",
       "    }\n",
       "\n",
       "    .dataframe tbody tr th {\n",
       "        vertical-align: top;\n",
       "    }\n",
       "\n",
       "    .dataframe thead th {\n",
       "        text-align: right;\n",
       "    }\n",
       "</style>\n",
       "<table border=\"1\" class=\"dataframe\">\n",
       "  <thead>\n",
       "    <tr style=\"text-align: right;\">\n",
       "      <th></th>\n",
       "      <th>Ulasan</th>\n",
       "    </tr>\n",
       "  </thead>\n",
       "  <tbody>\n",
       "    <tr>\n",
       "      <th>0</th>\n",
       "      <td>bagus</td>\n",
       "    </tr>\n",
       "    <tr>\n",
       "      <th>1</th>\n",
       "      <td>model keren harga murah barang gak murah moga awet barang</td>\n",
       "    </tr>\n",
       "    <tr>\n",
       "      <th>2</th>\n",
       "      <td>sesuai skripsi mantap</td>\n",
       "    </tr>\n",
       "    <tr>\n",
       "      <th>3</th>\n",
       "      <td>kualitas oke</td>\n",
       "    </tr>\n",
       "    <tr>\n",
       "      <th>4</th>\n",
       "      <td>barang kirim sesuai pesan</td>\n",
       "    </tr>\n",
       "    <tr>\n",
       "      <th>5</th>\n",
       "      <td>fast respons model keren kualitas bagus mantap</td>\n",
       "    </tr>\n",
       "    <tr>\n",
       "      <th>6</th>\n",
       "      <td>bagus</td>\n",
       "    </tr>\n",
       "    <tr>\n",
       "      <th>7</th>\n",
       "      <td>baguss brand lokal kualitas produk harga jangkau</td>\n",
       "    </tr>\n",
       "    <tr>\n",
       "      <th>8</th>\n",
       "      <td>model keren pas kaki</td>\n",
       "    </tr>\n",
       "    <tr>\n",
       "      <th>10</th>\n",
       "      <td>pas kerja jalan jalan gak licin</td>\n",
       "    </tr>\n",
       "    <tr>\n",
       "      <th>11</th>\n",
       "      <td>barang sesuai harga cacat ukur sesuai warna sesuai ramah kantong moga awet</td>\n",
       "    </tr>\n",
       "    <tr>\n",
       "      <th>12</th>\n",
       "      <td>mantab</td>\n",
       "    </tr>\n",
       "    <tr>\n",
       "      <th>13</th>\n",
       "      <td>maaf review jujur aja gak ekspektasi gede sepatu pas barang kejut estimasi barang minggu nyata tangan overall layan gak kecewa build quality sepatu good harga bilang gak mahal thanks aerostreet</td>\n",
       "    </tr>\n",
       "    <tr>\n",
       "      <th>14</th>\n",
       "      <td>bagus banget sepatu terima kasih</td>\n",
       "    </tr>\n",
       "    <tr>\n",
       "      <th>15</th>\n",
       "      <td>packingnya bungkus plastik</td>\n",
       "    </tr>\n",
       "    <tr>\n",
       "      <th>16</th>\n",
       "      <td>saran tingkat benang tinggal</td>\n",
       "    </tr>\n",
       "    <tr>\n",
       "      <th>17</th>\n",
       "      <td>model keren</td>\n",
       "    </tr>\n",
       "    <tr>\n",
       "      <th>18</th>\n",
       "      <td>mantap kak real pict nyaman kirim cepat order</td>\n",
       "    </tr>\n",
       "    <tr>\n",
       "      <th>19</th>\n",
       "      <td>bagus bat njir suka gua</td>\n",
       "    </tr>\n",
       "    <tr>\n",
       "      <th>20</th>\n",
       "      <td>model keren bahan bagus top dah</td>\n",
       "    </tr>\n",
       "  </tbody>\n",
       "</table>\n",
       "</div>"
      ],
      "text/plain": [
       "                                                                                                                                                                                               Ulasan\n",
       "0                                                                                                                                                                                               bagus\n",
       "1                                                                                                                                           model keren harga murah barang gak murah moga awet barang\n",
       "2                                                                                                                                                                               sesuai skripsi mantap\n",
       "3                                                                                                                                                                                        kualitas oke\n",
       "4                                                                                                                                                                           barang kirim sesuai pesan\n",
       "5                                                                                                                                                      fast respons model keren kualitas bagus mantap\n",
       "6                                                                                                                                                                                               bagus\n",
       "7                                                                                                                                                    baguss brand lokal kualitas produk harga jangkau\n",
       "8                                                                                                                                                                                model keren pas kaki\n",
       "10                                                                                                                                                                    pas kerja jalan jalan gak licin\n",
       "11                                                                                                                         barang sesuai harga cacat ukur sesuai warna sesuai ramah kantong moga awet\n",
       "12                                                                                                                                                                                             mantab\n",
       "13  maaf review jujur aja gak ekspektasi gede sepatu pas barang kejut estimasi barang minggu nyata tangan overall layan gak kecewa build quality sepatu good harga bilang gak mahal thanks aerostreet\n",
       "14                                                                                                                                                                   bagus banget sepatu terima kasih\n",
       "15                                                                                                                                                                         packingnya bungkus plastik\n",
       "16                                                                                                                                                                       saran tingkat benang tinggal\n",
       "17                                                                                                                                                                                        model keren\n",
       "18                                                                                                                                                      mantap kak real pict nyaman kirim cepat order\n",
       "19                                                                                                                                                                            bagus bat njir suka gua\n",
       "20                                                                                                                                                                    model keren bahan bagus top dah"
      ]
     },
     "execution_count": 14,
     "metadata": {},
     "output_type": "execute_result"
    }
   ],
   "source": [
    "# Setelah cleaning, kita akan melakukan stemming\n",
    "factory = StemmerFactory()\n",
    "stemmer = factory.create_stemmer()\n",
    "\n",
    "def stem_text(text):\n",
    "    return stemmer.stem(text)\n",
    "\n",
    "df['Ulasan'] = df['Ulasan'].apply(stem_text)\n",
    "df.head(20)"
   ]
  },
  {
   "cell_type": "code",
   "execution_count": 15,
   "metadata": {},
   "outputs": [],
   "source": [
    "# simpan ke csv hasil steming\n",
    "df.to_csv('dataset/Aerostreet4_steming.csv', index=False)"
   ]
  },
  {
   "cell_type": "code",
   "execution_count": null,
   "metadata": {},
   "outputs": [],
   "source": []
  }
 ],
 "metadata": {
  "kernelspec": {
   "display_name": "Python 3",
   "language": "python",
   "name": "python3"
  },
  "language_info": {
   "codemirror_mode": {
    "name": "ipython",
    "version": 3
   },
   "file_extension": ".py",
   "mimetype": "text/x-python",
   "name": "python",
   "nbconvert_exporter": "python",
   "pygments_lexer": "ipython3",
   "version": "3.12.0"
  }
 },
 "nbformat": 4,
 "nbformat_minor": 2
}
