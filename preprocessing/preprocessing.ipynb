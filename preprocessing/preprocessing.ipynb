{
 "cells": [
  {
   "cell_type": "code",
   "execution_count": 1,
   "metadata": {},
   "outputs": [],
   "source": [
    "import os\n",
    "import pandas as pd\n",
    "import re\n",
    "from nltk.corpus import stopwords\n",
    "from nltk.tokenize import word_tokenize\n",
    "from Sastrawi.Stemmer.StemmerFactory import StemmerFactory  # Import StemmerFactory from Sastrawi"
   ]
  },
  {
   "cell_type": "code",
   "execution_count": 2,
   "metadata": {},
   "outputs": [
    {
     "name": "stderr",
     "output_type": "stream",
     "text": [
      "[nltk_data] Downloading package stopwords to\n",
      "[nltk_data]     C:\\Users\\aulia\\AppData\\Roaming\\nltk_data...\n",
      "[nltk_data]   Package stopwords is already up-to-date!\n"
     ]
    },
    {
     "data": {
      "text/plain": [
       "True"
      ]
     },
     "execution_count": 2,
     "metadata": {},
     "output_type": "execute_result"
    }
   ],
   "source": [
    "import nltk\n",
    "nltk.download('stopwords')"
   ]
  },
  {
   "cell_type": "code",
   "execution_count": 3,
   "metadata": {},
   "outputs": [
    {
     "name": "stderr",
     "output_type": "stream",
     "text": [
      "[nltk_data] Downloading package punkt to\n",
      "[nltk_data]     C:\\Users\\aulia\\AppData\\Roaming\\nltk_data...\n",
      "[nltk_data]   Package punkt is already up-to-date!\n"
     ]
    },
    {
     "data": {
      "text/plain": [
       "True"
      ]
     },
     "execution_count": 3,
     "metadata": {},
     "output_type": "execute_result"
    }
   ],
   "source": [
    "import nltk\n",
    "nltk.download('punkt')"
   ]
  },
  {
   "cell_type": "code",
   "execution_count": 5,
   "metadata": {},
   "outputs": [
    {
     "data": {
      "text/html": [
       "<div>\n",
       "<style scoped>\n",
       "    .dataframe tbody tr th:only-of-type {\n",
       "        vertical-align: middle;\n",
       "    }\n",
       "\n",
       "    .dataframe tbody tr th {\n",
       "        vertical-align: top;\n",
       "    }\n",
       "\n",
       "    .dataframe thead th {\n",
       "        text-align: right;\n",
       "    }\n",
       "</style>\n",
       "<table border=\"1\" class=\"dataframe\">\n",
       "  <thead>\n",
       "    <tr style=\"text-align: right;\">\n",
       "      <th></th>\n",
       "      <th>Ulasan</th>\n",
       "    </tr>\n",
       "  </thead>\n",
       "  <tbody>\n",
       "    <tr>\n",
       "      <th>0</th>\n",
       "      <td>bagus</td>\n",
       "    </tr>\n",
       "    <tr>\n",
       "      <th>1</th>\n",
       "      <td>modelnya keren, harga murah barangnya gak mura...</td>\n",
       "    </tr>\n",
       "    <tr>\n",
       "      <th>2</th>\n",
       "      <td>sesuai diskripsi,mantap!</td>\n",
       "    </tr>\n",
       "    <tr>\n",
       "      <th>3</th>\n",
       "      <td>kualitas oke sekali</td>\n",
       "    </tr>\n",
       "    <tr>\n",
       "      <th>4</th>\n",
       "      <td>barang dikirim sesuai dengan pesanan</td>\n",
       "    </tr>\n",
       "  </tbody>\n",
       "</table>\n",
       "</div>"
      ],
      "text/plain": [
       "                                              Ulasan\n",
       "0                                              bagus\n",
       "1  modelnya keren, harga murah barangnya gak mura...\n",
       "2                           sesuai diskripsi,mantap!\n",
       "3                                kualitas oke sekali\n",
       "4               barang dikirim sesuai dengan pesanan"
      ]
     },
     "execution_count": 5,
     "metadata": {},
     "output_type": "execute_result"
    }
   ],
   "source": [
    "# Mengambil dataset dari folder 'dataset'\n",
    "dataset_path = 'dataset/Aerostreet4.csv'\n",
    "df = pd.read_csv(dataset_path)\n",
    "df.head()"
   ]
  },
  {
   "cell_type": "code",
   "execution_count": 9,
   "metadata": {},
   "outputs": [
    {
     "name": "stdout",
     "output_type": "stream",
     "text": [
      "Ulasan    0\n",
      "dtype: int64\n"
     ]
    }
   ],
   "source": [
    "# Menghapus baris yang kososng pada kolom ulasan\n",
    "df = df.dropna(subset=['Ulasan'])\n",
    "# tampilkan informasi bahwa tidak ada baris yang kosong\n",
    "print(df.isnull().sum())"
   ]
  },
  {
   "cell_type": "code",
   "execution_count": 7,
   "metadata": {},
   "outputs": [
    {
     "name": "stdout",
     "output_type": "stream",
     "text": [
      "{'waduh', 'jumlahnya', 'sebelumnya', 'berkali-kali', 'bersama', 'harusnya', 'diungkapkan', 'merupakan', 'per', 'sebaiknya', 'berkeinginan', 'lebih', 'menegaskan', 'nyaris', 'teringat-ingat', 'dibuatnya', 'berapalah', 'lamanya', 'menghendaki', 'saat', 'karenanya', 'meyakinkan', 'segalanya', 'sekurangnya', 'ujarnya', 'bersiap', 'nah', 'kasus', 'sedikit', 'sebagainya', 'tentu', 'pertanyakan', 'tidak', 'rasanya', 'atau', 'berakhirlah', 'mengibaratkannya', 'diperkirakan', 'balik', 'rata', 'tentang', 'bung', 'antara', 'mempersoalkan', 'tetap', 'belum', 'sedemikian', 'tertuju', 'sebabnya', 'terlalu', 'pada', 'dituturkannya', 'tidakkah', 'mulailah', 'menantikan', 'tandasnya', 'biasa', 'tunjuk', 'maupun', 'belakang', 'berikut', 'melainkan', 'diberi', 'seseorang', 'kami', 'tiba', 'nya', 'setempat', 'bahwasanya', 'sekadar', 'seusai', 'tandas', 'betul', 'ucapnya', 'sebagaimana', 'melalui', 'dia', 'anda', 'ditanya', 'pantas', 'padahal', 'dibuat', 'mendapatkan', 'setiap', 'ribu', 'masing-masing', 'namun', 'berupa', 'mula', 'bukan', 'mengucapkan', 'ungkap', 'masing', 'menyangkut', 'mengungkapkan', 'sepertinya', 'kemudian', 'nantinya', 'demikian', 'minta', 'sejak', 'di', 'bolehkah', 'seberapa', 'harus', 'saja', 'menuturkan', 'lewat', 'menanyai', 'terakhir', 'kelamaan', 'semacam', 'saling', 'sama', 'ke', 'ada', 'wong', 'lima', 'menambahkan', 'kinilah', 'meminta', 'guna', 'keduanya', 'terkira', 'menyiapkan', 'merekalah', 'sekitarnya', 'berarti', 'ucap', 'menanti-nanti', 'yang', 'beri', 'oleh', 'seorang', 'sebelum', 'mempergunakan', 'bekerja', 'tersebut', 'pernah', 'pastilah', 'terhadap', 'sebuah', 'semata-mata', 'apatah', 'ditambahkan', 'mendatangkan', 'sesuatu', 'yaitu', 'kemungkinannya', 'semampunya', 'mempertanyakan', 'cukup', 'dilihat', 'tentulah', 'dengan', 'diucapkannya', 'ditunjuk', 'jangan', 'bersama-sama', 'besar', 'keterlaluan', 'siapapun', 'tpi', 'tegasnya', 'diperlukannya', 'punya', 'sebaik-baiknya', 'dimulainya', 'melihat', 'deh', 'seluruh', 'selalu', 'jelaskan', 'jelaslah', 'selain', 'tanya', 'tegas', 'tutur', 'setengah', 'hingga', 'lah', 'cukupkah', 'lama', 'mana', 'ditanyai', 'dimaksudkannya', 'keseluruhan', 'dimaksudkan', 'pertama', 'diminta', 'terdahulu', 'segera', 'bermaksud', 'awalnya', 'bertutur', 'dahulu', 'tetapi', 'selanjutnya', 'setibanya', 'selamanya', 'amat', 'seluruhnya', 'pertanyaan', 'satu', 'seolah-olah', 'nyatanya', 'se', 'bermacam', 'ditegaskan', 'sudahlah', 'tampaknya', 'diketahuinya', 'sejumlah', 'sesuatunya', 'akhir', 'berkata', 'dalam', 'perlu', 'turut', 'kemungkinan', 'mulai', 'diantara', 'tengah', 'berbagai', 'naik', 'selama-lamanya', 'semuanya', 'sendirian', 'tambahnya', 'sebut', 'memisalkan', 'walau', 'diberikannya', 'betulkah', 'amatlah', 'dapat', 'sebenarnya', 'mengingatkan', 'inikah', 'serta', 'sampai', 'sebutlah', 'sebetulnya', 'kelihatannya', 'bagaimanakah', 'terdapat', 'dialah', 'tentunya', 'dikatakan', 'seketika', 'kesampaian', 'terutama', 'kalau', 'bahkan', 'semasih', 'keseluruhannya', 'cukuplah', 'sekecil', 'sekalipun', 'umum', 'beginilah', 'tinggi', 'menunjukkan', 'terlebih', 'dari', 'adapun', 'misalkan', 'sambil', 'kalaulah', 'menjadi', 'katanya', 'pun', 'ini', 'jauh', 'hampir', 'diperbuatnya', 'datang', 'benarlah', 'jadi', 'disebutkannya', 'diingatkan', 'perlukah', 'jelas', 'menunjuk', 'meski', 'sampai-sampai', 'nanti', 'rp', 'dituturkan', 'krn', 'janganlah', 'masihkah', 'menuju', 'diperbuat', 'kok', 'meyakini', 'tanpa', 'yakni', 'entahlah', 'dijelaskannya', 'didatangkan', 'hanyalah', 'setidaknya', 'kapankah', 'begitukah', 'masa', 'baru', 'memihak', 'kamulah', 'tambah', 'kapan', 'menanyakan', 'itu', 'bukanlah', 'entah', 'lainnya', 'umumnya', 'secukupnya', 'perlunya', 'soal', 'diibaratkan', 'saatnya', 'dikatakannya', 'dimulailah', 'bulan', 'memang', 'terlihat', 'kembali', 'jawab', 'sangatlah', 'berlainan', 'lain', 'sedang', 'semula', 'tidaklah', 'apa', 'sementara', 'begini', 'semisalnya', 'terbanyak', 'tiba-tiba', 'sebab', 'kamilah', 'ingat', 'sebaik', 'awal', 'segala', 'kitalah', 'dilakukan', 'kalian', 'sepanjang', 'yg', 'malahan', 'berapa', 'tahun', 'mungkin', 'menyampaikan', 'berlebihan', 'bukannya', 'bisakah', 'jikalau', 'pula', 'melihatnya', 'mau', 'mirip', 'rasa', 'berdatangan', 'sepantasnyalah', 'sepihak', 'ungkapnya', 'menunjuki', 'ibarat', 'secara', 'asal', 'kepadanya', 'ditunjukkan', 'tadi', 'mengibaratkan', 'sesudah', 'dimisalkan', 'wahai', 'dimintai', 'tanyanya', 'benar', 'ujar', 'memulai', 'bawah', 'tadinya', 'begitupun', 'dikerjakan', 'didapat', 'meskipun', 'ikut', 'lagi', 'dgn', 'malah', 'artinya', 'cara', 'seperti', 'mengira', 'berapakah', 'untuk', 'antar', 'dan', 'manakala', 'ternyata', 'dimungkinkan', 'ataukah', 'kita', 'inginkan', 'diingat', 'ditunjuki', 'karena', 'sekiranya', 'sampaikan', 'belumlah', 'panjang', 'bukankah', 'yakin', 'manalagi', 'begitulah', 'kenapa', 'demi', 'ia', 'dipertanyakan', 'haruslah', 'sesaat', 'bagaimana', 'akankah', 'sejenak', 'kiranya', 'supaya', 'sayalah', 'sana', 'sebisanya', 'pak', 'suatu', 'semasa', 'dini', 'tdk', 'diakhirinya', 'sehingga', 'setinggi', 'berturut-turut', 'khususnya', 'disebutkan', 'itulah', 'digunakan', 'sedikitnya', 'siapa', 'banyak', 'gunakan', 'sesudahnya', 'makanya', 'sempat', 'ditandaskan', 'hari', 'berikutnya', 'hendaklah', 'berada', 'waktunya', 'dimaksud', 'mendatangi', 'sedangkan', 'diri', 'kalaupun', 'beginikah', 'buat', 'lanjut', 'terhadapnya', 'semampu', 'bertanya-tanya', 'berakhir', 'apabila', 'mempunyai', 'beginian', 'keluar', 'menyebutkan', 'belakangan', 'kelima', 'memberikan', 'mengatakannya', 'seperlunya', 'persoalan', 'dijelaskan', 'kecil', 'kan', 'bermacam-macam', 'teringat', 'sekurang-kurangnya', 'diperlukan', 'tertentu', 'adalah', 'mendatang', 'tiga', 'para', 'terjadinya', 'bermula', 'ingin', 'antaranya', 'melakukan', 'dimulai', 'tersampaikan', 'mendapat', 'telah', 'setidak-tidaknya', 'tepat', 'merasa', 'semaunya', 'berjumlah', 'cuma', 'dijawab', 'sendiri', 'tanyakan', 'sangat', 'mengapa', 'kira-kira', 'menandaskan', 'terjadi', 'bolehlah', 'dilalui', 'menjawab', 'makin', 'sejauh', 'sebegini', 'apalagi', 'biasanya', 'terjadilah', 'mereka', 'lanjutnya', 'usah', 'siap', 'berapapun', 'walaupun', 'diinginkan', 'berlangsung', 'menurut', 'jadilah', 'juga', 'tersebutlah', 'bila', 'mengenai', 'pasti', 'agak', 'sepantasnya', 'akan', 'hanya', 'padanya', 'diucapkan', 'dipergunakan', 'bertanya', 'inginkah', 'berlalu', 'kapanpun', 'semua', 'sebagian', 'seolah', 'toh', 'membuat', 'kira', 'apakah', 'sekarang', 'andalah', 'lagian', 'menjelaskan', 'bisa', 'kelihatan', 'menunjuknya', 'asalkan', 'diibaratkannya', 'siapakah', 'tak', 'jadinya', 'sebegitu', 'menyeluruh', 'seenaknya', 'sendirinya', 'berkenaan', 'kata', 'seterusnya', 'beberapa', 'misal', 'seringnya', 'sinilah', 'berkehendak', 'berujar', 'agar', 'sekadarnya', 'setiba', 'ibaratkan', 'sebanyak', 'bersiap-siap', 'hendaknya', 'dikarenakan', 'dipersoalkan', 'dong', 'ialah', 'disinilah', 'sekalian', 'luar', 'mungkinkah', 'menggunakan', 'memberi', 'diberikan', 'serupa', 'kala', 'bakal', 'bapak', 'katakanlah', 'memperkirakan', 'tampak', 'sdh', 'akhirnya', 'setelah', 'ditunjukkannya', 'mengingat', 'sekali', 'sesegera', 'sajalah', 'mengucapkannya', 'dirinya', 'menanti', 'jg', 'mengatakan', 'memperbuat', 'sini', 'seharusnya', 'mengetahui', 'mengerjakan', 'depan', 'jumlah', 'benarkah', 'jawaban', 'memerlukan', 'bakalan', 'pihak', 'inilah', 'jelasnya', 'saya', 'usai', 'ditunjuknya', 'maka', 'ingat-ingat', 'misalnya', 'mulanya', 'dipastikan', 'keadaan', 'penting', 'disini', 'macam', 'aku', 'percuma', 'seingat', 'sy', 'terdiri', 'tahu', 'keinginan', 'mempersiapkan', 'lalu', 'demikianlah', 'atas', 'selama', 'pentingnya', 'diketahui', 'ditujukan', 'paling', 'berturut', 'sudahkah', 'waktu', 'sebagai', 'semisal', 'akulah', 'sebaliknya', 'sekitar', 'masalah', 'selaku', 'caranya', 'bagian', 'dekat', 'pukul', 'dipunyai', 'jawabnya', 'sesekali', 'apaan', 'olehnya', 'diakhiri', 'wah', 'menanya', 'memintakan', 'adanya', 'kedua', 'semata', 'rupanya', 'memungkinkan', 'katakan', 'mampukah', 'ibu', 'ketika', 'bagaimanapun', 'berikan', 'soalnya', 'sering', 'pihaknya', 'bagai', 'tapi', 'pertama-tama', 'terus', 'disampaikan', 'bilakah', 'hendak', 'bahwa', 'sekaligus', 'semakin', 'agaknya', 'dulu', 'diperlihatkan', 'akhiri', 'tiap', 'kebetulan', 'sama-sama', 'kamu', 'ditanyakan', 'ataupun', 'menginginkan', 'disebut', 'jangankan', 'sekali-kali', 'sela', 'tuturnya', 'enggaknya', 'daripada', 'memastikan', 'sesama', 'dua', 'kini', 'bagaikan', 'bagi', 'boleh', 'dimaksudnya', 'dg', 'ngga', 'empat', 'sesampai', 'sebesar', 'sewaktu', 'enggak', 'masih', 'dikira', 'kurang', 'tempat', 'sebutnya', 'masalahnya', 'sudah', 'diantaranya', 'itukah', 'termasuk', 'mampu', 'justru', 'mengakhiri', 'memperlihatkan', 'menaiki', 'terasa', 'begitu', 'jika', 'berawal', 'menyatakan', 'berakhirnya', 'kepada', 'ibaratnya', 'hal', 'baik'}\n"
     ]
    }
   ],
   "source": [
    "# Tambahkan stopwords tambahan dan kata-kata slang\n",
    "additional_stopwords = ['yg','rp','ribu', 'nya', 'dg', 'dgn', 'tdk', 'tpi', 'jg', 'krn', 'sy', 'sdh', 'lah', 'deh', 'ngga']\n",
    "stopwords_list = set(stopwords.words('indonesian') + additional_stopwords)\n",
    "\n",
    "print(stopwords_list)"
   ]
  },
  {
   "cell_type": "code",
   "execution_count": 12,
   "metadata": {},
   "outputs": [
    {
     "data": {
      "text/html": [
       "<div>\n",
       "<style scoped>\n",
       "    .dataframe tbody tr th:only-of-type {\n",
       "        vertical-align: middle;\n",
       "    }\n",
       "\n",
       "    .dataframe tbody tr th {\n",
       "        vertical-align: top;\n",
       "    }\n",
       "\n",
       "    .dataframe thead th {\n",
       "        text-align: right;\n",
       "    }\n",
       "</style>\n",
       "<table border=\"1\" class=\"dataframe\">\n",
       "  <thead>\n",
       "    <tr style=\"text-align: right;\">\n",
       "      <th></th>\n",
       "      <th>Ulasan</th>\n",
       "    </tr>\n",
       "  </thead>\n",
       "  <tbody>\n",
       "    <tr>\n",
       "      <th>0</th>\n",
       "      <td>bagus</td>\n",
       "    </tr>\n",
       "    <tr>\n",
       "      <th>1</th>\n",
       "      <td>modelnya keren harga murah barangnya gak murahan semoga awet barangnya</td>\n",
       "    </tr>\n",
       "    <tr>\n",
       "      <th>2</th>\n",
       "      <td>sesuai diskripsimantap</td>\n",
       "    </tr>\n",
       "    <tr>\n",
       "      <th>3</th>\n",
       "      <td>kualitas oke</td>\n",
       "    </tr>\n",
       "    <tr>\n",
       "      <th>4</th>\n",
       "      <td>barang dikirim sesuai pesanan</td>\n",
       "    </tr>\n",
       "    <tr>\n",
       "      <th>5</th>\n",
       "      <td>fast respons model keren kualitas bagus mantap</td>\n",
       "    </tr>\n",
       "    <tr>\n",
       "      <th>6</th>\n",
       "      <td>bagus</td>\n",
       "    </tr>\n",
       "    <tr>\n",
       "      <th>7</th>\n",
       "      <td>baguss brand lokal kualitas produknya harga terjangkau</td>\n",
       "    </tr>\n",
       "    <tr>\n",
       "      <th>8</th>\n",
       "      <td>model keren pas kaki</td>\n",
       "    </tr>\n",
       "    <tr>\n",
       "      <th>10</th>\n",
       "      <td>pas kerja jalan jalan gak licin</td>\n",
       "    </tr>\n",
       "    <tr>\n",
       "      <th>11</th>\n",
       "      <td>barang sesuai harga cacat ukuran sesuai warna sesuai ramah dikantong semoga awet</td>\n",
       "    </tr>\n",
       "    <tr>\n",
       "      <th>12</th>\n",
       "      <td>mantab</td>\n",
       "    </tr>\n",
       "    <tr>\n",
       "      <th>13</th>\n",
       "      <td>maaf review jujur aja gak ekspektasi gede sepatunya pas barang terkejut estimasi barang mingguan tangan overall pelayanannya gak mengecewakan build quality sepatunya good harga dibilang gak mahal thanks aerostreet</td>\n",
       "    </tr>\n",
       "    <tr>\n",
       "      <th>14</th>\n",
       "      <td>bagus banget sepatunya terima kasih</td>\n",
       "    </tr>\n",
       "    <tr>\n",
       "      <th>15</th>\n",
       "      <td>packingnya dibungkus plastik</td>\n",
       "    </tr>\n",
       "    <tr>\n",
       "      <th>16</th>\n",
       "      <td>saran ditingkatkan benang tertinggal</td>\n",
       "    </tr>\n",
       "    <tr>\n",
       "      <th>17</th>\n",
       "      <td>model keren</td>\n",
       "    </tr>\n",
       "    <tr>\n",
       "      <th>18</th>\n",
       "      <td>mantap kak real pict nyaman pengiriman cepat order</td>\n",
       "    </tr>\n",
       "    <tr>\n",
       "      <th>19</th>\n",
       "      <td>bagus bat njir suka gua</td>\n",
       "    </tr>\n",
       "    <tr>\n",
       "      <th>20</th>\n",
       "      <td>model keren bahan bagus top dah</td>\n",
       "    </tr>\n",
       "  </tbody>\n",
       "</table>\n",
       "</div>"
      ],
      "text/plain": [
       "                                                                                                                                                                                                                   Ulasan\n",
       "0                                                                                                                                                                                                                   bagus\n",
       "1                                                                                                                                                  modelnya keren harga murah barangnya gak murahan semoga awet barangnya\n",
       "2                                                                                                                                                                                                  sesuai diskripsimantap\n",
       "3                                                                                                                                                                                                            kualitas oke\n",
       "4                                                                                                                                                                                           barang dikirim sesuai pesanan\n",
       "5                                                                                                                                                                          fast respons model keren kualitas bagus mantap\n",
       "6                                                                                                                                                                                                                   bagus\n",
       "7                                                                                                                                                                  baguss brand lokal kualitas produknya harga terjangkau\n",
       "8                                                                                                                                                                                                    model keren pas kaki\n",
       "10                                                                                                                                                                                        pas kerja jalan jalan gak licin\n",
       "11                                                                                                                                       barang sesuai harga cacat ukuran sesuai warna sesuai ramah dikantong semoga awet\n",
       "12                                                                                                                                                                                                                 mantab\n",
       "13  maaf review jujur aja gak ekspektasi gede sepatunya pas barang terkejut estimasi barang mingguan tangan overall pelayanannya gak mengecewakan build quality sepatunya good harga dibilang gak mahal thanks aerostreet\n",
       "14                                                                                                                                                                                    bagus banget sepatunya terima kasih\n",
       "15                                                                                                                                                                                           packingnya dibungkus plastik\n",
       "16                                                                                                                                                                                   saran ditingkatkan benang tertinggal\n",
       "17                                                                                                                                                                                                            model keren\n",
       "18                                                                                                                                                                     mantap kak real pict nyaman pengiriman cepat order\n",
       "19                                                                                                                                                                                                bagus bat njir suka gua\n",
       "20                                                                                                                                                                                        model keren bahan bagus top dah"
      ]
     },
     "execution_count": 12,
     "metadata": {},
     "output_type": "execute_result"
    }
   ],
   "source": [
    "# Membuat fungsi untuk menghapus stopwords menghilangkan emoticon, angka, symbol, tanda baca, dan mengubah menjadi huruf kecil,tokenizer,gabungkan kembali\n",
    "def clean_text(text):\n",
    "    text = re.sub(r'@[A-Za-z0-9]+', '', text)  # Menghapus @mentions\n",
    "    text = re.sub(r'#', '', text)  # Menghapus hashtag\n",
    "    text = re.sub(r'RT[\\s]+', '', text)  # Menghapus RT\n",
    "    text = re.sub(r'https?:\\/\\/\\S+', '', text)  # Menghapus hyperlink\n",
    "    text = re.sub(r'[0-9]+', '', text)  # Menghapus angka\n",
    "    text = re.sub(r'[^\\w\\s]', '', text)  # Menghapus symbol\n",
    "    text = re.sub(r'[^\\x00-\\x7F]+', '', text)  # Menghapus emoticon\n",
    "    text = re.sub(r'\"', '', text)  # Menghapus tanda kutip\n",
    "    # Menghapus kata dengan panjang 1-2 karakter\n",
    "    text = re.sub(r'\\b\\w{1,2}\\b', '', text)\n",
    "    text = re.sub(r'\\s+', ' ', text)  # Menghapus spasi ekstra\n",
    "    text = text.strip()  # Menghapus spasi di awal dan akhir\n",
    "\n",
    "    text = text.lower()  # Mengubah menjadi huruf kecil\n",
    "    text = word_tokenize(text)  # Tokenisasi\n",
    "    # Menghapus stopwords\n",
    "    text = [word for word in text if word not in stopwords_list]\n",
    "    text = ' '.join(text)  # Menggabungkan kembali\n",
    "\n",
    "    return text\n",
    "\n",
    "\n",
    "# Menerapkan fungsi clean_text pada kolom ulasan\n",
    "df['Ulasan'] = df['Ulasan'].apply(clean_text)\n",
    "\n",
    "# Menghapus baris yang kosong pada kolom 'Ulasan'\n",
    "df = df[df['Ulasan'].str.strip() != '']\n",
    "\n",
    "# Menampilkan tabel dengan lebar kolom penuh\n",
    "pd.set_option('display.max_colwidth', None)\n",
    "df.head(20)"
   ]
  },
  {
   "cell_type": "code",
   "execution_count": 13,
   "metadata": {},
   "outputs": [],
   "source": [
    "# hasil clean text jadikan csv\n",
    "df.to_csv('dataset/Aerostreet4_clean.csv', index=False)"
   ]
  },
  {
   "cell_type": "code",
   "execution_count": 13,
   "metadata": {},
   "outputs": [
    {
     "data": {
      "text/html": [
       "<div>\n",
       "<style scoped>\n",
       "    .dataframe tbody tr th:only-of-type {\n",
       "        vertical-align: middle;\n",
       "    }\n",
       "\n",
       "    .dataframe tbody tr th {\n",
       "        vertical-align: top;\n",
       "    }\n",
       "\n",
       "    .dataframe thead th {\n",
       "        text-align: right;\n",
       "    }\n",
       "</style>\n",
       "<table border=\"1\" class=\"dataframe\">\n",
       "  <thead>\n",
       "    <tr style=\"text-align: right;\">\n",
       "      <th></th>\n",
       "      <th>Ulasan</th>\n",
       "    </tr>\n",
       "  </thead>\n",
       "  <tbody>\n",
       "    <tr>\n",
       "      <th>0</th>\n",
       "      <td>sesuai pesan sepatu bagus kirim cepat</td>\n",
       "    </tr>\n",
       "    <tr>\n",
       "      <th>1</th>\n",
       "      <td>sepatu jujur murah banget bagus sayang jahit lepas outsolenya rapi mulus finis</td>\n",
       "    </tr>\n",
       "    <tr>\n",
       "      <th>2</th>\n",
       "      <td>udah dapet alas sepatu mantap moga awet</td>\n",
       "    </tr>\n",
       "    <tr>\n",
       "      <th>3</th>\n",
       "      <td>keren</td>\n",
       "    </tr>\n",
       "    <tr>\n",
       "      <th>4</th>\n",
       "      <td>barang bagus rapi kualitas produk negeri pokok</td>\n",
       "    </tr>\n",
       "    <tr>\n",
       "      <th>5</th>\n",
       "      <td>udh bingung ngasih ulas bagus gitu aja</td>\n",
       "    </tr>\n",
       "    <tr>\n",
       "      <th>6</th>\n",
       "      <td>sip moga jebol karna dipake lumayan enak empuk keras</td>\n",
       "    </tr>\n",
       "    <tr>\n",
       "      <th>7</th>\n",
       "      <td>kualitas bagus proses order jam udh dikirimterima kasih</td>\n",
       "    </tr>\n",
       "    <tr>\n",
       "      <th>8</th>\n",
       "      <td>bagus keren ajib bangga dengn prodak lokal lokal gentar</td>\n",
       "    </tr>\n",
       "    <tr>\n",
       "      <th>9</th>\n",
       "      <td>sesuai gambar allhamdulilah anak senang</td>\n",
       "    </tr>\n",
       "    <tr>\n",
       "      <th>10</th>\n",
       "      <td>model keren harga pas kantong bahan bagus mantap</td>\n",
       "    </tr>\n",
       "    <tr>\n",
       "      <th>11</th>\n",
       "      <td>bahan awet</td>\n",
       "    </tr>\n",
       "    <tr>\n",
       "      <th>12</th>\n",
       "      <td>kali beli produk aerostreet sepatu bagus empuk banget kualitas bagus sesuai hargameskipun kardus penyok sepatu amanrespo</td>\n",
       "    </tr>\n",
       "    <tr>\n",
       "      <th>13</th>\n",
       "      <td>barang bagus harga murah kirim cepat seller tokopedia emang top dah</td>\n",
       "    </tr>\n",
       "    <tr>\n",
       "      <th>14</th>\n",
       "      <td>barang sesuai pesan kualitas mantap lokaltakgentar</td>\n",
       "    </tr>\n",
       "    <tr>\n",
       "      <th>15</th>\n",
       "      <td>packing hancur beranta</td>\n",
       "    </tr>\n",
       "    <tr>\n",
       "      <th>16</th>\n",
       "      <td>kalo sepatu lumayan sesuai harga</td>\n",
       "    </tr>\n",
       "    <tr>\n",
       "      <th>17</th>\n",
       "      <td>respon cepat produk sesuai harga potong rapi pasang tali lurus</td>\n",
       "    </tr>\n",
       "    <tr>\n",
       "      <th>18</th>\n",
       "      <td>barang selamat</td>\n",
       "    </tr>\n",
       "    <tr>\n",
       "      <th>19</th>\n",
       "      <td>barang sesuai ukur pas</td>\n",
       "    </tr>\n",
       "  </tbody>\n",
       "</table>\n",
       "</div>"
      ],
      "text/plain": [
       "                                                                                                                      Ulasan\n",
       "0                                                                                      sesuai pesan sepatu bagus kirim cepat\n",
       "1                                             sepatu jujur murah banget bagus sayang jahit lepas outsolenya rapi mulus finis\n",
       "2                                                                                    udah dapet alas sepatu mantap moga awet\n",
       "3                                                                                                                      keren\n",
       "4                                                                             barang bagus rapi kualitas produk negeri pokok\n",
       "5                                                                                     udh bingung ngasih ulas bagus gitu aja\n",
       "6                                                                       sip moga jebol karna dipake lumayan enak empuk keras\n",
       "7                                                                    kualitas bagus proses order jam udh dikirimterima kasih\n",
       "8                                                                    bagus keren ajib bangga dengn prodak lokal lokal gentar\n",
       "9                                                                                    sesuai gambar allhamdulilah anak senang\n",
       "10                                                                          model keren harga pas kantong bahan bagus mantap\n",
       "11                                                                                                                bahan awet\n",
       "12  kali beli produk aerostreet sepatu bagus empuk banget kualitas bagus sesuai hargameskipun kardus penyok sepatu amanrespo\n",
       "13                                                       barang bagus harga murah kirim cepat seller tokopedia emang top dah\n",
       "14                                                                        barang sesuai pesan kualitas mantap lokaltakgentar\n",
       "15                                                                                                    packing hancur beranta\n",
       "16                                                                                          kalo sepatu lumayan sesuai harga\n",
       "17                                                            respon cepat produk sesuai harga potong rapi pasang tali lurus\n",
       "18                                                                                                            barang selamat\n",
       "19                                                                                                    barang sesuai ukur pas"
      ]
     },
     "execution_count": 13,
     "metadata": {},
     "output_type": "execute_result"
    }
   ],
   "source": [
    "# Setelah cleaning, kita akan melakukan stemming\n",
    "factory = StemmerFactory()\n",
    "stemmer = factory.create_stemmer()\n",
    "\n",
    "def stem_text(text):\n",
    "    return stemmer.stem(text)\n",
    "\n",
    "df['Ulasan'] = df['Ulasan'].apply(stem_text)\n",
    "df.head(20)"
   ]
  },
  {
   "cell_type": "code",
   "execution_count": 14,
   "metadata": {},
   "outputs": [],
   "source": [
    "# simpan ke csv hasil steming\n",
    "df.to_csv('dataset/Aerostreet1_steming.csv', index=False)"
   ]
  },
  {
   "cell_type": "code",
   "execution_count": null,
   "metadata": {},
   "outputs": [],
   "source": []
  }
 ],
 "metadata": {
  "kernelspec": {
   "display_name": "Python 3",
   "language": "python",
   "name": "python3"
  },
  "language_info": {
   "codemirror_mode": {
    "name": "ipython",
    "version": 3
   },
   "file_extension": ".py",
   "mimetype": "text/x-python",
   "name": "python",
   "nbconvert_exporter": "python",
   "pygments_lexer": "ipython3",
   "version": "3.12.0"
  }
 },
 "nbformat": 4,
 "nbformat_minor": 2
}
