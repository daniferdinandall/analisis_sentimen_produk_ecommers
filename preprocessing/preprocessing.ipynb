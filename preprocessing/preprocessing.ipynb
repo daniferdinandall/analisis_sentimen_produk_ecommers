{
 "cells": [
  {
   "cell_type": "code",
   "execution_count": 8,
   "metadata": {},
   "outputs": [],
   "source": [
    "import os\n",
    "import pandas as pd\n",
    "import re\n",
    "from nltk.corpus import stopwords\n",
    "from nltk.tokenize import word_tokenize\n",
    "from Sastrawi.Stemmer.StemmerFactory import StemmerFactory  # Import StemmerFactory from Sastrawi"
   ]
  },
  {
   "cell_type": "code",
   "execution_count": 2,
   "metadata": {},
   "outputs": [
    {
     "name": "stderr",
     "output_type": "stream",
     "text": [
      "[nltk_data] Downloading package stopwords to\n",
      "[nltk_data]     C:\\Users\\aulia\\AppData\\Roaming\\nltk_data...\n",
      "[nltk_data]   Package stopwords is already up-to-date!\n"
     ]
    },
    {
     "data": {
      "text/plain": [
       "True"
      ]
     },
     "execution_count": 2,
     "metadata": {},
     "output_type": "execute_result"
    }
   ],
   "source": [
    "import nltk\n",
    "nltk.download('stopwords')"
   ]
  },
  {
   "cell_type": "code",
   "execution_count": 3,
   "metadata": {},
   "outputs": [
    {
     "name": "stderr",
     "output_type": "stream",
     "text": [
      "[nltk_data] Downloading package punkt to\n",
      "[nltk_data]     C:\\Users\\aulia\\AppData\\Roaming\\nltk_data...\n",
      "[nltk_data]   Package punkt is already up-to-date!\n"
     ]
    },
    {
     "data": {
      "text/plain": [
       "True"
      ]
     },
     "execution_count": 3,
     "metadata": {},
     "output_type": "execute_result"
    }
   ],
   "source": [
    "import nltk\n",
    "nltk.download('punkt')"
   ]
  },
  {
   "cell_type": "code",
   "execution_count": 9,
   "metadata": {},
   "outputs": [
    {
     "data": {
      "text/html": [
       "<div>\n",
       "<style scoped>\n",
       "    .dataframe tbody tr th:only-of-type {\n",
       "        vertical-align: middle;\n",
       "    }\n",
       "\n",
       "    .dataframe tbody tr th {\n",
       "        vertical-align: top;\n",
       "    }\n",
       "\n",
       "    .dataframe thead th {\n",
       "        text-align: right;\n",
       "    }\n",
       "</style>\n",
       "<table border=\"1\" class=\"dataframe\">\n",
       "  <thead>\n",
       "    <tr style=\"text-align: right;\">\n",
       "      <th></th>\n",
       "      <th>Ulasan</th>\n",
       "    </tr>\n",
       "  </thead>\n",
       "  <tbody>\n",
       "    <tr>\n",
       "      <th>0</th>\n",
       "      <td>bagus</td>\n",
       "    </tr>\n",
       "    <tr>\n",
       "      <th>1</th>\n",
       "      <td>model keren harga murah barang gak murah moga ...</td>\n",
       "    </tr>\n",
       "    <tr>\n",
       "      <th>2</th>\n",
       "      <td>sesuai skripsi mantap</td>\n",
       "    </tr>\n",
       "    <tr>\n",
       "      <th>3</th>\n",
       "      <td>kualitas oke sekali</td>\n",
       "    </tr>\n",
       "    <tr>\n",
       "      <th>4</th>\n",
       "      <td>barang kirim sesuai dengan pesan</td>\n",
       "    </tr>\n",
       "  </tbody>\n",
       "</table>\n",
       "</div>"
      ],
      "text/plain": [
       "                                              Ulasan\n",
       "0                                              bagus\n",
       "1  model keren harga murah barang gak murah moga ...\n",
       "2                              sesuai skripsi mantap\n",
       "3                                kualitas oke sekali\n",
       "4                   barang kirim sesuai dengan pesan"
      ]
     },
     "execution_count": 9,
     "metadata": {},
     "output_type": "execute_result"
    }
   ],
   "source": [
    "# Mengambil dataset dari folder 'dataset'\n",
    "dataset_path = 'dataset/Aerostreet4_steming.csv'\n",
    "df = pd.read_csv(dataset_path)\n",
    "df.head()"
   ]
  },
  {
   "cell_type": "code",
   "execution_count": 10,
   "metadata": {},
   "outputs": [
    {
     "name": "stdout",
     "output_type": "stream",
     "text": [
      "Ulasan    0\n",
      "dtype: int64\n"
     ]
    }
   ],
   "source": [
    "# Menghapus baris yang kososng pada kolom ulasan\n",
    "df = df.dropna(subset=['Ulasan'])\n",
    "# tampilkan informasi bahwa tidak ada baris yang kosong\n",
    "print(df.isnull().sum())"
   ]
  },
  {
   "cell_type": "code",
   "execution_count": 11,
   "metadata": {},
   "outputs": [
    {
     "name": "stdout",
     "output_type": "stream",
     "text": [
      "{'jumlah', 'diperbuatnya', 'wong', 'ada', 'disebutkan', 'betulkah', 'bung', 'mengungkapkan', 'dimulai', 'sebagainya', 'dan', 'bagaimana', 'sehingga', 'dipastikan', 'selama', 'baik', 'oleh', 'paling', 'ngga', 'jadi', 'lain', 'menantikan', 'tempat', 'sebaik', 'cukup', 'bagaimanapun', 'sebegini', 'sepertinya', 'khususnya', 'ditanyai', 'tertuju', 'bermaksud', 'dia', 'tak', 'tampak', 'dapat', 'dibuatnya', 'selalu', 'ditegaskan', 'ditambahkan', 'bersama-sama', 'diberikan', 'semula', 'berada', 'lagi', 'sebaiknya', 'sejak', 'mengucapkannya', 'serta', 'tandasnya', 'kurang', 'kebetulan', 'ujar', 'ataukah', 'bukankah', 'tambahnya', 'dulu', 'melainkan', 'inginkah', 'begitu', 'mendapatkan', 'lainnya', 'semisal', 'bisakah', 'bukan', 'kenapa', 'merupakan', 'pertama', 'wahai', 'agaknya', 'berapakah', 'semampunya', 'mana', 'tanya', 'berikutnya', 'saja', 'kelima', 'kepadanya', 'siapakah', 'masih', 'ketika', 'minta', 'sekecil', 'diketahui', 'jadilah', 'luar', 'dimulailah', 'tdk', 'sebutlah', 'kepada', 'sekalian', 'selanjutnya', 'pentingnya', 'itulah', 'berakhirnya', 'jumlahnya', 'kapan', 'tutur', 'mereka', 'panjang', 'sebab', 'apa', 'perlunya', 'inginkan', 'setiap', 'sebegitu', 'akankah', 'beginian', 'dimulainya', 'naik', 'akhir', 'bermula', 'dikatakannya', 'keinginan', 'sudah', 'berbagai', 'mengatakan', 'segala', 'bagaikan', 'sudahlah', 'bagai', 'meskipun', 'seolah', 'kok', 'siapapun', 'masihkah', 'sedikitnya', 'tambah', 'mempersoalkan', 'memberi', 'katakanlah', 'suatu', 'ucapnya', 'datang', 'memihak', 'seberapa', 'setidaknya', 'menanti-nanti', 'akulah', 'berkehendak', 'sedangkan', 'bahwa', 'rasa', 'mengerjakan', 'menjelaskan', 'diibaratkan', 'segalanya', 'tadinya', 'lanjutnya', 'sebanyak', 'teringat', 'ibarat', 'sekadarnya', 'terlalu', 'mengingat', 'sana', 'tersebut', 'satu', 'lebih', 'soalnya', 'seketika', 'dituturkannya', 'terus', 'dilalui', 'sepanjang', 'diucapkan', 'bilakah', 'sekali-kali', 'kesampaian', 'tuturnya', 'sebuah', 'belakang', 'bermacam-macam', 'entah', 'ialah', 'jelaslah', 'dari', 'keduanya', 'menunjuknya', 'tegas', 'bagaimanakah', 'terdiri', 'didatangkan', 'kalaupun', 'dimisalkan', 'sedikit', 'sdh', 'beri', 'harus', 'yakin', 'seterusnya', 'mula', 'tahun', 'diperkirakan', 'dengan', 'setinggi', 'dikerjakan', 'usai', 'olehnya', 'ditunjukkan', 'dirinya', 'sudahkah', 'diketahuinya', 'dilihat', 'terakhir', 'asal', 'diberikannya', 'rp', 'malah', 'atas', 'malahan', 'sesama', 'umumnya', 'sebesar', 'awal', 'bertanya', 'termasuk', 'demikian', 'mirip', 'rasanya', 'banyak', 'mampu', 'nantinya', 'diantara', 'menyatakan', 'para', 'disinilah', 'jikalau', 'kala', 'sempat', 'mungkinkah', 'melihatnya', 'memberikan', 'diperlihatkan', 'berikan', 'sepantasnyalah', 'tiba-tiba', 'sedang', 'ternyata', 'sekarang', 'maka', 'mengira', 'krn', 'seluruhnya', 'mengenai', 'yg', 'bermacam', 'mempersiapkan', 'mungkin', 'umum', 'pihaknya', 'bukanlah', 'seseorang', 'bersiap-siap', 'lagian', 'bertutur', 'masing-masing', 'semata', 'antaranya', 'jelaskan', 'katanya', 'melakukan', 'cukuplah', 'seorang', 'deh', 'di', 'sinilah', 'teringat-ingat', 'jelas', 'bulan', 'mendatangkan', 'lamanya', 'berakhirlah', 'memperlihatkan', 'kiranya', 'atau', 'mengapa', 'kemungkinan', 'kitalah', 'sejenak', 'semasa', 'yakni', 'dong', 'beginilah', 'diingat', 'memisalkan', 'secara', 'kini', 'antar', 'disebut', 'namun', 'bahkan', 'amat', 'dibuat', 'merasa', 'keseluruhan', 'kedua', 'saat', 'dalam', 'berikut', 'selamanya', 'sesegera', 'kira-kira', 'sama-sama', 'dimaksudnya', 'sebagaimana', 'dituturkan', 'tapi', 'setengah', 'sampai-sampai', 'tentu', 'cara', 'masalah', 'berturut', 'dikarenakan', 'terjadilah', 'menyampaikan', 'karena', 'menaiki', 'dimaksudkan', 'sama', 'harusnya', 'terlebih', 'se', 'menyangkut', 'hendak', 'mulailah', 'adapun', 'sekitarnya', 'ibaratkan', 'juga', 'membuat', 'menjawab', 'seringnya', 'bersama', 'dilakukan', 'terdapat', 'sela', 'dimungkinkan', 'tentulah', 'kasus', 'terlihat', 'sini', 'sekurangnya', 'berkeinginan', 'berlainan', 'sampai', 'tidaklah', 'sebisanya', 'saatnya', 'antara', 'gunakan', 'buat', 'perlu', 'berapapun', 'pula', 'bakalan', 'berturut-turut', 'semasih', 'berawal', 'keseluruhannya', 'kita', 'persoalan', 'selama-lamanya', 'boleh', 'akhiri', 'kelihatan', 'menunjuk', 'diperbuat', 'sering', 'didapat', 'terbanyak', 'itukah', 'semacam', 'cukupkah', 'ke', 'padanya', 'jawaban', 'tampaknya', 'dipertanyakan', 'sambil', 'setiba', 'tengah', 'manalagi', 'ikut', 'jawabnya', 'ucap', 'hampir', 'justru', 'bawah', 'kemudian', 'mengakhiri', 'dini', 'bukannya', 'menandaskan', 'meski', 'ingin', 'sayalah', 'meyakinkan', 'setelah', 'sajalah', 'punya', 'seingat', 'begini', 'manakala', 'ungkapnya', 'semuanya', 'belum', 'tadi', 'hendaknya', 'menuturkan', 'memang', 'melihat', 'awalnya', 'kalian', 'depan', 'inikah', 'inilah', 'selaku', 'asalkan', 'anda', 'ingat-ingat', 'mengetahui', 'dgn', 'kalaulah', 'sepantasnya', 'apakah', 'disampaikan', 'berkenaan', 'mendapat', 'diberi', 'sebelum', 'mempunyai', 'saling', 'seperlunya', 'menanya', 'bolehkah', 'menurut', 'percuma', 'yaitu', 'tpi', 'kan', 'bertanya-tanya', 'seenaknya', 'biasanya', 'siap', 'kinilah', 'agar', 'apaan', 'sekali', 'masa', 'menyiapkan', 'diri', 'serupa', 'dimaksud', 'memastikan', 'telah', 'masing', 'tanyanya', 'bagian', 'diminta', 'ditandaskan', 'terutama', 'tiap', 'keadaan', 'sebagai', 'pertanyaan', 'usah', 'yang', 'terhadap', 'beginikah', 'ditujukan', 'terhadapnya', 'tetap', 'sebaliknya', 'jg', 'sangatlah', 'sesaat', 'terdahulu', 'maupun', 'andalah', 'berakhir', 'diperlukan', 'melalui', 'pada', 'hingga', 'balik', 'sekadar', 'belakangan', 'sendiri', 'kecil', 'dikira', 'mempergunakan', 'kamulah', 'sekurang-kurangnya', 'sesuatunya', 'adalah', 'seusai', 'tetapi', 'belumlah', 'ingat', 'dikatakan', 'walau', 'benarkah', 'biasa', 'dijawab', 'nah', 'menginginkan', 'berdatangan', 'berapa', 'demi', 'demikianlah', 'dimintai', 'ataupun', 'sewaktu', 'diinginkan', 'berlebihan', 'sy', 'tertentu', 'cuma', 'diibaratkannya', 'adanya', 'per', 'menghendaki', 'diucapkannya', 'semampu', 'entahlah', 'ditunjuk', 'segera', 'lewat', 'haruslah', 'kelihatannya', 'disini', 'menyebutkan', 'amatlah', 'menuju', 'tanyakan', 'ungkap', 'menanyai', 'kami', 'memperkirakan', 'pertama-tama', 'terjadi', 'ini', 'dijelaskan', 'kelamaan', 'akan', 'keterlaluan', 'tidakkah', 'sesudah', 'sesampai', 'diingatkan', 'begitupun', 'tahu', 'mengatakannya', 'begitukah', 'setempat', 'terasa', 'diperlukannya', 'lanjut', 'selain', 'bapak', 'janganlah', 'betul', 'jangankan', 'pasti', 'semakin', 'tepat', 'makanya', 'sampaikan', 'meminta', 'meyakini', 'hari', 'itu', 'berarti', 'sedemikian', 'sejauh', 'semata-mata', 'sesuatu', 'dimaksudkannya', 'mengibaratkannya', 'dg', 'akhirnya', 'memulai', 'dua', 'menunjukkan', 'mengucapkan', 'rata', 'soal', 'berlalu', 'daripada', 'guna', 'digunakan', 'dahulu', 'diungkapkan', 'mau', 'tiga', 'kira', 'makin', 'jangan', 'bolehlah', 'semua', 'dialah', 'lima', 'toh', 'benarlah', 'walaupun', 'tegasnya', 'lah', 'sekalipun', 'berkata', 'diakhiri', 'menggunakan', 'menjadi', 'ibaratnya', 'hanya', 'tentang', 'ditanya', 'hanyalah', 'berujar', 'kata', 'sebetulnya', 'tersampaikan', 'turut', 'pun', 'lalu', 'padahal', 'sesekali', 'empat', 'mengibaratkan', 'secukupnya', 'sebut', 'caranya', 'diantaranya', 'bagi', 'berapalah', 'apalagi', 'bekerja', 'nanti', 'dekat', 'kembali', 'sebenarnya', 'dipergunakan', 'merekalah', 'jawab', 'tidak', 'tunjuk', 'ditanyakan', 'sepihak', 'sekaligus', 'setidak-tidaknya', 'tersebutlah', 'begitulah', 'sejumlah', 'pantas', 'dipersoalkan', 'bakal', 'bahwasanya', 'apatah', 'terjadinya', 'besar', 'perlukah', 'baru', 'enggak', 'dipunyai', 'seperti', 'jauh', 'ujarnya', 'sebutnya', 'pastilah', 'ibu', 'mendatang', 'katakan', 'pernah', 'tinggi', 'menyeluruh', 'jika', 'aku', 'pukul', 'seolah-olah', 'jelasnya', 'sementara', 'siapa', 'tandas', 'ia', 'setibanya', 'sekiranya', 'terkira', 'sebaik-baiknya', 'menanyakan', 'mendatangi', 'beberapa', 'sebelumnya', 'memerlukan', 'bisa', 'kapankah', 'seharusnya', 'ditunjuki', 'memperbuat', 'nya', 'mempertanyakan', 'benar', 'diakhirinya', 'disebutkannya', 'seluruh', 'sekitar', 'kamu', 'pertanyakan', 'supaya', 'karenanya', 'apabila', 'mengingatkan', 'sendirinya', 'sebagian', 'sesudahnya', 'mulai', 'kapanpun', 'misal', 'semisalnya', 'berupa', 'ditunjukkannya', 'waduh', 'masalahnya', 'berlangsung', 'pak', 'sangat', 'waktu', 'wah', 'misalkan', 'sebabnya', 'rupanya', 'saya', 'keluar', 'mampukah', 'waktunya', 'hal', 'nyatanya', 'ribu', 'mulanya', 'menunjuki', 'macam', 'memungkinkan', 'lama', 'tentunya', 'menegaskan', 'kemungkinannya', 'tanpa', 'ditunjuknya', 'menambahkan', 'kamilah', 'kalau', 'artinya', 'agak', 'bila', 'memintakan', 'menanti', 'jadinya', 'misalnya', 'sendirian', 'enggaknya', 'nyaris', 'dijelaskannya', 'bersiap', 'untuk', 'berjumlah', 'semaunya', 'pihak', 'hendaklah', 'berkali-kali', 'tiba', 'penting'}\n"
     ]
    }
   ],
   "source": [
    "# Tambahkan stopwords tambahan dan kata-kata slang\n",
    "additional_stopwords = ['yg','rp','ribu', 'nya', 'dg', 'dgn', 'tdk', 'tpi', 'jg', 'krn', 'sy', 'sdh', 'lah', 'deh', 'ngga']\n",
    "stopwords_list = set(stopwords.words('indonesian') + additional_stopwords)\n",
    "\n",
    "print(stopwords_list)"
   ]
  },
  {
   "cell_type": "code",
   "execution_count": 12,
   "metadata": {},
   "outputs": [
    {
     "data": {
      "text/html": [
       "<div>\n",
       "<style scoped>\n",
       "    .dataframe tbody tr th:only-of-type {\n",
       "        vertical-align: middle;\n",
       "    }\n",
       "\n",
       "    .dataframe tbody tr th {\n",
       "        vertical-align: top;\n",
       "    }\n",
       "\n",
       "    .dataframe thead th {\n",
       "        text-align: right;\n",
       "    }\n",
       "</style>\n",
       "<table border=\"1\" class=\"dataframe\">\n",
       "  <thead>\n",
       "    <tr style=\"text-align: right;\">\n",
       "      <th></th>\n",
       "      <th>Ulasan</th>\n",
       "    </tr>\n",
       "  </thead>\n",
       "  <tbody>\n",
       "    <tr>\n",
       "      <th>0</th>\n",
       "      <td>bagus</td>\n",
       "    </tr>\n",
       "    <tr>\n",
       "      <th>1</th>\n",
       "      <td>model keren harga murah barang gak murah moga awet barang</td>\n",
       "    </tr>\n",
       "    <tr>\n",
       "      <th>2</th>\n",
       "      <td>sesuai skripsi mantap</td>\n",
       "    </tr>\n",
       "    <tr>\n",
       "      <th>3</th>\n",
       "      <td>kualitas oke</td>\n",
       "    </tr>\n",
       "    <tr>\n",
       "      <th>4</th>\n",
       "      <td>barang kirim sesuai pesan</td>\n",
       "    </tr>\n",
       "    <tr>\n",
       "      <th>5</th>\n",
       "      <td>fast respons model keren kualitas bagus mantap</td>\n",
       "    </tr>\n",
       "    <tr>\n",
       "      <th>6</th>\n",
       "      <td>bagus</td>\n",
       "    </tr>\n",
       "    <tr>\n",
       "      <th>7</th>\n",
       "      <td>baguss brand lokal kualitas produk harga jangkau</td>\n",
       "    </tr>\n",
       "    <tr>\n",
       "      <th>8</th>\n",
       "      <td>model keren pas kaki</td>\n",
       "    </tr>\n",
       "    <tr>\n",
       "      <th>10</th>\n",
       "      <td>pas kerja jalan jalan gak licin</td>\n",
       "    </tr>\n",
       "    <tr>\n",
       "      <th>11</th>\n",
       "      <td>barang sesuai harga cacat ukur sesuai warna sesuai ramah kantong moga awet</td>\n",
       "    </tr>\n",
       "    <tr>\n",
       "      <th>12</th>\n",
       "      <td>mantab</td>\n",
       "    </tr>\n",
       "    <tr>\n",
       "      <th>13</th>\n",
       "      <td>maaf review jujur aja gak ekspektasi gede sepatu pas barang kejut estimasi barang minggu nyata tangan overall layan gak kecewa build quality sepatu good harga bilang gak mahal thanks aerostreet</td>\n",
       "    </tr>\n",
       "    <tr>\n",
       "      <th>14</th>\n",
       "      <td>bagus banget sepatu terima kasih</td>\n",
       "    </tr>\n",
       "    <tr>\n",
       "      <th>15</th>\n",
       "      <td>packingnya bungkus plastik</td>\n",
       "    </tr>\n",
       "    <tr>\n",
       "      <th>16</th>\n",
       "      <td>saran tingkat benang tinggal</td>\n",
       "    </tr>\n",
       "    <tr>\n",
       "      <th>17</th>\n",
       "      <td>model keren</td>\n",
       "    </tr>\n",
       "    <tr>\n",
       "      <th>18</th>\n",
       "      <td>mantap kak real pict nyaman kirim cepat order</td>\n",
       "    </tr>\n",
       "    <tr>\n",
       "      <th>19</th>\n",
       "      <td>bagus bat njir suka gua</td>\n",
       "    </tr>\n",
       "    <tr>\n",
       "      <th>20</th>\n",
       "      <td>model keren bahan bagus top dah</td>\n",
       "    </tr>\n",
       "  </tbody>\n",
       "</table>\n",
       "</div>"
      ],
      "text/plain": [
       "                                                                                                                                                                                               Ulasan\n",
       "0                                                                                                                                                                                               bagus\n",
       "1                                                                                                                                           model keren harga murah barang gak murah moga awet barang\n",
       "2                                                                                                                                                                               sesuai skripsi mantap\n",
       "3                                                                                                                                                                                        kualitas oke\n",
       "4                                                                                                                                                                           barang kirim sesuai pesan\n",
       "5                                                                                                                                                      fast respons model keren kualitas bagus mantap\n",
       "6                                                                                                                                                                                               bagus\n",
       "7                                                                                                                                                    baguss brand lokal kualitas produk harga jangkau\n",
       "8                                                                                                                                                                                model keren pas kaki\n",
       "10                                                                                                                                                                    pas kerja jalan jalan gak licin\n",
       "11                                                                                                                         barang sesuai harga cacat ukur sesuai warna sesuai ramah kantong moga awet\n",
       "12                                                                                                                                                                                             mantab\n",
       "13  maaf review jujur aja gak ekspektasi gede sepatu pas barang kejut estimasi barang minggu nyata tangan overall layan gak kecewa build quality sepatu good harga bilang gak mahal thanks aerostreet\n",
       "14                                                                                                                                                                   bagus banget sepatu terima kasih\n",
       "15                                                                                                                                                                         packingnya bungkus plastik\n",
       "16                                                                                                                                                                       saran tingkat benang tinggal\n",
       "17                                                                                                                                                                                        model keren\n",
       "18                                                                                                                                                      mantap kak real pict nyaman kirim cepat order\n",
       "19                                                                                                                                                                            bagus bat njir suka gua\n",
       "20                                                                                                                                                                    model keren bahan bagus top dah"
      ]
     },
     "execution_count": 12,
     "metadata": {},
     "output_type": "execute_result"
    }
   ],
   "source": [
    "# Membuat fungsi untuk menghapus stopwords menghilangkan emoticon, angka, symbol, tanda baca, dan mengubah menjadi huruf kecil,tokenizer,gabungkan kembali\n",
    "def clean_text(text):\n",
    "    text = re.sub(r'@[A-Za-z0-9]+', '', text)  # Menghapus @mentions\n",
    "    text = re.sub(r'#', '', text)  # Menghapus hashtag\n",
    "    text = re.sub(r'RT[\\s]+', '', text)  # Menghapus RT\n",
    "    text = re.sub(r'https?:\\/\\/\\S+', '', text)  # Menghapus hyperlink\n",
    "    text = re.sub(r'[0-9]+', '', text)  # Menghapus angka\n",
    "    text = re.sub(r'[^\\w\\s]', '', text)  # Menghapus symbol\n",
    "    text = re.sub(r'[^\\x00-\\x7F]+', '', text)  # Menghapus emoticon\n",
    "    text = re.sub(r'\"', '', text)  # Menghapus tanda kutip\n",
    "    # Menghapus kata dengan panjang 1-2 karakter\n",
    "    text = re.sub(r'\\b\\w{1,2}\\b', '', text)\n",
    "    text = re.sub(r'\\s+', ' ', text)  # Menghapus spasi ekstra\n",
    "    text = text.strip()  # Menghapus spasi di awal dan akhir\n",
    "\n",
    "    text = text.lower()  # Mengubah menjadi huruf kecil\n",
    "    text = word_tokenize(text)  # Tokenisasi\n",
    "    # Menghapus stopwords\n",
    "    text = [word for word in text if word not in stopwords_list]\n",
    "    text = ' '.join(text)  # Menggabungkan kembali\n",
    "\n",
    "    return text\n",
    "\n",
    "\n",
    "# Menerapkan fungsi clean_text pada kolom ulasan\n",
    "df['Ulasan'] = df['Ulasan'].apply(clean_text)\n",
    "\n",
    "# Menghapus baris yang kosong pada kolom 'Ulasan'\n",
    "df = df[df['Ulasan'].str.strip() != '']\n",
    "\n",
    "# Menampilkan tabel dengan lebar kolom penuh\n",
    "pd.set_option('display.max_colwidth', None)\n",
    "df.head(20)"
   ]
  },
  {
   "cell_type": "code",
   "execution_count": 13,
   "metadata": {},
   "outputs": [],
   "source": [
    "# hasil clean text jadikan csv\n",
    "df.to_csv('dataset/Aerostreet4_clean.csv', index=False)"
   ]
  },
  {
   "cell_type": "code",
   "execution_count": 14,
   "metadata": {},
   "outputs": [
    {
     "data": {
      "text/html": [
       "<div>\n",
       "<style scoped>\n",
       "    .dataframe tbody tr th:only-of-type {\n",
       "        vertical-align: middle;\n",
       "    }\n",
       "\n",
       "    .dataframe tbody tr th {\n",
       "        vertical-align: top;\n",
       "    }\n",
       "\n",
       "    .dataframe thead th {\n",
       "        text-align: right;\n",
       "    }\n",
       "</style>\n",
       "<table border=\"1\" class=\"dataframe\">\n",
       "  <thead>\n",
       "    <tr style=\"text-align: right;\">\n",
       "      <th></th>\n",
       "      <th>Ulasan</th>\n",
       "    </tr>\n",
       "  </thead>\n",
       "  <tbody>\n",
       "    <tr>\n",
       "      <th>0</th>\n",
       "      <td>bagus</td>\n",
       "    </tr>\n",
       "    <tr>\n",
       "      <th>1</th>\n",
       "      <td>model keren harga murah barang gak murah moga awet barang</td>\n",
       "    </tr>\n",
       "    <tr>\n",
       "      <th>2</th>\n",
       "      <td>sesuai skripsi mantap</td>\n",
       "    </tr>\n",
       "    <tr>\n",
       "      <th>3</th>\n",
       "      <td>kualitas oke</td>\n",
       "    </tr>\n",
       "    <tr>\n",
       "      <th>4</th>\n",
       "      <td>barang kirim sesuai pesan</td>\n",
       "    </tr>\n",
       "    <tr>\n",
       "      <th>5</th>\n",
       "      <td>fast respons model keren kualitas bagus mantap</td>\n",
       "    </tr>\n",
       "    <tr>\n",
       "      <th>6</th>\n",
       "      <td>bagus</td>\n",
       "    </tr>\n",
       "    <tr>\n",
       "      <th>7</th>\n",
       "      <td>baguss brand lokal kualitas produk harga jangkau</td>\n",
       "    </tr>\n",
       "    <tr>\n",
       "      <th>8</th>\n",
       "      <td>model keren pas kaki</td>\n",
       "    </tr>\n",
       "    <tr>\n",
       "      <th>10</th>\n",
       "      <td>pas kerja jalan jalan gak licin</td>\n",
       "    </tr>\n",
       "    <tr>\n",
       "      <th>11</th>\n",
       "      <td>barang sesuai harga cacat ukur sesuai warna sesuai ramah kantong moga awet</td>\n",
       "    </tr>\n",
       "    <tr>\n",
       "      <th>12</th>\n",
       "      <td>mantab</td>\n",
       "    </tr>\n",
       "    <tr>\n",
       "      <th>13</th>\n",
       "      <td>maaf review jujur aja gak ekspektasi gede sepatu pas barang kejut estimasi barang minggu nyata tangan overall layan gak kecewa build quality sepatu good harga bilang gak mahal thanks aerostreet</td>\n",
       "    </tr>\n",
       "    <tr>\n",
       "      <th>14</th>\n",
       "      <td>bagus banget sepatu terima kasih</td>\n",
       "    </tr>\n",
       "    <tr>\n",
       "      <th>15</th>\n",
       "      <td>packingnya bungkus plastik</td>\n",
       "    </tr>\n",
       "    <tr>\n",
       "      <th>16</th>\n",
       "      <td>saran tingkat benang tinggal</td>\n",
       "    </tr>\n",
       "    <tr>\n",
       "      <th>17</th>\n",
       "      <td>model keren</td>\n",
       "    </tr>\n",
       "    <tr>\n",
       "      <th>18</th>\n",
       "      <td>mantap kak real pict nyaman kirim cepat order</td>\n",
       "    </tr>\n",
       "    <tr>\n",
       "      <th>19</th>\n",
       "      <td>bagus bat njir suka gua</td>\n",
       "    </tr>\n",
       "    <tr>\n",
       "      <th>20</th>\n",
       "      <td>model keren bahan bagus top dah</td>\n",
       "    </tr>\n",
       "  </tbody>\n",
       "</table>\n",
       "</div>"
      ],
      "text/plain": [
       "                                                                                                                                                                                               Ulasan\n",
       "0                                                                                                                                                                                               bagus\n",
       "1                                                                                                                                           model keren harga murah barang gak murah moga awet barang\n",
       "2                                                                                                                                                                               sesuai skripsi mantap\n",
       "3                                                                                                                                                                                        kualitas oke\n",
       "4                                                                                                                                                                           barang kirim sesuai pesan\n",
       "5                                                                                                                                                      fast respons model keren kualitas bagus mantap\n",
       "6                                                                                                                                                                                               bagus\n",
       "7                                                                                                                                                    baguss brand lokal kualitas produk harga jangkau\n",
       "8                                                                                                                                                                                model keren pas kaki\n",
       "10                                                                                                                                                                    pas kerja jalan jalan gak licin\n",
       "11                                                                                                                         barang sesuai harga cacat ukur sesuai warna sesuai ramah kantong moga awet\n",
       "12                                                                                                                                                                                             mantab\n",
       "13  maaf review jujur aja gak ekspektasi gede sepatu pas barang kejut estimasi barang minggu nyata tangan overall layan gak kecewa build quality sepatu good harga bilang gak mahal thanks aerostreet\n",
       "14                                                                                                                                                                   bagus banget sepatu terima kasih\n",
       "15                                                                                                                                                                         packingnya bungkus plastik\n",
       "16                                                                                                                                                                       saran tingkat benang tinggal\n",
       "17                                                                                                                                                                                        model keren\n",
       "18                                                                                                                                                      mantap kak real pict nyaman kirim cepat order\n",
       "19                                                                                                                                                                            bagus bat njir suka gua\n",
       "20                                                                                                                                                                    model keren bahan bagus top dah"
      ]
     },
     "execution_count": 14,
     "metadata": {},
     "output_type": "execute_result"
    }
   ],
   "source": [
    "# Setelah cleaning, kita akan melakukan stemming\n",
    "factory = StemmerFactory()\n",
    "stemmer = factory.create_stemmer()\n",
    "\n",
    "def stem_text(text):\n",
    "    return stemmer.stem(text)\n",
    "\n",
    "df['Ulasan'] = df['Ulasan'].apply(stem_text)\n",
    "df.head(20)"
   ]
  },
  {
   "cell_type": "code",
   "execution_count": 15,
   "metadata": {},
   "outputs": [],
   "source": [
    "# simpan ke csv hasil steming\n",
    "df.to_csv('dataset/Aerostreet4_steming.csv', index=False)"
   ]
  },
  {
   "cell_type": "code",
   "execution_count": null,
   "metadata": {},
   "outputs": [],
   "source": []
  }
 ],
 "metadata": {
  "kernelspec": {
   "display_name": "Python 3",
   "language": "python",
   "name": "python3"
  },
  "language_info": {
   "codemirror_mode": {
    "name": "ipython",
    "version": 3
   },
   "file_extension": ".py",
   "mimetype": "text/x-python",
   "name": "python",
   "nbconvert_exporter": "python",
   "pygments_lexer": "ipython3",
   "version": "3.12.0"
  }
 },
 "nbformat": 4,
 "nbformat_minor": 2
}
