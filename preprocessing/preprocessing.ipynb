{
 "cells": [
  {
   "cell_type": "code",
   "execution_count": 1,
   "metadata": {},
   "outputs": [],
   "source": [
    "import os\n",
    "import pandas as pd\n",
    "import re\n",
    "from nltk.corpus import stopwords\n",
    "from nltk.tokenize import word_tokenize\n",
    "from Sastrawi.Stemmer.StemmerFactory import StemmerFactory  # Import StemmerFactory from Sastrawi"
   ]
  },
  {
   "cell_type": "code",
   "execution_count": 2,
   "metadata": {},
   "outputs": [
    {
     "name": "stderr",
     "output_type": "stream",
     "text": [
      "[nltk_data] Downloading package stopwords to\n",
      "[nltk_data]     C:\\Users\\aulia\\AppData\\Roaming\\nltk_data...\n",
      "[nltk_data]   Package stopwords is already up-to-date!\n"
     ]
    },
    {
     "data": {
      "text/plain": [
       "True"
      ]
     },
     "execution_count": 2,
     "metadata": {},
     "output_type": "execute_result"
    }
   ],
   "source": [
    "import nltk\n",
    "nltk.download('stopwords')"
   ]
  },
  {
   "cell_type": "code",
   "execution_count": 3,
   "metadata": {},
   "outputs": [
    {
     "name": "stderr",
     "output_type": "stream",
     "text": [
      "[nltk_data] Downloading package punkt to\n",
      "[nltk_data]     C:\\Users\\aulia\\AppData\\Roaming\\nltk_data...\n",
      "[nltk_data]   Package punkt is already up-to-date!\n"
     ]
    },
    {
     "data": {
      "text/plain": [
       "True"
      ]
     },
     "execution_count": 3,
     "metadata": {},
     "output_type": "execute_result"
    }
   ],
   "source": [
    "import nltk\n",
    "nltk.download('punkt')"
   ]
  },
  {
   "cell_type": "code",
   "execution_count": 4,
   "metadata": {},
   "outputs": [
    {
     "data": {
      "text/html": [
       "<div>\n",
       "<style scoped>\n",
       "    .dataframe tbody tr th:only-of-type {\n",
       "        vertical-align: middle;\n",
       "    }\n",
       "\n",
       "    .dataframe tbody tr th {\n",
       "        vertical-align: top;\n",
       "    }\n",
       "\n",
       "    .dataframe thead th {\n",
       "        text-align: right;\n",
       "    }\n",
       "</style>\n",
       "<table border=\"1\" class=\"dataframe\">\n",
       "  <thead>\n",
       "    <tr style=\"text-align: right;\">\n",
       "      <th></th>\n",
       "      <th>Ulasan</th>\n",
       "    </tr>\n",
       "  </thead>\n",
       "  <tbody>\n",
       "    <tr>\n",
       "      <th>0</th>\n",
       "      <td>nyesel harus nya naik 1 size dari standar.</td>\n",
       "    </tr>\n",
       "    <tr>\n",
       "      <th>1</th>\n",
       "      <td>Udah langganan kemarin beli yang Riku ternyata...</td>\n",
       "    </tr>\n",
       "    <tr>\n",
       "      <th>2</th>\n",
       "      <td>Nice!</td>\n",
       "    </tr>\n",
       "    <tr>\n",
       "      <th>3</th>\n",
       "      <td>barang sudah diterima sesuai pesanan..\\r\\nmode...</td>\n",
       "    </tr>\n",
       "    <tr>\n",
       "      <th>4</th>\n",
       "      <td>Barang sesuai deskripsi, ukurannya pas mantab.</td>\n",
       "    </tr>\n",
       "  </tbody>\n",
       "</table>\n",
       "</div>"
      ],
      "text/plain": [
       "                                              Ulasan\n",
       "0         nyesel harus nya naik 1 size dari standar.\n",
       "1  Udah langganan kemarin beli yang Riku ternyata...\n",
       "2                                              Nice!\n",
       "3  barang sudah diterima sesuai pesanan..\\r\\nmode...\n",
       "4     Barang sesuai deskripsi, ukurannya pas mantab."
      ]
     },
     "execution_count": 4,
     "metadata": {},
     "output_type": "execute_result"
    }
   ],
   "source": [
    "# Mengambil dataset dari folder 'dataset'\n",
    "dataset_path = 'dataset/Aerostreet5.csv'\n",
    "df = pd.read_csv(dataset_path)\n",
    "df.head()"
   ]
  },
  {
   "cell_type": "code",
   "execution_count": 5,
   "metadata": {},
   "outputs": [
    {
     "name": "stdout",
     "output_type": "stream",
     "text": [
      "Ulasan    0\n",
      "dtype: int64\n"
     ]
    }
   ],
   "source": [
    "# Menghapus baris yang kososng pada kolom ulasan\n",
    "df = df.dropna(subset=['Ulasan'])\n",
    "# tampilkan informasi bahwa tidak ada baris yang kosong\n",
    "print(df.isnull().sum())"
   ]
  },
  {
   "cell_type": "code",
   "execution_count": 6,
   "metadata": {},
   "outputs": [
    {
     "name": "stdout",
     "output_type": "stream",
     "text": [
      "{'hari', 'mengatakannya', 'karenanya', 'demi', 'ibaratkan', 'bukan', 'menunjukkan', 'itukah', 'menyatakan', 'andalah', 'sepertinya', 'melainkan', 'tidak', 'apalagi', 'yakni', 'sejak', 'kelima', 'diberi', 'ingat-ingat', 'pertama-tama', 'ditujukan', 'ibaratnya', 'jika', 'pantas', 'semasih', 'seringnya', 'dimulainya', 'sudahlah', 'diperlukannya', 'sebaliknya', 'lebih', 'diibaratkan', 'sejauh', 'justru', 'begitukah', 'dibuatnya', 'sebagaimana', 'suatu', 'terdiri', 'manalagi', 'mengakhiri', 'sela', 'sebaiknya', 'ditanyakan', 'menuju', 'sebagai', 'katakanlah', 'bahwa', 'semula', 'berkehendak', 'sejenak', 'memerlukan', 'malah', 'yang', 'tanya', 'ditandaskan', 'artinya', 'makanya', 'dong', 'tanpa', 'bermaksud', 'mengetahui', 'kitalah', 'adapun', 'digunakan', 'sdh', 'jauh', 'mengatakan', 'disini', 'diinginkan', 'biasa', 'sebabnya', 'meski', 'ditunjukkannya', 'dikatakannya', 'sebelum', 'pun', 'mengenai', 'dikerjakan', 'terus', 'bagaimanapun', 'nanti', 'akhirnya', 'supaya', 'daripada', 'bertanya', 'sesekali', 'soal', 'tertuju', 'bersama-sama', 'dua', 'merupakan', 'lanjutnya', 'tuturnya', 'dilalui', 'beginilah', 'pentingnya', 'sebisanya', 'diberikan', 'seluruh', 'sendirinya', 'diingat', 'terutama', 'tidaklah', 'ini', 'sini', 'sekitarnya', 'kamilah', 'tiga', 'tegas', 'seperlunya', 'beberapa', 'mengibaratkan', 'pernah', 'tutur', 'kalau', 'seperti', 'saat', 'bilakah', 'diberikannya', 'katakan', 'bermacam', 'buat', 'menjelaskan', 'entahlah', 'sendiri', 'berupa', 'berapalah', 'kamu', 'datang', 'bila', 'dgn', 'memperkirakan', 'berjumlah', 'berkata', 'menegaskan', 'sedangkan', 'dituturkan', 'jawaban', 'sedikit', 'berikutnya', 'sebuah', 'teringat', 'harusnya', 'belum', 'bertutur', 'masing', 'kemungkinannya', 'sajalah', 'yakin', 'diperkirakan', 'apaan', 'setempat', 'sekitar', 'ngga', 'menanyakan', 'setinggi', 'dimaksudkannya', 'minta', 'dimaksudkan', 'itulah', 'menyangkut', 'sangatlah', 'dialah', 'semuanya', 'akhir', 'menuturkan', 'ataukah', 'bahwasanya', 'meyakinkan', 'meyakini', 'sekadarnya', 'berapa', 'keseluruhannya', 'dikatakan', 'berada', 'jawabnya', 'memberi', 'padanya', 'harus', 'berturut-turut', 'sesegera', 'diperlihatkan', 'berapakah', 'diperbuat', 'dipergunakan', 'segala', 'sementara', 'mengingat', 'lainnya', 'sekalipun', 'melihatnya', 'setibanya', 'termasuk', 'semisalnya', 'diminta', 'sepantasnya', 'tambah', 'masihkah', 'melihat', 'pastilah', 'cuma', 'kelihatan', 'turut', 'bermacam-macam', 'terdapat', 'selamanya', 'serta', 'sesaat', 'kinilah', 'tdk', 'tahu', 'begitulah', 'menunjuknya', 'semaunya', 'bawah', 'kalaulah', 'besar', 'inginkan', 'tepat', 'rp', 'seorang', 'secukupnya', 'ujarnya', 'bagaikan', 'sekurang-kurangnya', 'dan', 'menjadi', 'terjadinya', 'betul', 'tadinya', 'menyebutkan', 'ialah', 'kira', 'berkenaan', 'luar', 'ditambahkan', 'berikan', 'selama-lamanya', 'enggak', 'kira-kira', 'tak', 'selaku', 'yaitu', 'membuat', 'kelamaan', 'entah', 'penting', 'atas', 'sebetulnya', 'berapapun', 'jadi', 'enggaknya', 'sekadar', 'tandas', 'dia', 'boleh', 'ke', 'sebegini', 'sampaikan', 'disebutkannya', 'bukannya', 'dari', 'akan', 'ketika', 'sayalah', 'selama', 'juga', 'jangan', 'ucapnya', 'seingat', 'terlalu', 'dengan', 'menggunakan', 'pihaknya', 'sehingga', 'masih', 'untuk', 'terhadap', 'depan', 'benar', 'tegasnya', 'kepada', 'lanjut', 'makin', 'sejumlah', 'pula', 'kurang', 'keduanya', 'demikian', 'masalah', 'memulai', 'di', 'keseluruhan', 'ikut', 'bekerja', 'meminta', 'menaiki', 'pihak', 'bulan', 'beginikah', 'belakang', 'jikalau', 'antara', 'serupa', 'tiap', 'nah', 'masalahnya', 'jangankan', 'seketika', 'berlebihan', 'saya', 'sebaik-baiknya', 'pukul', 'saatnya', 'bakalan', 'cukupkah', 'seolah', 'toh', 'segalanya', 'mendapatkan', 'antaranya', 'sepantasnyalah', 'menjawab', 'saling', 'kapanpun', 'lewat', 'dimintai', 'berkeinginan', 'keadaan', 'rasanya', 'janganlah', 'sedemikian', 'tempat', 'empat', 'baik', 'mendapat', 'sebutlah', 'rupanya', 'kebetulan', 'tentulah', 'maupun', 'seseorang', 'sudahkah', 'tidakkah', 'belakangan', 'telah', 'kenapa', 'waduh', 'tiba-tiba', 'mungkinkah', 'sesudah', 'sampai', 'kapan', 'pak', 'katanya', 'berarti', 'melakukan', 'naik', 'sinilah', 'tengah', 'ada', 'seenaknya', 'memungkinkan', 'lain', 'jg', 'dini', 'ucap', 'diakhiri', 'kelihatannya', 'menurut', 'memihak', 'bolehkah', 'dipertanyakan', 'begitupun', 'hendaknya', 'paling', 'dekat', 'nantinya', 'sekali', 'lagi', 'namun', 'selalu', 'memperlihatkan', 'sering', 'sebesar', 'tpi', 'kok', 'tandasnya', 'semasa', 'bisakah', 'sekali-kali', 'memang', 'dulu', 'dikira', 'disebutkan', 'tapi', 'caranya', 'tampaknya', 'kesampaian', 'diingatkan', 'haruslah', 'beginian', 'terjadi', 'jumlah', 'sebelumnya', 'dalam', 'sekurangnya', 'mengibaratkannya', 'mempergunakan', 'mempersiapkan', 'misalnya', 'sekiranya', 'berikut', 'terkira', 'dimulailah', 'sudah', 'bagian', 'bersama', 'selanjutnya', 'kita', 'berkali-kali', 'pertanyaan', 'umum', 'bersiap', 'karena', 'kasus', 'berlangsung', 'bisa', 'kecil', 'semampunya', 'dg', 'tanyanya', 'kan', 'satu', 'memintakan', 'setelah', 'menandaskan', 'didapat', 'mengira', 'didatangkan', 'dahulu', 'menunjuki', 'sy', 'bukanlah', 'pertanyakan', 'dapat', 'bung', 'sebut', 'bersiap-siap', 'diketahui', 'dilihat', 'keterlaluan', 'hampir', 'kata', 'semakin', 'tiba', 'siapa', 'dibuat', 'disinilah', 'ditunjuknya', 'bagi', 'begini', 'mendatangi', 'semacam', 'semampu', 'antar', 'cukup', 'banyak', 'dijawab', 'kini', 'terdahulu', 'dimungkinkan', 'walaupun', 'berakhir', 'usah', 'wah', 'benarlah', 'dilakukan', 'disebut', 'mendatangkan', 'mempunyai', 'diketahuinya', 'diperbuatnya', 'mendatang', 'apatah', 'sambil', 'perlukah', 'terjadilah', 'misalkan', 'padahal', 'bukankah', 'setidak-tidaknya', 'diperlukan', 'nyaris', 'cukuplah', 'seharusnya', 'aku', 'benarkah', 'dimaksudnya', 'melalui', 'masa', 'bolehlah', 'akankah', 'kepadanya', 'seluruhnya', 'waktunya', 'inilah', 'punya', 'tanyakan', 'ditunjuki', 'mengucapkan', 'wong', 'berlalu', 'asalkan', 'wahai', 'deh', 'diibaratkannya', 'mula', 'mungkin', 'tinggi', 'menanya', 'ribu', 'misal', 'itu', 'maka', 'setidaknya', 'tentunya', 'lama', 'semisal', 'secara', 'kamulah', 'sedang', 'amat', 'selain', 'setengah', 'menyampaikan', 'jelaslah', 'tertentu', 'semata-mata', 'usai', 'akhiri', 'seusai', 'sana', 'dipastikan', 'berujar', 'dikarenakan', 'segera', 'kemudian', 'mempertanyakan', 'hendak', 'biasanya', 'apabila', 'dijelaskan', 'mengucapkannya', 'menanti-nanti', 'diucapkannya', 'menunjuk', 'ditanya', 'gunakan', 'sesampai', 'inikah', 'menantikan', 'ditanyai', 'bakal', 'meskipun', 'panjang', 'sampai-sampai', 'sebab', 'hanyalah', 'hendaklah', 'pasti', 'bagaimanakah', 'sedikitnya', 'diucapkan', 'malahan', 'bahkan', 'agak', 'tadi', 'jelas', 'mengungkapkan', 'adalah', 'menanyai', 'balik', 'dimulai', 'masing-masing', 'memperbuat', 'awalnya', 'seberapa', 'bertanya-tanya', 'umumnya', 'tetap', 'walau', 'seolah-olah', 'agar', 'seterusnya', 'lah', 'krn', 'adanya', 'sempat', 'sama', 'semua', 'rasa', 'sendirian', 'sesuatu', 'sekarang', 'diakhirinya', 'rata', 'bapak', 'dipunyai', 'sebanyak', 'kalaupun', 'berawal', 'jumlahnya', 'mau', 'mulailah', 'setiba', 'sangat', 'menyeluruh', 'tampak', 'jadinya', 'keluar', 'mengerjakan', 'kalian', 'siapakah', 'dituturkannya', 'ungkapnya', 'saja', 'mampu', 'sebegitu', 'mulanya', 'inginkah', 'tetapi', 'lalu', 'tersebut', 'olehnya', 'hanya', 'sepihak', 'ingin', 'dirinya', 'lima', 'ia', 'jelasnya', 'awal', 'lamanya', 'sesuatunya', 'pertama', 'nyatanya', 'manakala', 'sewaktu', 'perlunya', 'jawab', 'ibarat', 'khususnya', 'berlainan', 'bagaimana', 'kami', 'berdatangan', 'kala', 'mengapa', 'sekecil', 'teringat-ingat', 'menghendaki', 'belumlah', 'mempersoalkan', 'dijelaskannya', 'disampaikan', 'guna', 'se', 'asal', 'per', 'kapankah', 'ingat', 'atau', 'ditunjuk', 'hal', 'jelaskan', 'mereka', 'sebenarnya', 'tentang', 'ternyata', 'beri', 'oleh', 'lagian', 'sebaik', 'pada', 'memastikan', 'agaknya', 'hingga', 'terlihat', 'jadilah', 'ibu', 'terakhir', 'diantara', 'bermula', 'soalnya', 'kedua', 'demikianlah', 'kiranya', 'dipersoalkan', 'sebagian', 'memisalkan', 'menambahkan', 'menginginkan', 'mengingatkan', 'anda', 'memberikan', 'betulkah', 'diantaranya', 'ungkap', 'mana', 'ataupun', 'macam', 'kemungkinan', 'dimaksud', 'keinginan', 'tersebutlah', 'tunjuk', 'akulah', 'tentu', 'ditunjukkan', 'terlebih', 'merekalah', 'semata', 'sesama', 'begitu', 'diungkapkan', 'yg', 'percuma', 'menanti', 'cara', 'tambahnya', 'merasa', 'ujar', 'perlu', 'para', 'waktu', 'berakhirnya', 'setiap', 'berbagai', 'ditegaskan', 'siapapun', 'nya', 'sepanjang', 'mampukah', 'terhadapnya', 'baru', 'sekaligus', 'tersampaikan', 'tahun', 'menyiapkan', 'terasa', 'sebutnya', 'dimisalkan', 'mulai', 'apakah', 'persoalan', 'apa', 'bagai', 'berturut', 'sama-sama', 'sekalian', 'berakhirlah', 'mirip', 'terbanyak', 'sebagainya', 'siap', 'diri', 'kembali', 'sesudahnya', 'amatlah'}\n"
     ]
    }
   ],
   "source": [
    "# Tambahkan stopwords tambahan dan kata-kata slang\n",
    "additional_stopwords = ['yg','rp','ribu', 'nya', 'dg', 'dgn', 'tdk', 'tpi', 'jg', 'krn', 'sy', 'sdh', 'lah', 'deh', 'ngga']\n",
    "stopwords_list = set(stopwords.words('indonesian') + additional_stopwords)\n",
    "\n",
    "print(stopwords_list)"
   ]
  },
  {
   "cell_type": "code",
   "execution_count": 7,
   "metadata": {},
   "outputs": [
    {
     "data": {
      "text/html": [
       "<div>\n",
       "<style scoped>\n",
       "    .dataframe tbody tr th:only-of-type {\n",
       "        vertical-align: middle;\n",
       "    }\n",
       "\n",
       "    .dataframe tbody tr th {\n",
       "        vertical-align: top;\n",
       "    }\n",
       "\n",
       "    .dataframe thead th {\n",
       "        text-align: right;\n",
       "    }\n",
       "</style>\n",
       "<table border=\"1\" class=\"dataframe\">\n",
       "  <thead>\n",
       "    <tr style=\"text-align: right;\">\n",
       "      <th></th>\n",
       "      <th>Ulasan</th>\n",
       "    </tr>\n",
       "  </thead>\n",
       "  <tbody>\n",
       "    <tr>\n",
       "      <th>0</th>\n",
       "      <td>nyesel size standar</td>\n",
       "    </tr>\n",
       "    <tr>\n",
       "      <th>1</th>\n",
       "      <td>udah langganan kemarin beli riku gak cocok jogging jalan pilih osaka aja udah aman noda dikit gak ngaruh dipakai kotorpengemasan pengiriman cepat terimakasih aerostreet</td>\n",
       "    </tr>\n",
       "    <tr>\n",
       "      <th>2</th>\n",
       "      <td>nice</td>\n",
       "    </tr>\n",
       "    <tr>\n",
       "      <th>3</th>\n",
       "      <td>barang diterima sesuai pesanan model keren kualitas bagus pas nyaman dipake seller responsif pengiriman cepat kurir ramah recommended tks aerostreet tks toped</td>\n",
       "    </tr>\n",
       "    <tr>\n",
       "      <th>4</th>\n",
       "      <td>barang sesuai deskripsi ukurannya pas mantab</td>\n",
       "    </tr>\n",
       "    <tr>\n",
       "      <th>5</th>\n",
       "      <td>thanks</td>\n",
       "    </tr>\n",
       "    <tr>\n",
       "      <th>6</th>\n",
       "      <td>good</td>\n",
       "    </tr>\n",
       "    <tr>\n",
       "      <th>7</th>\n",
       "      <td>keren pengiriman cepat kalo udah kota terpenting murah harganya bahannya murahan hehe mantap</td>\n",
       "    </tr>\n",
       "    <tr>\n",
       "      <th>8</th>\n",
       "      <td>beli warna putih nodanya</td>\n",
       "    </tr>\n",
       "    <tr>\n",
       "      <th>9</th>\n",
       "      <td>lumayan bagus sesuai tertera gambar</td>\n",
       "    </tr>\n",
       "    <tr>\n",
       "      <th>10</th>\n",
       "      <td>bagus banget beli model merk awet semoga awet terimakasih</td>\n",
       "    </tr>\n",
       "    <tr>\n",
       "      <th>11</th>\n",
       "      <td>joss masuk eko</td>\n",
       "    </tr>\n",
       "    <tr>\n",
       "      <th>12</th>\n",
       "      <td>keren terima kasih</td>\n",
       "    </tr>\n",
       "    <tr>\n",
       "      <th>13</th>\n",
       "      <td>order kalinya model sesuai harapan ukuran sesuai pesanan pas dipakai respon penjual cepat pengiriman cepat puas</td>\n",
       "    </tr>\n",
       "    <tr>\n",
       "      <th>14</th>\n",
       "      <td>barang akui berkualitas pengiriman</td>\n",
       "    </tr>\n",
       "    <tr>\n",
       "      <th>15</th>\n",
       "      <td>top</td>\n",
       "    </tr>\n",
       "    <tr>\n",
       "      <th>16</th>\n",
       "      <td>nyaman kaki design keren pengiriman cepet</td>\n",
       "    </tr>\n",
       "    <tr>\n",
       "      <th>17</th>\n",
       "      <td>pembelian puas mengecewakan pengiriman cepat</td>\n",
       "    </tr>\n",
       "    <tr>\n",
       "      <th>18</th>\n",
       "      <td>mantaaapp kualitas super premium udah nyaman banget desainnya keren finishing rapi stylish dipakai harganya reasonable produk udah bagus banget support produk lokal</td>\n",
       "    </tr>\n",
       "    <tr>\n",
       "      <th>19</th>\n",
       "      <td>barang sesuai pesen pengiriman cepat</td>\n",
       "    </tr>\n",
       "  </tbody>\n",
       "</table>\n",
       "</div>"
      ],
      "text/plain": [
       "                                                                                                                                                                      Ulasan\n",
       "0                                                                                                                                                        nyesel size standar\n",
       "1   udah langganan kemarin beli riku gak cocok jogging jalan pilih osaka aja udah aman noda dikit gak ngaruh dipakai kotorpengemasan pengiriman cepat terimakasih aerostreet\n",
       "2                                                                                                                                                                       nice\n",
       "3             barang diterima sesuai pesanan model keren kualitas bagus pas nyaman dipake seller responsif pengiriman cepat kurir ramah recommended tks aerostreet tks toped\n",
       "4                                                                                                                               barang sesuai deskripsi ukurannya pas mantab\n",
       "5                                                                                                                                                                     thanks\n",
       "6                                                                                                                                                                       good\n",
       "7                                                                               keren pengiriman cepat kalo udah kota terpenting murah harganya bahannya murahan hehe mantap\n",
       "8                                                                                                                                                   beli warna putih nodanya\n",
       "9                                                                                                                                        lumayan bagus sesuai tertera gambar\n",
       "10                                                                                                                 bagus banget beli model merk awet semoga awet terimakasih\n",
       "11                                                                                                                                                            joss masuk eko\n",
       "12                                                                                                                                                        keren terima kasih\n",
       "13                                                           order kalinya model sesuai harapan ukuran sesuai pesanan pas dipakai respon penjual cepat pengiriman cepat puas\n",
       "14                                                                                                                                        barang akui berkualitas pengiriman\n",
       "15                                                                                                                                                                       top\n",
       "16                                                                                                                                 nyaman kaki design keren pengiriman cepet\n",
       "17                                                                                                                              pembelian puas mengecewakan pengiriman cepat\n",
       "18      mantaaapp kualitas super premium udah nyaman banget desainnya keren finishing rapi stylish dipakai harganya reasonable produk udah bagus banget support produk lokal\n",
       "19                                                                                                                                      barang sesuai pesen pengiriman cepat"
      ]
     },
     "execution_count": 7,
     "metadata": {},
     "output_type": "execute_result"
    }
   ],
   "source": [
    "# Membuat fungsi untuk menghapus stopwords menghilangkan emoticon, angka, symbol, tanda baca, dan mengubah menjadi huruf kecil,tokenizer,gabungkan kembali\n",
    "def clean_text(text):\n",
    "    text = re.sub(r'@[A-Za-z0-9]+', '', text)  # Menghapus @mentions\n",
    "    text = re.sub(r'#', '', text)  # Menghapus hashtag\n",
    "    text = re.sub(r'RT[\\s]+', '', text)  # Menghapus RT\n",
    "    text = re.sub(r'https?:\\/\\/\\S+', '', text)  # Menghapus hyperlink\n",
    "    text = re.sub(r'[0-9]+', '', text)  # Menghapus angka\n",
    "    text = re.sub(r'[^\\w\\s]', '', text)  # Menghapus symbol\n",
    "    text = re.sub(r'[^\\x00-\\x7F]+', '', text)  # Menghapus emoticon\n",
    "    text = re.sub(r'\"', '', text)  # Menghapus tanda kutip\n",
    "    # Menghapus kata dengan panjang 1-2 karakter\n",
    "    text = re.sub(r'\\b\\w{1,2}\\b', '', text)\n",
    "    text = re.sub(r'\\s+', ' ', text)  # Menghapus spasi ekstra\n",
    "    text = text.strip()  # Menghapus spasi di awal dan akhir\n",
    "    text = text.lower()  # Mengubah menjadi huruf kecil\n",
    "    \n",
    "    \n",
    "    text = word_tokenize(text)  # Tokenisasi\n",
    "    # Menghapus stopwords\n",
    "    text = [word for word in text if word not in stopwords_list]\n",
    "    text = ' '.join(text)  # Menggabungkan kembali\n",
    "\n",
    "    return text\n",
    "\n",
    "\n",
    "# Menerapkan fungsi clean_text pada kolom ulasan\n",
    "df['Ulasan'] = df['Ulasan'].apply(clean_text)\n",
    "\n",
    "# Menghapus baris yang kosong pada kolom 'Ulasan'\n",
    "df = df[df['Ulasan'].str.strip() != '']\n",
    "\n",
    "# Menampilkan tabel dengan lebar kolom penuh\n",
    "pd.set_option('display.max_colwidth', None)\n",
    "df.head(20)"
   ]
  },
  {
   "cell_type": "code",
   "execution_count": 8,
   "metadata": {},
   "outputs": [],
   "source": [
    "# hasil clean text jadikan csv\n",
    "df.to_csv('dataset/Aerostreet5_clean.csv', index=False)"
   ]
  },
  {
   "cell_type": "code",
   "execution_count": 9,
   "metadata": {},
   "outputs": [
    {
     "data": {
      "text/html": [
       "<div>\n",
       "<style scoped>\n",
       "    .dataframe tbody tr th:only-of-type {\n",
       "        vertical-align: middle;\n",
       "    }\n",
       "\n",
       "    .dataframe tbody tr th {\n",
       "        vertical-align: top;\n",
       "    }\n",
       "\n",
       "    .dataframe thead th {\n",
       "        text-align: right;\n",
       "    }\n",
       "</style>\n",
       "<table border=\"1\" class=\"dataframe\">\n",
       "  <thead>\n",
       "    <tr style=\"text-align: right;\">\n",
       "      <th></th>\n",
       "      <th>Ulasan</th>\n",
       "    </tr>\n",
       "  </thead>\n",
       "  <tbody>\n",
       "    <tr>\n",
       "      <th>0</th>\n",
       "      <td>nyesel size standar</td>\n",
       "    </tr>\n",
       "    <tr>\n",
       "      <th>1</th>\n",
       "      <td>udah langgan kemarin beli riku gak cocok jogging jalan pilih osaka aja udah aman noda dikit gak ngaruh pakai kotorpengemasan kirim cepat terimakasih aerostreet</td>\n",
       "    </tr>\n",
       "    <tr>\n",
       "      <th>2</th>\n",
       "      <td>nice</td>\n",
       "    </tr>\n",
       "    <tr>\n",
       "      <th>3</th>\n",
       "      <td>barang terima sesuai pesan model keren kualitas bagus pas nyaman dipake seller responsif kirim cepat kurir ramah recommended tks aerostreet tks toped</td>\n",
       "    </tr>\n",
       "    <tr>\n",
       "      <th>4</th>\n",
       "      <td>barang sesuai deskripsi ukur pas mantab</td>\n",
       "    </tr>\n",
       "    <tr>\n",
       "      <th>5</th>\n",
       "      <td>thanks</td>\n",
       "    </tr>\n",
       "    <tr>\n",
       "      <th>6</th>\n",
       "      <td>good</td>\n",
       "    </tr>\n",
       "    <tr>\n",
       "      <th>7</th>\n",
       "      <td>keren kirim cepat kalo udah kota penting murah harga bahan murah hehe mantap</td>\n",
       "    </tr>\n",
       "    <tr>\n",
       "      <th>8</th>\n",
       "      <td>beli warna putih noda</td>\n",
       "    </tr>\n",
       "    <tr>\n",
       "      <th>9</th>\n",
       "      <td>lumayan bagus sesuai tera gambar</td>\n",
       "    </tr>\n",
       "    <tr>\n",
       "      <th>10</th>\n",
       "      <td>bagus banget beli model merk awet moga awet terimakasih</td>\n",
       "    </tr>\n",
       "    <tr>\n",
       "      <th>11</th>\n",
       "      <td>joss masuk eko</td>\n",
       "    </tr>\n",
       "    <tr>\n",
       "      <th>12</th>\n",
       "      <td>keren terima kasih</td>\n",
       "    </tr>\n",
       "    <tr>\n",
       "      <th>13</th>\n",
       "      <td>order kali model sesuai harap ukur sesuai pesan pas pakai respon jual cepat kirim cepat puas</td>\n",
       "    </tr>\n",
       "    <tr>\n",
       "      <th>14</th>\n",
       "      <td>barang aku kualitas kirim</td>\n",
       "    </tr>\n",
       "    <tr>\n",
       "      <th>15</th>\n",
       "      <td>top</td>\n",
       "    </tr>\n",
       "    <tr>\n",
       "      <th>16</th>\n",
       "      <td>nyaman kaki design keren kirim cepet</td>\n",
       "    </tr>\n",
       "    <tr>\n",
       "      <th>17</th>\n",
       "      <td>beli puas kecewa kirim cepat</td>\n",
       "    </tr>\n",
       "    <tr>\n",
       "      <th>18</th>\n",
       "      <td>mantaaapp kualitas super premium udah nyaman banget desain keren finishing rapi stylish pakai harga reasonable produk udah bagus banget support produk lokal</td>\n",
       "    </tr>\n",
       "    <tr>\n",
       "      <th>19</th>\n",
       "      <td>barang sesuai sen kirim cepat</td>\n",
       "    </tr>\n",
       "  </tbody>\n",
       "</table>\n",
       "</div>"
      ],
      "text/plain": [
       "                                                                                                                                                             Ulasan\n",
       "0                                                                                                                                               nyesel size standar\n",
       "1   udah langgan kemarin beli riku gak cocok jogging jalan pilih osaka aja udah aman noda dikit gak ngaruh pakai kotorpengemasan kirim cepat terimakasih aerostreet\n",
       "2                                                                                                                                                              nice\n",
       "3             barang terima sesuai pesan model keren kualitas bagus pas nyaman dipake seller responsif kirim cepat kurir ramah recommended tks aerostreet tks toped\n",
       "4                                                                                                                           barang sesuai deskripsi ukur pas mantab\n",
       "5                                                                                                                                                            thanks\n",
       "6                                                                                                                                                              good\n",
       "7                                                                                      keren kirim cepat kalo udah kota penting murah harga bahan murah hehe mantap\n",
       "8                                                                                                                                             beli warna putih noda\n",
       "9                                                                                                                                  lumayan bagus sesuai tera gambar\n",
       "10                                                                                                          bagus banget beli model merk awet moga awet terimakasih\n",
       "11                                                                                                                                                   joss masuk eko\n",
       "12                                                                                                                                               keren terima kasih\n",
       "13                                                                     order kali model sesuai harap ukur sesuai pesan pas pakai respon jual cepat kirim cepat puas\n",
       "14                                                                                                                                        barang aku kualitas kirim\n",
       "15                                                                                                                                                              top\n",
       "16                                                                                                                             nyaman kaki design keren kirim cepet\n",
       "17                                                                                                                                     beli puas kecewa kirim cepat\n",
       "18     mantaaapp kualitas super premium udah nyaman banget desain keren finishing rapi stylish pakai harga reasonable produk udah bagus banget support produk lokal\n",
       "19                                                                                                                                    barang sesuai sen kirim cepat"
      ]
     },
     "execution_count": 9,
     "metadata": {},
     "output_type": "execute_result"
    }
   ],
   "source": [
    "# Setelah cleaning, kita akan melakukan stemming\n",
    "factory = StemmerFactory()\n",
    "stemmer = factory.create_stemmer()\n",
    "\n",
    "def stem_text(text):\n",
    "    return stemmer.stem(text)\n",
    "\n",
    "df['Ulasan'] = df['Ulasan'].apply(stem_text)\n",
    "df.head(20)"
   ]
  },
  {
   "cell_type": "code",
   "execution_count": 10,
   "metadata": {},
   "outputs": [],
   "source": [
    "# simpan ke csv hasil steming\n",
    "df.to_csv('dataset/Aerostreet5_steming.csv', index=False)"
   ]
  },
  {
   "cell_type": "code",
   "execution_count": null,
   "metadata": {},
   "outputs": [],
   "source": []
  }
 ],
 "metadata": {
  "kernelspec": {
   "display_name": "Python 3",
   "language": "python",
   "name": "python3"
  },
  "language_info": {
   "codemirror_mode": {
    "name": "ipython",
    "version": 3
   },
   "file_extension": ".py",
   "mimetype": "text/x-python",
   "name": "python",
   "nbconvert_exporter": "python",
   "pygments_lexer": "ipython3",
   "version": "3.12.0"
  }
 },
 "nbformat": 4,
 "nbformat_minor": 2
}
